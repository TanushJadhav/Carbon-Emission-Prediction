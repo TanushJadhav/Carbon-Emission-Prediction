{
 "cells": [
  {
   "attachments": {},
   "cell_type": "markdown",
   "metadata": {},
   "source": [
    "## Table of Contents\n",
    "* [1.Dataset 1](#Dataset_1)\n",
    "    * [1.1 Data Preprocessing](#1.1-DPL)\n",
    "        * [1.1.1 Working with Null Values](#1.1.1-Working_with_Null_Values)\n",
    "    * [1.2 Exploratory Data Analysis](#1.2-EDAL/PDSL)\n",
    "        * [1.2.1 Visualizing cities having the highest Average Carbon Emissions throughout](#Visualizing_cities_having_the_highest_Average_Carbon_Emissions_throughout)\n",
    "        * [1.2.2 Visualizing cities having the lowest Average Carbon Emissions throughout](#Visualizing_cities_having_the_lowest_Average_Carbon_Emissions_throughout)\n",
    "        * [1.2.4 Visualizing cities having Maximum Carbon Emissions](#Visualizing_cities_having_Maximum_Carbon_Emissions)\n",
    "        * [1.2.5 Visualizing cities having Minimum Carbon Emissions](#Visualizing_cities_having_Minimum_Carbon_Emissions)\n",
    "        * [1.2.6 State wise Visualization](#State_wise_Visualization)\n",
    "* [Dataset 2](#Dataset_2)\n",
    "    * [Data Preprocessing](#2.1-DPL)\n",
    "        * [2.1.1 Dropping Unnecessary Coloumns](#2.1.1-Dropping_columns)\n",
    "        * [2.2.2 Working with Null Values](#2.1.2-Working_with_Null_Values)\n",
    "    * [Exploratory Data Analysis & Python for Data Science](#2.2-EDAL/PDSL)"
   ]
  },
  {
   "attachments": {},
   "cell_type": "markdown",
   "metadata": {},
   "source": [
    "# Dataset_1\n",
    ">This Dataset consists of the Average, Maximum and Minimum Carbon Emissions of the most important cities of each state in India"
   ]
  },
  {
   "cell_type": "code",
   "execution_count": 1,
   "metadata": {},
   "outputs": [],
   "source": [
    "import pandas as pd"
   ]
  },
  {
   "cell_type": "code",
   "execution_count": 2,
   "metadata": {},
   "outputs": [],
   "source": [
    "ds1 = pd.read_csv(\"CO_India.csv\")"
   ]
  },
  {
   "cell_type": "code",
   "execution_count": 3,
   "metadata": {},
   "outputs": [
    {
     "data": {
      "text/plain": [
       "State        object\n",
       "City         object\n",
       "Avg(ppb)    float64\n",
       "Max(ppb)    float64\n",
       "Min(ppb)    float64\n",
       "dtype: object"
      ]
     },
     "execution_count": 3,
     "metadata": {},
     "output_type": "execute_result"
    }
   ],
   "source": [
    "ds1.dtypes"
   ]
  },
  {
   "cell_type": "code",
   "execution_count": 4,
   "metadata": {},
   "outputs": [
    {
     "data": {
      "text/html": [
       "<div>\n",
       "<style scoped>\n",
       "    .dataframe tbody tr th:only-of-type {\n",
       "        vertical-align: middle;\n",
       "    }\n",
       "\n",
       "    .dataframe tbody tr th {\n",
       "        vertical-align: top;\n",
       "    }\n",
       "\n",
       "    .dataframe thead th {\n",
       "        text-align: right;\n",
       "    }\n",
       "</style>\n",
       "<table border=\"1\" class=\"dataframe\">\n",
       "  <thead>\n",
       "    <tr style=\"text-align: right;\">\n",
       "      <th></th>\n",
       "      <th>State</th>\n",
       "      <th>City</th>\n",
       "      <th>Avg(ppb)</th>\n",
       "      <th>Max(ppb)</th>\n",
       "      <th>Min(ppb)</th>\n",
       "    </tr>\n",
       "  </thead>\n",
       "  <tbody>\n",
       "    <tr>\n",
       "      <th>0</th>\n",
       "      <td>Andhra_Pradesh</td>\n",
       "      <td>Amaravati</td>\n",
       "      <td>28.0</td>\n",
       "      <td>30.0</td>\n",
       "      <td>13.0</td>\n",
       "    </tr>\n",
       "    <tr>\n",
       "      <th>1</th>\n",
       "      <td>Andhra_Pradesh</td>\n",
       "      <td>Rajamahendravaram</td>\n",
       "      <td>23.0</td>\n",
       "      <td>46.0</td>\n",
       "      <td>2.0</td>\n",
       "    </tr>\n",
       "    <tr>\n",
       "      <th>2</th>\n",
       "      <td>Andhra_Pradesh</td>\n",
       "      <td>Tirupati</td>\n",
       "      <td>41.0</td>\n",
       "      <td>54.0</td>\n",
       "      <td>38.0</td>\n",
       "    </tr>\n",
       "    <tr>\n",
       "      <th>3</th>\n",
       "      <td>Andhra_Pradesh</td>\n",
       "      <td>Visakhapatnam</td>\n",
       "      <td>20.0</td>\n",
       "      <td>92.0</td>\n",
       "      <td>4.0</td>\n",
       "    </tr>\n",
       "    <tr>\n",
       "      <th>4</th>\n",
       "      <td>Assam</td>\n",
       "      <td>Guwahati</td>\n",
       "      <td>42.0</td>\n",
       "      <td>86.0</td>\n",
       "      <td>10.0</td>\n",
       "    </tr>\n",
       "    <tr>\n",
       "      <th>5</th>\n",
       "      <td>Bihar</td>\n",
       "      <td>Aurangabad</td>\n",
       "      <td>NaN</td>\n",
       "      <td>NaN</td>\n",
       "      <td>NaN</td>\n",
       "    </tr>\n",
       "  </tbody>\n",
       "</table>\n",
       "</div>"
      ],
      "text/plain": [
       "            State               City  Avg(ppb)  Max(ppb)  Min(ppb)\n",
       "0  Andhra_Pradesh          Amaravati      28.0      30.0      13.0\n",
       "1  Andhra_Pradesh  Rajamahendravaram      23.0      46.0       2.0\n",
       "2  Andhra_Pradesh           Tirupati      41.0      54.0      38.0\n",
       "3  Andhra_Pradesh      Visakhapatnam      20.0      92.0       4.0\n",
       "4           Assam           Guwahati      42.0      86.0      10.0\n",
       "5           Bihar         Aurangabad       NaN       NaN       NaN"
      ]
     },
     "execution_count": 4,
     "metadata": {},
     "output_type": "execute_result"
    }
   ],
   "source": [
    "ds1.head(6)"
   ]
  },
  {
   "cell_type": "code",
   "execution_count": 5,
   "metadata": {},
   "outputs": [
    {
     "data": {
      "text/html": [
       "<div>\n",
       "<style scoped>\n",
       "    .dataframe tbody tr th:only-of-type {\n",
       "        vertical-align: middle;\n",
       "    }\n",
       "\n",
       "    .dataframe tbody tr th {\n",
       "        vertical-align: top;\n",
       "    }\n",
       "\n",
       "    .dataframe thead th {\n",
       "        text-align: right;\n",
       "    }\n",
       "</style>\n",
       "<table border=\"1\" class=\"dataframe\">\n",
       "  <thead>\n",
       "    <tr style=\"text-align: right;\">\n",
       "      <th></th>\n",
       "      <th>Avg(ppb)</th>\n",
       "      <th>Max(ppb)</th>\n",
       "      <th>Min(ppb)</th>\n",
       "    </tr>\n",
       "  </thead>\n",
       "  <tbody>\n",
       "    <tr>\n",
       "      <th>Avg(ppb)</th>\n",
       "      <td>1.000000</td>\n",
       "      <td>0.796220</td>\n",
       "      <td>0.583442</td>\n",
       "    </tr>\n",
       "    <tr>\n",
       "      <th>Max(ppb)</th>\n",
       "      <td>0.796220</td>\n",
       "      <td>1.000000</td>\n",
       "      <td>0.357921</td>\n",
       "    </tr>\n",
       "    <tr>\n",
       "      <th>Min(ppb)</th>\n",
       "      <td>0.583442</td>\n",
       "      <td>0.357921</td>\n",
       "      <td>1.000000</td>\n",
       "    </tr>\n",
       "  </tbody>\n",
       "</table>\n",
       "</div>"
      ],
      "text/plain": [
       "          Avg(ppb)  Max(ppb)  Min(ppb)\n",
       "Avg(ppb)  1.000000  0.796220  0.583442\n",
       "Max(ppb)  0.796220  1.000000  0.357921\n",
       "Min(ppb)  0.583442  0.357921  1.000000"
      ]
     },
     "execution_count": 5,
     "metadata": {},
     "output_type": "execute_result"
    }
   ],
   "source": [
    "ds1.corr()"
   ]
  },
  {
   "cell_type": "code",
   "execution_count": 6,
   "metadata": {},
   "outputs": [
    {
     "data": {
      "text/html": [
       "<div>\n",
       "<style scoped>\n",
       "    .dataframe tbody tr th:only-of-type {\n",
       "        vertical-align: middle;\n",
       "    }\n",
       "\n",
       "    .dataframe tbody tr th {\n",
       "        vertical-align: top;\n",
       "    }\n",
       "\n",
       "    .dataframe thead th {\n",
       "        text-align: right;\n",
       "    }\n",
       "</style>\n",
       "<table border=\"1\" class=\"dataframe\">\n",
       "  <thead>\n",
       "    <tr style=\"text-align: right;\">\n",
       "      <th></th>\n",
       "      <th>Avg(ppb)</th>\n",
       "      <th>Max(ppb)</th>\n",
       "      <th>Min(ppb)</th>\n",
       "    </tr>\n",
       "  </thead>\n",
       "  <tbody>\n",
       "    <tr>\n",
       "      <th>count</th>\n",
       "      <td>137.00000</td>\n",
       "      <td>138.000000</td>\n",
       "      <td>135.000000</td>\n",
       "    </tr>\n",
       "    <tr>\n",
       "      <th>mean</th>\n",
       "      <td>54.20438</td>\n",
       "      <td>83.500000</td>\n",
       "      <td>25.200000</td>\n",
       "    </tr>\n",
       "    <tr>\n",
       "      <th>std</th>\n",
       "      <td>30.30049</td>\n",
       "      <td>40.930821</td>\n",
       "      <td>23.009018</td>\n",
       "    </tr>\n",
       "    <tr>\n",
       "      <th>min</th>\n",
       "      <td>3.00000</td>\n",
       "      <td>6.000000</td>\n",
       "      <td>1.000000</td>\n",
       "    </tr>\n",
       "    <tr>\n",
       "      <th>25%</th>\n",
       "      <td>32.00000</td>\n",
       "      <td>52.000000</td>\n",
       "      <td>10.000000</td>\n",
       "    </tr>\n",
       "    <tr>\n",
       "      <th>50%</th>\n",
       "      <td>49.00000</td>\n",
       "      <td>82.000000</td>\n",
       "      <td>19.000000</td>\n",
       "    </tr>\n",
       "    <tr>\n",
       "      <th>75%</th>\n",
       "      <td>71.00000</td>\n",
       "      <td>111.000000</td>\n",
       "      <td>33.000000</td>\n",
       "    </tr>\n",
       "    <tr>\n",
       "      <th>max</th>\n",
       "      <td>152.00000</td>\n",
       "      <td>194.000000</td>\n",
       "      <td>110.000000</td>\n",
       "    </tr>\n",
       "  </tbody>\n",
       "</table>\n",
       "</div>"
      ],
      "text/plain": [
       "        Avg(ppb)    Max(ppb)    Min(ppb)\n",
       "count  137.00000  138.000000  135.000000\n",
       "mean    54.20438   83.500000   25.200000\n",
       "std     30.30049   40.930821   23.009018\n",
       "min      3.00000    6.000000    1.000000\n",
       "25%     32.00000   52.000000   10.000000\n",
       "50%     49.00000   82.000000   19.000000\n",
       "75%     71.00000  111.000000   33.000000\n",
       "max    152.00000  194.000000  110.000000"
      ]
     },
     "execution_count": 6,
     "metadata": {},
     "output_type": "execute_result"
    }
   ],
   "source": [
    "ds1.describe()"
   ]
  },
  {
   "attachments": {},
   "cell_type": "markdown",
   "metadata": {},
   "source": [
    "## 1.1-DPL\n"
   ]
  },
  {
   "cell_type": "code",
   "execution_count": 7,
   "metadata": {},
   "outputs": [
    {
     "data": {
      "text/plain": [
       "State\n",
       "Andhra_Pradesh       4\n",
       "Assam                1\n",
       "Bihar               14\n",
       "Chandigarh           1\n",
       "Chhattisgarh         1\n",
       "Delhi                1\n",
       "Gujarat              5\n",
       "Haryana             21\n",
       "Himachal Pradesh     1\n",
       "Karnataka           18\n",
       "Kerala               8\n",
       "Madhya Pradesh      13\n",
       "Maharashtra          9\n",
       "Manipur              1\n",
       "Meghalaya            1\n",
       "Mizoram              1\n",
       "Nagaland             1\n",
       "Odisha               2\n",
       "Puducherry           1\n",
       "Punjab               8\n",
       "Rajasthan            8\n",
       "TamilNadu            3\n",
       "Telangana            1\n",
       "Tripura              1\n",
       "Uttar_Pradesh       17\n",
       "Uttarakhand          1\n",
       "West_Bengal          5\n",
       "Name: City, dtype: int64"
      ]
     },
     "execution_count": 7,
     "metadata": {},
     "output_type": "execute_result"
    }
   ],
   "source": [
    "#To check the number of cities in each state\n",
    "state = ds1.groupby('State').count()\n",
    "state['City']"
   ]
  },
  {
   "cell_type": "code",
   "execution_count": 8,
   "metadata": {},
   "outputs": [
    {
     "data": {
      "text/plain": [
       "State        0\n",
       "City         0\n",
       "Avg(ppb)    11\n",
       "Max(ppb)    10\n",
       "Min(ppb)    13\n",
       "dtype: int64"
      ]
     },
     "execution_count": 8,
     "metadata": {},
     "output_type": "execute_result"
    }
   ],
   "source": [
    "#Check the number of null values in each column\n",
    "ds1.isna().sum()"
   ]
  },
  {
   "attachments": {},
   "cell_type": "markdown",
   "metadata": {},
   "source": [
    "#### 1.1.1-Working_with_Null_Values"
   ]
  },
  {
   "cell_type": "code",
   "execution_count": 9,
   "metadata": {},
   "outputs": [],
   "source": [
    "import numpy as np"
   ]
  },
  {
   "cell_type": "code",
   "execution_count": 10,
   "metadata": {},
   "outputs": [
    {
     "name": "stdout",
     "output_type": "stream",
     "text": [
      "State       11\n",
      "City        11\n",
      "Avg(ppb)    11\n",
      "dtype: int64\n"
     ]
    },
    {
     "name": "stderr",
     "output_type": "stream",
     "text": [
      "C:\\Users\\tanus\\AppData\\Local\\Temp\\ipykernel_17528\\1128046468.py:6: SettingWithCopyWarning: \n",
      "A value is trying to be set on a copy of a slice from a DataFrame\n",
      "\n",
      "See the caveats in the documentation: https://pandas.pydata.org/pandas-docs/stable/user_guide/indexing.html#returning-a-view-versus-a-copy\n",
      "  data1.drop('Max(ppb)', axis=1, inplace=True)\n",
      "C:\\Users\\tanus\\AppData\\Local\\Temp\\ipykernel_17528\\1128046468.py:7: SettingWithCopyWarning: \n",
      "A value is trying to be set on a copy of a slice from a DataFrame\n",
      "\n",
      "See the caveats in the documentation: https://pandas.pydata.org/pandas-docs/stable/user_guide/indexing.html#returning-a-view-versus-a-copy\n",
      "  data1.drop('Min(ppb)', axis=1, inplace=True)\n"
     ]
    },
    {
     "data": {
      "text/html": [
       "<div>\n",
       "<style scoped>\n",
       "    .dataframe tbody tr th:only-of-type {\n",
       "        vertical-align: middle;\n",
       "    }\n",
       "\n",
       "    .dataframe tbody tr th {\n",
       "        vertical-align: top;\n",
       "    }\n",
       "\n",
       "    .dataframe thead th {\n",
       "        text-align: right;\n",
       "    }\n",
       "</style>\n",
       "<table border=\"1\" class=\"dataframe\">\n",
       "  <thead>\n",
       "    <tr style=\"text-align: right;\">\n",
       "      <th></th>\n",
       "      <th>State</th>\n",
       "      <th>City</th>\n",
       "      <th>Avg(ppb)</th>\n",
       "    </tr>\n",
       "  </thead>\n",
       "  <tbody>\n",
       "    <tr>\n",
       "      <th>5</th>\n",
       "      <td>Bihar</td>\n",
       "      <td>Aurangabad</td>\n",
       "      <td>null</td>\n",
       "    </tr>\n",
       "    <tr>\n",
       "      <th>13</th>\n",
       "      <td>Bihar</td>\n",
       "      <td>Manguraha</td>\n",
       "      <td>null</td>\n",
       "    </tr>\n",
       "    <tr>\n",
       "      <th>25</th>\n",
       "      <td>Gujarat</td>\n",
       "      <td>Vapi</td>\n",
       "      <td>null</td>\n",
       "    </tr>\n",
       "    <tr>\n",
       "      <th>49</th>\n",
       "      <td>Karnataka</td>\n",
       "      <td>Bagalkot</td>\n",
       "      <td>null</td>\n",
       "    </tr>\n",
       "    <tr>\n",
       "      <th>51</th>\n",
       "      <td>Karnataka</td>\n",
       "      <td>Bidar</td>\n",
       "      <td>null</td>\n",
       "    </tr>\n",
       "    <tr>\n",
       "      <th>58</th>\n",
       "      <td>Karnataka</td>\n",
       "      <td>Haveri</td>\n",
       "      <td>null</td>\n",
       "    </tr>\n",
       "    <tr>\n",
       "      <th>60</th>\n",
       "      <td>Karnataka</td>\n",
       "      <td>Kalaburgi</td>\n",
       "      <td>null</td>\n",
       "    </tr>\n",
       "    <tr>\n",
       "      <th>75</th>\n",
       "      <td>Madhya Pradesh</td>\n",
       "      <td>Bhopal</td>\n",
       "      <td>null</td>\n",
       "    </tr>\n",
       "    <tr>\n",
       "      <th>84</th>\n",
       "      <td>Madhya Pradesh</td>\n",
       "      <td>Sagar</td>\n",
       "      <td>null</td>\n",
       "    </tr>\n",
       "    <tr>\n",
       "      <th>93</th>\n",
       "      <td>Maharashtra</td>\n",
       "      <td>Nashik</td>\n",
       "      <td>null</td>\n",
       "    </tr>\n",
       "    <tr>\n",
       "      <th>113</th>\n",
       "      <td>Rajasthan</td>\n",
       "      <td>Alwar</td>\n",
       "      <td>null</td>\n",
       "    </tr>\n",
       "  </tbody>\n",
       "</table>\n",
       "</div>"
      ],
      "text/plain": [
       "              State        City Avg(ppb)\n",
       "5             Bihar  Aurangabad     null\n",
       "13            Bihar   Manguraha     null\n",
       "25          Gujarat        Vapi     null\n",
       "49        Karnataka    Bagalkot     null\n",
       "51        Karnataka       Bidar     null\n",
       "58        Karnataka      Haveri     null\n",
       "60        Karnataka   Kalaburgi     null\n",
       "75   Madhya Pradesh      Bhopal     null\n",
       "84   Madhya Pradesh       Sagar     null\n",
       "93      Maharashtra      Nashik     null\n",
       "113       Rajasthan       Alwar     null"
      ]
     },
     "execution_count": 10,
     "metadata": {},
     "output_type": "execute_result"
    }
   ],
   "source": [
    "#Locating Null Values in Avg(ppb) column\n",
    "\n",
    "ds1.replace(np.nan, 'null', inplace=True)\n",
    "\n",
    "data1 = ds1.loc[ds1[\"Avg(ppb)\"]=='null']\n",
    "data1.drop('Max(ppb)', axis=1, inplace=True)\n",
    "data1.drop('Min(ppb)', axis=1, inplace=True)\n",
    "\n",
    "ds1.replace('null', np.nan, inplace=True)\n",
    "\n",
    "print(data1.count())\n",
    "data1\n"
   ]
  },
  {
   "cell_type": "code",
   "execution_count": 11,
   "metadata": {
    "scrolled": true
   },
   "outputs": [
    {
     "name": "stdout",
     "output_type": "stream",
     "text": [
      "    State          City  Avg(ppb)  Max(ppb)  Min(ppb)\n",
      "5   Bihar    Aurangabad       NaN       NaN       NaN\n",
      "6   Bihar     Begusarai      54.0      74.0      51.0\n",
      "7   Bihar       Bettiah      42.0      48.0      30.0\n",
      "8   Bihar  Bihar Sharif      31.0      36.0      22.0\n",
      "9   Bihar         Buxar      76.0      82.0      35.0\n",
      "10  Bihar     Darbhanga      61.0      87.0      55.0\n",
      "11  Bihar          Gaya      47.0      84.0      24.0\n",
      "12  Bihar       Hajipur      33.0      43.0      14.0\n",
      "13  Bihar     Manguraha       NaN       NaN       NaN\n",
      "14  Bihar      Motihari      64.0      85.0      52.0\n",
      "15  Bihar   Muzaffarpur      94.0     115.0      44.0\n",
      "16  Bihar         Patna      74.0     107.0      63.0\n",
      "17  Bihar        Purnia      34.0      58.0      21.0\n",
      "18  Bihar        Rajgir      68.0      76.0      48.0\n",
      "      State         City  Avg(ppb)  Max(ppb)  Min(ppb)\n",
      "22  Gujarat    Ahmedabad      43.0     107.0      32.0\n",
      "23  Gujarat   Ankleshwar      82.0     116.0      60.0\n",
      "24  Gujarat  Gandhinagar      49.0      98.0      34.0\n",
      "25  Gujarat         Vapi       NaN       NaN       NaN\n",
      "26  Gujarat        Vatva      34.0      42.0      20.0\n",
      "        State            City  Avg(ppb)  Max(ppb)  Min(ppb)\n",
      "49  Karnataka        Bagalkot       NaN       NaN       NaN\n",
      "50  Karnataka       Bengaluru      44.0     102.0      10.0\n",
      "51  Karnataka           Bidar       NaN       NaN       NaN\n",
      "52  Karnataka  Chamarajanagar      14.0      31.0      14.0\n",
      "53  Karnataka  Chikkaballapur      30.0      31.0      27.0\n",
      "54  Karnataka  Chikkamagaluru      28.0      47.0      26.0\n",
      "55  Karnataka      Davanagere      24.0      32.0      23.0\n",
      "56  Karnataka           Gadag      18.0      24.0      17.0\n",
      "57  Karnataka          Hassan      17.0      36.0      12.0\n",
      "58  Karnataka          Haveri       NaN       NaN       NaN\n",
      "59  Karnataka        Hubballi      58.0      76.0      48.0\n",
      "60  Karnataka       Kalaburgi       NaN       NaN       NaN\n",
      "61  Karnataka        Madikeri      17.0      19.0      16.0\n",
      "62  Karnataka        Manglore      60.0      62.0      58.0\n",
      "63  Karnataka          Mysuru       3.0      45.0       1.0\n",
      "64  Karnataka         Raichur      44.0      78.0      39.0\n",
      "65  Karnataka      Ramanagara      16.0      24.0       3.0\n",
      "66  Karnataka      Vijayapura      35.0     111.0      26.0\n",
      "             State       City  Avg(ppb)  Max(ppb)  Min(ppb)\n",
      "75  Madhya Pradesh     Bhopal       NaN      63.0      19.0\n",
      "76  Madhya Pradesh      Damoh      10.0      12.0      10.0\n",
      "77  Madhya Pradesh      Dewas      40.0      61.0      20.0\n",
      "78  Madhya Pradesh    Gwalior      61.0     105.0      11.0\n",
      "79  Madhya Pradesh     Indore      34.0     110.0      14.0\n",
      "80  Madhya Pradesh   Jabalpur      58.0     161.0       4.0\n",
      "81  Madhya Pradesh      Katni      83.0     127.0      23.0\n",
      "82  Madhya Pradesh  Mandideep      39.0      52.0       9.0\n",
      "83  Madhya Pradesh  Pithampur      57.0      72.0      39.0\n",
      "84  Madhya Pradesh      Sagar       NaN       NaN       NaN\n",
      "85  Madhya Pradesh      Satna      11.0      11.0      11.0\n",
      "86  Madhya Pradesh  Singrauli      87.0     108.0      16.0\n",
      "87  Madhya Pradesh     Ujjain      32.0      36.0      15.0\n",
      "          State         City  Avg(ppb)  Max(ppb)  Min(ppb)\n",
      "88  Maharashtra   Aurangabad      42.0     106.0       9.0\n",
      "89  Maharashtra   Chandrapur      63.0      91.0      38.0\n",
      "90  Maharashtra       Kalyan      48.0     116.0       1.0\n",
      "91  Maharashtra       Mumbai     101.0     108.0      99.0\n",
      "92  Maharashtra       Nagpur      40.0      69.0      33.0\n",
      "93  Maharashtra       Nashik       NaN       NaN       NaN\n",
      "94  Maharashtra  Navi Mumbai      72.0     104.0      66.0\n",
      "95  Maharashtra         Pune     112.0     119.0     110.0\n",
      "96  Maharashtra      Solapur      84.0      84.0      57.0\n",
      "         State     City  Avg(ppb)  Max(ppb)  Min(ppb)\n",
      "112  Rajasthan    Ajmer      12.0      58.0       5.0\n",
      "113  Rajasthan    Alwar       NaN     106.0       6.0\n",
      "114  Rajasthan  Bhiwadi      45.0      69.0       9.0\n",
      "115  Rajasthan   Jaipur     102.0     194.0     102.0\n",
      "116  Rajasthan  Jodhpur      23.0      61.0       6.0\n",
      "117  Rajasthan     Kota      54.0      82.0      13.0\n",
      "118  Rajasthan     Pali      42.0      72.0      24.0\n",
      "119  Rajasthan  Udaipur      27.0     132.0      19.0\n"
     ]
    }
   ],
   "source": [
    "state = ds1.groupby(ds1.State)\n",
    "\n",
    "br = state.get_group('Bihar')\n",
    "gj = state.get_group('Gujarat')\n",
    "ka = state.get_group('Karnataka')\n",
    "mp = state.get_group('Madhya Pradesh')\n",
    "mh = state.get_group('Maharashtra')\n",
    "rj = state.get_group('Rajasthan')\n",
    "\n",
    "print(f\"{br}\\n{gj}\\n{ka}\\n{mp}\\n{mh}\\n{rj}\")"
   ]
  },
  {
   "cell_type": "code",
   "execution_count": 12,
   "metadata": {},
   "outputs": [
    {
     "name": "stderr",
     "output_type": "stream",
     "text": [
      "C:\\Users\\tanus\\AppData\\Local\\Temp\\ipykernel_17528\\3031013574.py:2: SettingWithCopyWarning: \n",
      "A value is trying to be set on a copy of a slice from a DataFrame\n",
      "\n",
      "See the caveats in the documentation: https://pandas.pydata.org/pandas-docs/stable/user_guide/indexing.html#returning-a-view-versus-a-copy\n",
      "  ds1.loc[5:18]['Avg(ppb)'].fillna(value=br['Avg(ppb)'].mean(), inplace=True)\n",
      "C:\\Users\\tanus\\AppData\\Local\\Temp\\ipykernel_17528\\3031013574.py:5: SettingWithCopyWarning: \n",
      "A value is trying to be set on a copy of a slice from a DataFrame\n",
      "\n",
      "See the caveats in the documentation: https://pandas.pydata.org/pandas-docs/stable/user_guide/indexing.html#returning-a-view-versus-a-copy\n",
      "  ds1.loc[22:26]['Avg(ppb)'].fillna(value=gj['Avg(ppb)'].mean(), inplace=True)\n",
      "C:\\Users\\tanus\\AppData\\Local\\Temp\\ipykernel_17528\\3031013574.py:8: SettingWithCopyWarning: \n",
      "A value is trying to be set on a copy of a slice from a DataFrame\n",
      "\n",
      "See the caveats in the documentation: https://pandas.pydata.org/pandas-docs/stable/user_guide/indexing.html#returning-a-view-versus-a-copy\n",
      "  ds1.loc[49:66]['Avg(ppb)'].fillna(value=ka['Avg(ppb)'].mean(), inplace=True)\n",
      "C:\\Users\\tanus\\AppData\\Local\\Temp\\ipykernel_17528\\3031013574.py:11: SettingWithCopyWarning: \n",
      "A value is trying to be set on a copy of a slice from a DataFrame\n",
      "\n",
      "See the caveats in the documentation: https://pandas.pydata.org/pandas-docs/stable/user_guide/indexing.html#returning-a-view-versus-a-copy\n",
      "  ds1.loc[75:87]['Avg(ppb)'].fillna(value=mp['Avg(ppb)'].mean(), inplace=True)\n",
      "C:\\Users\\tanus\\AppData\\Local\\Temp\\ipykernel_17528\\3031013574.py:14: SettingWithCopyWarning: \n",
      "A value is trying to be set on a copy of a slice from a DataFrame\n",
      "\n",
      "See the caveats in the documentation: https://pandas.pydata.org/pandas-docs/stable/user_guide/indexing.html#returning-a-view-versus-a-copy\n",
      "  ds1.loc[88:96]['Avg(ppb)'].fillna(value=mh['Avg(ppb)'].mean(), inplace=True)\n",
      "C:\\Users\\tanus\\AppData\\Local\\Temp\\ipykernel_17528\\3031013574.py:17: SettingWithCopyWarning: \n",
      "A value is trying to be set on a copy of a slice from a DataFrame\n",
      "\n",
      "See the caveats in the documentation: https://pandas.pydata.org/pandas-docs/stable/user_guide/indexing.html#returning-a-view-versus-a-copy\n",
      "  ds1.loc[112:119]['Avg(ppb)'].fillna(value=rj['Avg(ppb)'].mean(), inplace=True)\n"
     ]
    }
   ],
   "source": [
    "#Filling Null values in Avg(ppb) in State of BIHAR\n",
    "ds1.loc[5:18]['Avg(ppb)'].fillna(value=br['Avg(ppb)'].mean(), inplace=True)\n",
    "\n",
    "#Filling Null values in Avg(ppb) in State of GUJRAT\n",
    "ds1.loc[22:26]['Avg(ppb)'].fillna(value=gj['Avg(ppb)'].mean(), inplace=True)\n",
    "\n",
    "#Filling Null values in Avg(ppb) in State of KARNATAKA\n",
    "ds1.loc[49:66]['Avg(ppb)'].fillna(value=ka['Avg(ppb)'].mean(), inplace=True)\n",
    "\n",
    "#Filling Null values in Avg(ppb) in State of MADHYA PRADESH\n",
    "ds1.loc[75:87]['Avg(ppb)'].fillna(value=mp['Avg(ppb)'].mean(), inplace=True)\n",
    "\n",
    "#Filling Null values in Avg(ppb) in State of MAHARASHTRA\n",
    "ds1.loc[88:96]['Avg(ppb)'].fillna(value=mh['Avg(ppb)'].mean(), inplace=True)\n",
    "\n",
    "#Filling Null values in Avg(ppb) in State of RAJASTHAN\n",
    "ds1.loc[112:119]['Avg(ppb)'].fillna(value=rj['Avg(ppb)'].mean(), inplace=True)"
   ]
  },
  {
   "cell_type": "code",
   "execution_count": 13,
   "metadata": {},
   "outputs": [
    {
     "name": "stdout",
     "output_type": "stream",
     "text": [
      "State       10\n",
      "City        10\n",
      "Max(ppb)    10\n",
      "dtype: int64\n"
     ]
    },
    {
     "name": "stderr",
     "output_type": "stream",
     "text": [
      "C:\\Users\\tanus\\AppData\\Local\\Temp\\ipykernel_17528\\2686801761.py:6: SettingWithCopyWarning: \n",
      "A value is trying to be set on a copy of a slice from a DataFrame\n",
      "\n",
      "See the caveats in the documentation: https://pandas.pydata.org/pandas-docs/stable/user_guide/indexing.html#returning-a-view-versus-a-copy\n",
      "  data2.drop('Avg(ppb)', axis=1, inplace=True)\n",
      "C:\\Users\\tanus\\AppData\\Local\\Temp\\ipykernel_17528\\2686801761.py:7: SettingWithCopyWarning: \n",
      "A value is trying to be set on a copy of a slice from a DataFrame\n",
      "\n",
      "See the caveats in the documentation: https://pandas.pydata.org/pandas-docs/stable/user_guide/indexing.html#returning-a-view-versus-a-copy\n",
      "  data2.drop('Min(ppb)', axis=1, inplace=True)\n"
     ]
    },
    {
     "data": {
      "text/html": [
       "<div>\n",
       "<style scoped>\n",
       "    .dataframe tbody tr th:only-of-type {\n",
       "        vertical-align: middle;\n",
       "    }\n",
       "\n",
       "    .dataframe tbody tr th {\n",
       "        vertical-align: top;\n",
       "    }\n",
       "\n",
       "    .dataframe thead th {\n",
       "        text-align: right;\n",
       "    }\n",
       "</style>\n",
       "<table border=\"1\" class=\"dataframe\">\n",
       "  <thead>\n",
       "    <tr style=\"text-align: right;\">\n",
       "      <th></th>\n",
       "      <th>State</th>\n",
       "      <th>City</th>\n",
       "      <th>Max(ppb)</th>\n",
       "    </tr>\n",
       "  </thead>\n",
       "  <tbody>\n",
       "    <tr>\n",
       "      <th>5</th>\n",
       "      <td>Bihar</td>\n",
       "      <td>Aurangabad</td>\n",
       "      <td>null</td>\n",
       "    </tr>\n",
       "    <tr>\n",
       "      <th>13</th>\n",
       "      <td>Bihar</td>\n",
       "      <td>Manguraha</td>\n",
       "      <td>null</td>\n",
       "    </tr>\n",
       "    <tr>\n",
       "      <th>25</th>\n",
       "      <td>Gujarat</td>\n",
       "      <td>Vapi</td>\n",
       "      <td>null</td>\n",
       "    </tr>\n",
       "    <tr>\n",
       "      <th>49</th>\n",
       "      <td>Karnataka</td>\n",
       "      <td>Bagalkot</td>\n",
       "      <td>null</td>\n",
       "    </tr>\n",
       "    <tr>\n",
       "      <th>51</th>\n",
       "      <td>Karnataka</td>\n",
       "      <td>Bidar</td>\n",
       "      <td>null</td>\n",
       "    </tr>\n",
       "    <tr>\n",
       "      <th>58</th>\n",
       "      <td>Karnataka</td>\n",
       "      <td>Haveri</td>\n",
       "      <td>null</td>\n",
       "    </tr>\n",
       "    <tr>\n",
       "      <th>60</th>\n",
       "      <td>Karnataka</td>\n",
       "      <td>Kalaburgi</td>\n",
       "      <td>null</td>\n",
       "    </tr>\n",
       "    <tr>\n",
       "      <th>84</th>\n",
       "      <td>Madhya Pradesh</td>\n",
       "      <td>Sagar</td>\n",
       "      <td>null</td>\n",
       "    </tr>\n",
       "    <tr>\n",
       "      <th>93</th>\n",
       "      <td>Maharashtra</td>\n",
       "      <td>Nashik</td>\n",
       "      <td>null</td>\n",
       "    </tr>\n",
       "    <tr>\n",
       "      <th>101</th>\n",
       "      <td>Odisha</td>\n",
       "      <td>Brajrajnagar</td>\n",
       "      <td>null</td>\n",
       "    </tr>\n",
       "  </tbody>\n",
       "</table>\n",
       "</div>"
      ],
      "text/plain": [
       "              State          City Max(ppb)\n",
       "5             Bihar    Aurangabad     null\n",
       "13            Bihar     Manguraha     null\n",
       "25          Gujarat          Vapi     null\n",
       "49        Karnataka      Bagalkot     null\n",
       "51        Karnataka         Bidar     null\n",
       "58        Karnataka        Haveri     null\n",
       "60        Karnataka     Kalaburgi     null\n",
       "84   Madhya Pradesh         Sagar     null\n",
       "93      Maharashtra        Nashik     null\n",
       "101          Odisha  Brajrajnagar     null"
      ]
     },
     "execution_count": 13,
     "metadata": {},
     "output_type": "execute_result"
    }
   ],
   "source": [
    "#Locating Null Values in Max(ppb) column\n",
    "\n",
    "ds1.replace(np.nan, 'null', inplace=True)\n",
    "\n",
    "data2 = ds1.loc[ds1[\"Max(ppb)\"]=='null']\n",
    "data2.drop('Avg(ppb)', axis=1, inplace=True)\n",
    "data2.drop('Min(ppb)', axis=1, inplace=True)\n",
    "\n",
    "ds1.replace('null', np.nan, inplace=True)\n",
    "\n",
    "print(data2.count())\n",
    "data2\n"
   ]
  },
  {
   "cell_type": "code",
   "execution_count": 14,
   "metadata": {},
   "outputs": [
    {
     "name": "stdout",
     "output_type": "stream",
     "text": [
      "    State          City  Avg(ppb)  Max(ppb)  Min(ppb)\n",
      "5   Bihar    Aurangabad      56.5       NaN       NaN\n",
      "6   Bihar     Begusarai      54.0      74.0      51.0\n",
      "7   Bihar       Bettiah      42.0      48.0      30.0\n",
      "8   Bihar  Bihar Sharif      31.0      36.0      22.0\n",
      "9   Bihar         Buxar      76.0      82.0      35.0\n",
      "10  Bihar     Darbhanga      61.0      87.0      55.0\n",
      "11  Bihar          Gaya      47.0      84.0      24.0\n",
      "12  Bihar       Hajipur      33.0      43.0      14.0\n",
      "13  Bihar     Manguraha      56.5       NaN       NaN\n",
      "14  Bihar      Motihari      64.0      85.0      52.0\n",
      "15  Bihar   Muzaffarpur      94.0     115.0      44.0\n",
      "16  Bihar         Patna      74.0     107.0      63.0\n",
      "17  Bihar        Purnia      34.0      58.0      21.0\n",
      "18  Bihar        Rajgir      68.0      76.0      48.0\n",
      "      State         City  Avg(ppb)  Max(ppb)  Min(ppb)\n",
      "22  Gujarat    Ahmedabad      43.0     107.0      32.0\n",
      "23  Gujarat   Ankleshwar      82.0     116.0      60.0\n",
      "24  Gujarat  Gandhinagar      49.0      98.0      34.0\n",
      "25  Gujarat         Vapi      52.0       NaN       NaN\n",
      "26  Gujarat        Vatva      34.0      42.0      20.0\n",
      "        State            City   Avg(ppb)  Max(ppb)  Min(ppb)\n",
      "49  Karnataka        Bagalkot  29.142857       NaN       NaN\n",
      "50  Karnataka       Bengaluru  44.000000     102.0      10.0\n",
      "51  Karnataka           Bidar  29.142857       NaN       NaN\n",
      "52  Karnataka  Chamarajanagar  14.000000      31.0      14.0\n",
      "53  Karnataka  Chikkaballapur  30.000000      31.0      27.0\n",
      "54  Karnataka  Chikkamagaluru  28.000000      47.0      26.0\n",
      "55  Karnataka      Davanagere  24.000000      32.0      23.0\n",
      "56  Karnataka           Gadag  18.000000      24.0      17.0\n",
      "57  Karnataka          Hassan  17.000000      36.0      12.0\n",
      "58  Karnataka          Haveri  29.142857       NaN       NaN\n",
      "59  Karnataka        Hubballi  58.000000      76.0      48.0\n",
      "60  Karnataka       Kalaburgi  29.142857       NaN       NaN\n",
      "61  Karnataka        Madikeri  17.000000      19.0      16.0\n",
      "62  Karnataka        Manglore  60.000000      62.0      58.0\n",
      "63  Karnataka          Mysuru   3.000000      45.0       1.0\n",
      "64  Karnataka         Raichur  44.000000      78.0      39.0\n",
      "65  Karnataka      Ramanagara  16.000000      24.0       3.0\n",
      "66  Karnataka      Vijayapura  35.000000     111.0      26.0\n",
      "             State       City   Avg(ppb)  Max(ppb)  Min(ppb)\n",
      "75  Madhya Pradesh     Bhopal  46.545455      63.0      19.0\n",
      "76  Madhya Pradesh      Damoh  10.000000      12.0      10.0\n",
      "77  Madhya Pradesh      Dewas  40.000000      61.0      20.0\n",
      "78  Madhya Pradesh    Gwalior  61.000000     105.0      11.0\n",
      "79  Madhya Pradesh     Indore  34.000000     110.0      14.0\n",
      "80  Madhya Pradesh   Jabalpur  58.000000     161.0       4.0\n",
      "81  Madhya Pradesh      Katni  83.000000     127.0      23.0\n",
      "82  Madhya Pradesh  Mandideep  39.000000      52.0       9.0\n",
      "83  Madhya Pradesh  Pithampur  57.000000      72.0      39.0\n",
      "84  Madhya Pradesh      Sagar  46.545455       NaN       NaN\n",
      "85  Madhya Pradesh      Satna  11.000000      11.0      11.0\n",
      "86  Madhya Pradesh  Singrauli  87.000000     108.0      16.0\n",
      "87  Madhya Pradesh     Ujjain  32.000000      36.0      15.0\n",
      "          State         City  Avg(ppb)  Max(ppb)  Min(ppb)\n",
      "88  Maharashtra   Aurangabad     42.00     106.0       9.0\n",
      "89  Maharashtra   Chandrapur     63.00      91.0      38.0\n",
      "90  Maharashtra       Kalyan     48.00     116.0       1.0\n",
      "91  Maharashtra       Mumbai    101.00     108.0      99.0\n",
      "92  Maharashtra       Nagpur     40.00      69.0      33.0\n",
      "93  Maharashtra       Nashik     70.25       NaN       NaN\n",
      "94  Maharashtra  Navi Mumbai     72.00     104.0      66.0\n",
      "95  Maharashtra         Pune    112.00     119.0     110.0\n",
      "96  Maharashtra      Solapur     84.00      84.0      57.0\n",
      "      State          City  Avg(ppb)  Max(ppb)  Min(ppb)\n",
      "101  Odisha  Brajrajnagar      59.0       NaN       NaN\n",
      "102  Odisha       Talcher      66.0     111.0      46.0\n"
     ]
    }
   ],
   "source": [
    "state = ds1.groupby(ds1.State)\n",
    "\n",
    "br = state.get_group('Bihar')\n",
    "gj = state.get_group('Gujarat')\n",
    "ka = state.get_group('Karnataka')\n",
    "mp = state.get_group('Madhya Pradesh')\n",
    "mh = state.get_group('Maharashtra')\n",
    "od = state.get_group('Odisha')\n",
    "\n",
    "print(f\"{br}\\n{gj}\\n{ka}\\n{mp}\\n{mh}\\n{od}\")"
   ]
  },
  {
   "cell_type": "code",
   "execution_count": 15,
   "metadata": {},
   "outputs": [
    {
     "name": "stderr",
     "output_type": "stream",
     "text": [
      "C:\\Users\\tanus\\AppData\\Local\\Temp\\ipykernel_17528\\1381511785.py:2: SettingWithCopyWarning: \n",
      "A value is trying to be set on a copy of a slice from a DataFrame\n",
      "\n",
      "See the caveats in the documentation: https://pandas.pydata.org/pandas-docs/stable/user_guide/indexing.html#returning-a-view-versus-a-copy\n",
      "  ds1.loc[5:18]['Max(ppb)'].fillna(value=br['Max(ppb)'].mean(), inplace=True)\n",
      "C:\\Users\\tanus\\AppData\\Local\\Temp\\ipykernel_17528\\1381511785.py:5: SettingWithCopyWarning: \n",
      "A value is trying to be set on a copy of a slice from a DataFrame\n",
      "\n",
      "See the caveats in the documentation: https://pandas.pydata.org/pandas-docs/stable/user_guide/indexing.html#returning-a-view-versus-a-copy\n",
      "  ds1.loc[22:26]['Max(ppb)'].fillna(value=gj['Max(ppb)'].mean(), inplace=True)\n",
      "C:\\Users\\tanus\\AppData\\Local\\Temp\\ipykernel_17528\\1381511785.py:8: SettingWithCopyWarning: \n",
      "A value is trying to be set on a copy of a slice from a DataFrame\n",
      "\n",
      "See the caveats in the documentation: https://pandas.pydata.org/pandas-docs/stable/user_guide/indexing.html#returning-a-view-versus-a-copy\n",
      "  ds1.loc[49:66]['Max(ppb)'].fillna(value=ka['Max(ppb)'].mean(), inplace=True)\n",
      "C:\\Users\\tanus\\AppData\\Local\\Temp\\ipykernel_17528\\1381511785.py:11: SettingWithCopyWarning: \n",
      "A value is trying to be set on a copy of a slice from a DataFrame\n",
      "\n",
      "See the caveats in the documentation: https://pandas.pydata.org/pandas-docs/stable/user_guide/indexing.html#returning-a-view-versus-a-copy\n",
      "  ds1.loc[75:87]['Max(ppb)'].fillna(value=mp['Max(ppb)'].mean(), inplace=True)\n",
      "C:\\Users\\tanus\\AppData\\Local\\Temp\\ipykernel_17528\\1381511785.py:14: SettingWithCopyWarning: \n",
      "A value is trying to be set on a copy of a slice from a DataFrame\n",
      "\n",
      "See the caveats in the documentation: https://pandas.pydata.org/pandas-docs/stable/user_guide/indexing.html#returning-a-view-versus-a-copy\n",
      "  ds1.loc[88:96]['Max(ppb)'].fillna(value=mh['Max(ppb)'].mean(), inplace=True)\n",
      "C:\\Users\\tanus\\AppData\\Local\\Temp\\ipykernel_17528\\1381511785.py:17: SettingWithCopyWarning: \n",
      "A value is trying to be set on a copy of a slice from a DataFrame\n",
      "\n",
      "See the caveats in the documentation: https://pandas.pydata.org/pandas-docs/stable/user_guide/indexing.html#returning-a-view-versus-a-copy\n",
      "  ds1.loc[101:102]['Max(ppb)'].fillna(value=od['Max(ppb)'].mean(), inplace=True)\n"
     ]
    }
   ],
   "source": [
    "#Filling Null values in Max(ppb) in State of BIHAR\n",
    "ds1.loc[5:18]['Max(ppb)'].fillna(value=br['Max(ppb)'].mean(), inplace=True)\n",
    "\n",
    "#Filling Null values in Max(ppb) in State of GUJRAT\n",
    "ds1.loc[22:26]['Max(ppb)'].fillna(value=gj['Max(ppb)'].mean(), inplace=True)\n",
    "\n",
    "#Filling Null values in Max(ppb) in State of KARNATAKA\n",
    "ds1.loc[49:66]['Max(ppb)'].fillna(value=ka['Max(ppb)'].mean(), inplace=True)\n",
    "\n",
    "#Filling Null values in Max(ppb) in State of MADHYA PRADESH\n",
    "ds1.loc[75:87]['Max(ppb)'].fillna(value=mp['Max(ppb)'].mean(), inplace=True)\n",
    "\n",
    "#Filling Null values in Max(ppb) in State of MAHARASHTRA\n",
    "ds1.loc[88:96]['Max(ppb)'].fillna(value=mh['Max(ppb)'].mean(), inplace=True)\n",
    "\n",
    "#Filling Null values in Max(ppb) in State of ODISHA\n",
    "ds1.loc[101:102]['Max(ppb)'].fillna(value=od['Max(ppb)'].mean(), inplace=True)"
   ]
  },
  {
   "cell_type": "code",
   "execution_count": 16,
   "metadata": {},
   "outputs": [
    {
     "name": "stdout",
     "output_type": "stream",
     "text": [
      "State       13\n",
      "City        13\n",
      "Min(ppb)    13\n",
      "dtype: int64\n"
     ]
    },
    {
     "name": "stderr",
     "output_type": "stream",
     "text": [
      "C:\\Users\\tanus\\AppData\\Local\\Temp\\ipykernel_17528\\3138626217.py:6: SettingWithCopyWarning: \n",
      "A value is trying to be set on a copy of a slice from a DataFrame\n",
      "\n",
      "See the caveats in the documentation: https://pandas.pydata.org/pandas-docs/stable/user_guide/indexing.html#returning-a-view-versus-a-copy\n",
      "  data3.drop('Avg(ppb)', axis=1, inplace=True)\n",
      "C:\\Users\\tanus\\AppData\\Local\\Temp\\ipykernel_17528\\3138626217.py:7: SettingWithCopyWarning: \n",
      "A value is trying to be set on a copy of a slice from a DataFrame\n",
      "\n",
      "See the caveats in the documentation: https://pandas.pydata.org/pandas-docs/stable/user_guide/indexing.html#returning-a-view-versus-a-copy\n",
      "  data3.drop('Max(ppb)', axis=1, inplace=True)\n"
     ]
    },
    {
     "data": {
      "text/html": [
       "<div>\n",
       "<style scoped>\n",
       "    .dataframe tbody tr th:only-of-type {\n",
       "        vertical-align: middle;\n",
       "    }\n",
       "\n",
       "    .dataframe tbody tr th {\n",
       "        vertical-align: top;\n",
       "    }\n",
       "\n",
       "    .dataframe thead th {\n",
       "        text-align: right;\n",
       "    }\n",
       "</style>\n",
       "<table border=\"1\" class=\"dataframe\">\n",
       "  <thead>\n",
       "    <tr style=\"text-align: right;\">\n",
       "      <th></th>\n",
       "      <th>State</th>\n",
       "      <th>City</th>\n",
       "      <th>Min(ppb)</th>\n",
       "    </tr>\n",
       "  </thead>\n",
       "  <tbody>\n",
       "    <tr>\n",
       "      <th>5</th>\n",
       "      <td>Bihar</td>\n",
       "      <td>Aurangabad</td>\n",
       "      <td>null</td>\n",
       "    </tr>\n",
       "    <tr>\n",
       "      <th>13</th>\n",
       "      <td>Bihar</td>\n",
       "      <td>Manguraha</td>\n",
       "      <td>null</td>\n",
       "    </tr>\n",
       "    <tr>\n",
       "      <th>25</th>\n",
       "      <td>Gujarat</td>\n",
       "      <td>Vapi</td>\n",
       "      <td>null</td>\n",
       "    </tr>\n",
       "    <tr>\n",
       "      <th>36</th>\n",
       "      <td>Haryana</td>\n",
       "      <td>Jind</td>\n",
       "      <td>null</td>\n",
       "    </tr>\n",
       "    <tr>\n",
       "      <th>49</th>\n",
       "      <td>Karnataka</td>\n",
       "      <td>Bagalkot</td>\n",
       "      <td>null</td>\n",
       "    </tr>\n",
       "    <tr>\n",
       "      <th>51</th>\n",
       "      <td>Karnataka</td>\n",
       "      <td>Bidar</td>\n",
       "      <td>null</td>\n",
       "    </tr>\n",
       "    <tr>\n",
       "      <th>58</th>\n",
       "      <td>Karnataka</td>\n",
       "      <td>Haveri</td>\n",
       "      <td>null</td>\n",
       "    </tr>\n",
       "    <tr>\n",
       "      <th>60</th>\n",
       "      <td>Karnataka</td>\n",
       "      <td>Kalaburgi</td>\n",
       "      <td>null</td>\n",
       "    </tr>\n",
       "    <tr>\n",
       "      <th>84</th>\n",
       "      <td>Madhya Pradesh</td>\n",
       "      <td>Sagar</td>\n",
       "      <td>null</td>\n",
       "    </tr>\n",
       "    <tr>\n",
       "      <th>93</th>\n",
       "      <td>Maharashtra</td>\n",
       "      <td>Nashik</td>\n",
       "      <td>null</td>\n",
       "    </tr>\n",
       "    <tr>\n",
       "      <th>101</th>\n",
       "      <td>Odisha</td>\n",
       "      <td>Brajrajnagar</td>\n",
       "      <td>null</td>\n",
       "    </tr>\n",
       "    <tr>\n",
       "      <th>111</th>\n",
       "      <td>Punjab</td>\n",
       "      <td>Rupnagar</td>\n",
       "      <td>null</td>\n",
       "    </tr>\n",
       "    <tr>\n",
       "      <th>137</th>\n",
       "      <td>Uttar_Pradesh</td>\n",
       "      <td>Muzaffarnagar</td>\n",
       "      <td>null</td>\n",
       "    </tr>\n",
       "  </tbody>\n",
       "</table>\n",
       "</div>"
      ],
      "text/plain": [
       "              State           City Min(ppb)\n",
       "5             Bihar     Aurangabad     null\n",
       "13            Bihar      Manguraha     null\n",
       "25          Gujarat           Vapi     null\n",
       "36          Haryana           Jind     null\n",
       "49        Karnataka       Bagalkot     null\n",
       "51        Karnataka          Bidar     null\n",
       "58        Karnataka         Haveri     null\n",
       "60        Karnataka      Kalaburgi     null\n",
       "84   Madhya Pradesh          Sagar     null\n",
       "93      Maharashtra         Nashik     null\n",
       "101          Odisha   Brajrajnagar     null\n",
       "111          Punjab       Rupnagar     null\n",
       "137   Uttar_Pradesh  Muzaffarnagar     null"
      ]
     },
     "execution_count": 16,
     "metadata": {},
     "output_type": "execute_result"
    }
   ],
   "source": [
    "#Replacing Null Values in Min(ppb) column\n",
    "\n",
    "ds1.replace(np.nan, 'null', inplace=True)\n",
    "\n",
    "data3 = ds1.loc[ds1[\"Min(ppb)\"]=='null']\n",
    "data3.drop('Avg(ppb)', axis=1, inplace=True)\n",
    "data3.drop('Max(ppb)', axis=1, inplace=True)\n",
    "\n",
    "ds1.replace('null', np.nan, inplace=True)\n",
    "\n",
    "print(data3.count())\n",
    "data3\n"
   ]
  },
  {
   "cell_type": "code",
   "execution_count": 17,
   "metadata": {},
   "outputs": [
    {
     "name": "stdout",
     "output_type": "stream",
     "text": [
      "    State          City  Avg(ppb)    Max(ppb)  Min(ppb)\n",
      "5   Bihar    Aurangabad      56.5   74.583333       NaN\n",
      "6   Bihar     Begusarai      54.0   74.000000      51.0\n",
      "7   Bihar       Bettiah      42.0   48.000000      30.0\n",
      "8   Bihar  Bihar Sharif      31.0   36.000000      22.0\n",
      "9   Bihar         Buxar      76.0   82.000000      35.0\n",
      "10  Bihar     Darbhanga      61.0   87.000000      55.0\n",
      "11  Bihar          Gaya      47.0   84.000000      24.0\n",
      "12  Bihar       Hajipur      33.0   43.000000      14.0\n",
      "13  Bihar     Manguraha      56.5   74.583333       NaN\n",
      "14  Bihar      Motihari      64.0   85.000000      52.0\n",
      "15  Bihar   Muzaffarpur      94.0  115.000000      44.0\n",
      "16  Bihar         Patna      74.0  107.000000      63.0\n",
      "17  Bihar        Purnia      34.0   58.000000      21.0\n",
      "18  Bihar        Rajgir      68.0   76.000000      48.0\n",
      "      State         City  Avg(ppb)  Max(ppb)  Min(ppb)\n",
      "22  Gujarat    Ahmedabad      43.0    107.00      32.0\n",
      "23  Gujarat   Ankleshwar      82.0    116.00      60.0\n",
      "24  Gujarat  Gandhinagar      49.0     98.00      34.0\n",
      "25  Gujarat         Vapi      52.0     90.75       NaN\n",
      "26  Gujarat        Vatva      34.0     42.00      20.0\n",
      "      State           City  Avg(ppb)  Max(ppb)  Min(ppb)\n",
      "27  Haryana         Ambala      97.0     112.0       4.0\n",
      "28  Haryana    Bahadurgarh      74.0     100.0       2.0\n",
      "29  Haryana     Ballabgarh      76.0     171.0      22.0\n",
      "30  Haryana  Charkhi Dadri      38.0      54.0      13.0\n",
      "31  Haryana      Dharuhera      60.0      75.0       9.0\n",
      "32  Haryana      Faridabad      53.0     116.0      10.0\n",
      "33  Haryana      Fatehabad      63.0      82.0      12.0\n",
      "34  Haryana       Gurugram      54.0     147.0       1.0\n",
      "35  Haryana          Hisar     102.0     115.0      14.0\n",
      "36  Haryana           Jind      56.0      70.0       NaN\n",
      "37  Haryana        Kaithal      59.0      97.0       7.0\n",
      "38  Haryana         Karnal      69.0     100.0      23.0\n",
      "39  Haryana    Kurukshetra      68.0     101.0       2.0\n",
      "40  Haryana     Mandikhera      14.0      95.0       6.0\n",
      "41  Haryana        Narnaul      29.0      48.0       1.0\n",
      "42  Haryana         Palwal     112.0     115.0      97.0\n",
      "43  Haryana      Panchkula      34.0      38.0       1.0\n",
      "44  Haryana        Panipat      49.0      60.0      20.0\n",
      "45  Haryana         Rohtak      11.0      13.0       8.0\n",
      "46  Haryana          Sirsa      52.0      59.0      14.0\n",
      "47  Haryana    Yamunanagar      45.0      73.0       9.0\n",
      "        State            City   Avg(ppb)    Max(ppb)  Min(ppb)\n",
      "49  Karnataka        Bagalkot  29.142857   51.285714       NaN\n",
      "50  Karnataka       Bengaluru  44.000000  102.000000      10.0\n",
      "51  Karnataka           Bidar  29.142857   51.285714       NaN\n",
      "52  Karnataka  Chamarajanagar  14.000000   31.000000      14.0\n",
      "53  Karnataka  Chikkaballapur  30.000000   31.000000      27.0\n",
      "54  Karnataka  Chikkamagaluru  28.000000   47.000000      26.0\n",
      "55  Karnataka      Davanagere  24.000000   32.000000      23.0\n",
      "56  Karnataka           Gadag  18.000000   24.000000      17.0\n",
      "57  Karnataka          Hassan  17.000000   36.000000      12.0\n",
      "58  Karnataka          Haveri  29.142857   51.285714       NaN\n",
      "59  Karnataka        Hubballi  58.000000   76.000000      48.0\n",
      "60  Karnataka       Kalaburgi  29.142857   51.285714       NaN\n",
      "61  Karnataka        Madikeri  17.000000   19.000000      16.0\n",
      "62  Karnataka        Manglore  60.000000   62.000000      58.0\n",
      "63  Karnataka          Mysuru   3.000000   45.000000       1.0\n",
      "64  Karnataka         Raichur  44.000000   78.000000      39.0\n",
      "65  Karnataka      Ramanagara  16.000000   24.000000       3.0\n",
      "66  Karnataka      Vijayapura  35.000000  111.000000      26.0\n",
      "             State       City   Avg(ppb)  Max(ppb)  Min(ppb)\n",
      "75  Madhya Pradesh     Bhopal  46.545455      63.0      19.0\n",
      "76  Madhya Pradesh      Damoh  10.000000      12.0      10.0\n",
      "77  Madhya Pradesh      Dewas  40.000000      61.0      20.0\n",
      "78  Madhya Pradesh    Gwalior  61.000000     105.0      11.0\n",
      "79  Madhya Pradesh     Indore  34.000000     110.0      14.0\n",
      "80  Madhya Pradesh   Jabalpur  58.000000     161.0       4.0\n",
      "81  Madhya Pradesh      Katni  83.000000     127.0      23.0\n",
      "82  Madhya Pradesh  Mandideep  39.000000      52.0       9.0\n",
      "83  Madhya Pradesh  Pithampur  57.000000      72.0      39.0\n",
      "84  Madhya Pradesh      Sagar  46.545455      76.5       NaN\n",
      "85  Madhya Pradesh      Satna  11.000000      11.0      11.0\n",
      "86  Madhya Pradesh  Singrauli  87.000000     108.0      16.0\n",
      "87  Madhya Pradesh     Ujjain  32.000000      36.0      15.0\n",
      "          State         City  Avg(ppb)  Max(ppb)  Min(ppb)\n",
      "88  Maharashtra   Aurangabad     42.00   106.000       9.0\n",
      "89  Maharashtra   Chandrapur     63.00    91.000      38.0\n",
      "90  Maharashtra       Kalyan     48.00   116.000       1.0\n",
      "91  Maharashtra       Mumbai    101.00   108.000      99.0\n",
      "92  Maharashtra       Nagpur     40.00    69.000      33.0\n",
      "93  Maharashtra       Nashik     70.25    99.625       NaN\n",
      "94  Maharashtra  Navi Mumbai     72.00   104.000      66.0\n",
      "95  Maharashtra         Pune    112.00   119.000     110.0\n",
      "96  Maharashtra      Solapur     84.00    84.000      57.0\n",
      "      State          City  Avg(ppb)  Max(ppb)  Min(ppb)\n",
      "101  Odisha  Brajrajnagar      59.0     111.0       NaN\n",
      "102  Odisha       Talcher      66.0     111.0      46.0\n",
      "      State              City  Avg(ppb)  Max(ppb)  Min(ppb)\n",
      "104  Punjab          Amritsar      71.0     117.0       5.0\n",
      "105  Punjab          Bathinda      82.0     103.0      21.0\n",
      "106  Punjab         Jalandhar      66.0     104.0      26.0\n",
      "107  Punjab            Khanna      33.0      52.0      17.0\n",
      "108  Punjab          Ludhiana      51.0      71.0      11.0\n",
      "109  Punjab  Mandi Gobindgarh      30.0      43.0       6.0\n",
      "110  Punjab           Patiala      79.0     117.0      30.0\n",
      "111  Punjab          Rupnagar      28.0     119.0       NaN\n",
      "             State           City  Avg(ppb)  Max(ppb)  Min(ppb)\n",
      "125  Uttar_Pradesh           Agra      79.0     138.0      11.0\n",
      "126  Uttar_Pradesh    Bulandshahr      92.0     120.0      22.0\n",
      "127  Uttar_Pradesh      Firozabad      82.0     119.0      17.0\n",
      "128  Uttar_Pradesh      Ghaziabad     136.0     189.0      22.0\n",
      "129  Uttar_Pradesh      Gorakhpur      23.0      26.0      16.0\n",
      "130  Uttar_Pradesh  Greater Noida     108.0     117.0      31.0\n",
      "131  Uttar_Pradesh          Hapur     129.0     141.0      48.0\n",
      "132  Uttar_Pradesh         Jhansi      94.0     122.0      25.0\n",
      "133  Uttar_Pradesh         Kanpur     107.0     136.0      62.0\n",
      "134  Uttar_Pradesh        Lucknow      75.0     122.0       8.0\n",
      "135  Uttar_Pradesh         Meerut      77.0     107.0      20.0\n",
      "136  Uttar_Pradesh      Moradabad     113.0     153.0      60.0\n",
      "137  Uttar_Pradesh  Muzaffarnagar      76.0     101.0       NaN\n",
      "138  Uttar_Pradesh          Noida     150.0     180.0     108.0\n",
      "139  Uttar_Pradesh      Prayagraj     109.0     146.0      23.0\n",
      "140  Uttar_Pradesh       Varanasi      69.0     140.0      26.0\n",
      "141  Uttar_Pradesh      Vrindavan      44.0      66.0      10.0\n"
     ]
    }
   ],
   "source": [
    "state = ds1.groupby(ds1.State)\n",
    "\n",
    "br = state.get_group('Bihar')\n",
    "gj = state.get_group('Gujarat')\n",
    "hr = state.get_group('Haryana')\n",
    "ka = state.get_group('Karnataka')\n",
    "mp = state.get_group('Madhya Pradesh')\n",
    "mh = state.get_group('Maharashtra')\n",
    "od = state.get_group('Odisha')\n",
    "pb = state.get_group('Punjab')\n",
    "up = state.get_group('Uttar_Pradesh')\n",
    "\n",
    "print(f\"{br}\\n{gj}\\n{hr}\\n{ka}\\n{mp}\\n{mh}\\n{od}\\n{pb}\\n{up}\")"
   ]
  },
  {
   "cell_type": "code",
   "execution_count": 18,
   "metadata": {},
   "outputs": [
    {
     "name": "stderr",
     "output_type": "stream",
     "text": [
      "C:\\Users\\tanus\\AppData\\Local\\Temp\\ipykernel_17528\\3458201783.py:2: SettingWithCopyWarning: \n",
      "A value is trying to be set on a copy of a slice from a DataFrame\n",
      "\n",
      "See the caveats in the documentation: https://pandas.pydata.org/pandas-docs/stable/user_guide/indexing.html#returning-a-view-versus-a-copy\n",
      "  ds1.loc[5:18]['Min(ppb)'].fillna(value=br['Min(ppb)'].mean(), inplace=True)\n",
      "C:\\Users\\tanus\\AppData\\Local\\Temp\\ipykernel_17528\\3458201783.py:5: SettingWithCopyWarning: \n",
      "A value is trying to be set on a copy of a slice from a DataFrame\n",
      "\n",
      "See the caveats in the documentation: https://pandas.pydata.org/pandas-docs/stable/user_guide/indexing.html#returning-a-view-versus-a-copy\n",
      "  ds1.loc[22:26]['Min(ppb)'].fillna(value=gj['Min(ppb)'].mean(), inplace=True)\n",
      "C:\\Users\\tanus\\AppData\\Local\\Temp\\ipykernel_17528\\3458201783.py:8: SettingWithCopyWarning: \n",
      "A value is trying to be set on a copy of a slice from a DataFrame\n",
      "\n",
      "See the caveats in the documentation: https://pandas.pydata.org/pandas-docs/stable/user_guide/indexing.html#returning-a-view-versus-a-copy\n",
      "  ds1.loc[27:47]['Min(ppb)'].fillna(value=hr['Min(ppb)'].mean(), inplace=True)\n",
      "C:\\Users\\tanus\\AppData\\Local\\Temp\\ipykernel_17528\\3458201783.py:11: SettingWithCopyWarning: \n",
      "A value is trying to be set on a copy of a slice from a DataFrame\n",
      "\n",
      "See the caveats in the documentation: https://pandas.pydata.org/pandas-docs/stable/user_guide/indexing.html#returning-a-view-versus-a-copy\n",
      "  ds1.loc[49:66]['Min(ppb)'].fillna(value=ka['Min(ppb)'].mean(), inplace=True)\n",
      "C:\\Users\\tanus\\AppData\\Local\\Temp\\ipykernel_17528\\3458201783.py:14: SettingWithCopyWarning: \n",
      "A value is trying to be set on a copy of a slice from a DataFrame\n",
      "\n",
      "See the caveats in the documentation: https://pandas.pydata.org/pandas-docs/stable/user_guide/indexing.html#returning-a-view-versus-a-copy\n",
      "  ds1.loc[75:87]['Min(ppb)'].fillna(value=mp['Min(ppb)'].mean(), inplace=True)\n",
      "C:\\Users\\tanus\\AppData\\Local\\Temp\\ipykernel_17528\\3458201783.py:17: SettingWithCopyWarning: \n",
      "A value is trying to be set on a copy of a slice from a DataFrame\n",
      "\n",
      "See the caveats in the documentation: https://pandas.pydata.org/pandas-docs/stable/user_guide/indexing.html#returning-a-view-versus-a-copy\n",
      "  ds1.loc[88:96]['Min(ppb)'].fillna(value=mh['Min(ppb)'].mean(), inplace=True)\n",
      "C:\\Users\\tanus\\AppData\\Local\\Temp\\ipykernel_17528\\3458201783.py:20: SettingWithCopyWarning: \n",
      "A value is trying to be set on a copy of a slice from a DataFrame\n",
      "\n",
      "See the caveats in the documentation: https://pandas.pydata.org/pandas-docs/stable/user_guide/indexing.html#returning-a-view-versus-a-copy\n",
      "  ds1.loc[101:102]['Min(ppb)'].fillna(value=od['Min(ppb)'].mean(), inplace=True)\n",
      "C:\\Users\\tanus\\AppData\\Local\\Temp\\ipykernel_17528\\3458201783.py:23: SettingWithCopyWarning: \n",
      "A value is trying to be set on a copy of a slice from a DataFrame\n",
      "\n",
      "See the caveats in the documentation: https://pandas.pydata.org/pandas-docs/stable/user_guide/indexing.html#returning-a-view-versus-a-copy\n",
      "  ds1.loc[104:111]['Min(ppb)'].fillna(value=pb['Min(ppb)'].mean(), inplace=True)\n",
      "C:\\Users\\tanus\\AppData\\Local\\Temp\\ipykernel_17528\\3458201783.py:26: SettingWithCopyWarning: \n",
      "A value is trying to be set on a copy of a slice from a DataFrame\n",
      "\n",
      "See the caveats in the documentation: https://pandas.pydata.org/pandas-docs/stable/user_guide/indexing.html#returning-a-view-versus-a-copy\n",
      "  ds1.loc[125:141]['Min(ppb)'].fillna(value=up['Min(ppb)'].mean(), inplace=True)\n"
     ]
    }
   ],
   "source": [
    "#Filling Null values in Min(ppb) in State of BIHAR\n",
    "ds1.loc[5:18]['Min(ppb)'].fillna(value=br['Min(ppb)'].mean(), inplace=True)\n",
    "\n",
    "#Filling Null values in Min(ppb) in State of GUJRAT\n",
    "ds1.loc[22:26]['Min(ppb)'].fillna(value=gj['Min(ppb)'].mean(), inplace=True)\n",
    "\n",
    "#Filling Null values in Min(ppb) in State of HARYANA\n",
    "ds1.loc[27:47]['Min(ppb)'].fillna(value=hr['Min(ppb)'].mean(), inplace=True)\n",
    "\n",
    "#Filling Null values in Min(ppb) in State of KARNATAKA\n",
    "ds1.loc[49:66]['Min(ppb)'].fillna(value=ka['Min(ppb)'].mean(), inplace=True)\n",
    "\n",
    "#Filling Null values in Min(ppb) in State of MADHYA PRADESH\n",
    "ds1.loc[75:87]['Min(ppb)'].fillna(value=mp['Min(ppb)'].mean(), inplace=True)\n",
    "\n",
    "#Filling Null values in Min(ppb) in State of MAHARASHTRA\n",
    "ds1.loc[88:96]['Min(ppb)'].fillna(value=mh['Min(ppb)'].mean(), inplace=True)\n",
    "\n",
    "#Filling Null values in Min(ppb) in State of ODISHA\n",
    "ds1.loc[101:102]['Min(ppb)'].fillna(value=od['Min(ppb)'].mean(), inplace=True)\n",
    "\n",
    "#Filling Null values in Min(ppb) in State of PUNJAB\n",
    "ds1.loc[104:111]['Min(ppb)'].fillna(value=pb['Min(ppb)'].mean(), inplace=True)\n",
    "\n",
    "#Filling Null values in Min(ppb) in State of UTTAR PRADESH\n",
    "ds1.loc[125:141]['Min(ppb)'].fillna(value=up['Min(ppb)'].mean(), inplace=True)"
   ]
  },
  {
   "cell_type": "code",
   "execution_count": 19,
   "metadata": {},
   "outputs": [
    {
     "data": {
      "text/plain": [
       "State       0\n",
       "City        0\n",
       "Avg(ppb)    0\n",
       "Max(ppb)    0\n",
       "Min(ppb)    0\n",
       "dtype: int64"
      ]
     },
     "execution_count": 19,
     "metadata": {},
     "output_type": "execute_result"
    }
   ],
   "source": [
    "#Checking if all Null Values have been filled\n",
    "ds1.isna().sum()"
   ]
  },
  {
   "cell_type": "code",
   "execution_count": 20,
   "metadata": {},
   "outputs": [
    {
     "data": {
      "text/html": [
       "<div>\n",
       "<style scoped>\n",
       "    .dataframe tbody tr th:only-of-type {\n",
       "        vertical-align: middle;\n",
       "    }\n",
       "\n",
       "    .dataframe tbody tr th {\n",
       "        vertical-align: top;\n",
       "    }\n",
       "\n",
       "    .dataframe thead th {\n",
       "        text-align: right;\n",
       "    }\n",
       "</style>\n",
       "<table border=\"1\" class=\"dataframe\">\n",
       "  <thead>\n",
       "    <tr style=\"text-align: right;\">\n",
       "      <th></th>\n",
       "      <th>State</th>\n",
       "      <th>City</th>\n",
       "      <th>Avg(ppb)</th>\n",
       "      <th>Max(ppb)</th>\n",
       "      <th>Min(ppb)</th>\n",
       "    </tr>\n",
       "  </thead>\n",
       "  <tbody>\n",
       "    <tr>\n",
       "      <th>0</th>\n",
       "      <td>Andhra_Pradesh</td>\n",
       "      <td>Amaravati</td>\n",
       "      <td>28.0</td>\n",
       "      <td>30.0</td>\n",
       "      <td>13.0</td>\n",
       "    </tr>\n",
       "    <tr>\n",
       "      <th>1</th>\n",
       "      <td>Andhra_Pradesh</td>\n",
       "      <td>Rajamahendravaram</td>\n",
       "      <td>23.0</td>\n",
       "      <td>46.0</td>\n",
       "      <td>2.0</td>\n",
       "    </tr>\n",
       "    <tr>\n",
       "      <th>2</th>\n",
       "      <td>Andhra_Pradesh</td>\n",
       "      <td>Tirupati</td>\n",
       "      <td>41.0</td>\n",
       "      <td>54.0</td>\n",
       "      <td>38.0</td>\n",
       "    </tr>\n",
       "    <tr>\n",
       "      <th>3</th>\n",
       "      <td>Andhra_Pradesh</td>\n",
       "      <td>Visakhapatnam</td>\n",
       "      <td>20.0</td>\n",
       "      <td>92.0</td>\n",
       "      <td>4.0</td>\n",
       "    </tr>\n",
       "    <tr>\n",
       "      <th>4</th>\n",
       "      <td>Assam</td>\n",
       "      <td>Guwahati</td>\n",
       "      <td>42.0</td>\n",
       "      <td>86.0</td>\n",
       "      <td>10.0</td>\n",
       "    </tr>\n",
       "    <tr>\n",
       "      <th>...</th>\n",
       "      <td>...</td>\n",
       "      <td>...</td>\n",
       "      <td>...</td>\n",
       "      <td>...</td>\n",
       "      <td>...</td>\n",
       "    </tr>\n",
       "    <tr>\n",
       "      <th>143</th>\n",
       "      <td>West_Bengal</td>\n",
       "      <td>Asansol</td>\n",
       "      <td>43.0</td>\n",
       "      <td>50.0</td>\n",
       "      <td>8.0</td>\n",
       "    </tr>\n",
       "    <tr>\n",
       "      <th>144</th>\n",
       "      <td>West_Bengal</td>\n",
       "      <td>Haldia</td>\n",
       "      <td>40.0</td>\n",
       "      <td>40.0</td>\n",
       "      <td>32.0</td>\n",
       "    </tr>\n",
       "    <tr>\n",
       "      <th>145</th>\n",
       "      <td>West_Bengal</td>\n",
       "      <td>Howrah</td>\n",
       "      <td>29.0</td>\n",
       "      <td>72.0</td>\n",
       "      <td>16.0</td>\n",
       "    </tr>\n",
       "    <tr>\n",
       "      <th>146</th>\n",
       "      <td>West_Bengal</td>\n",
       "      <td>Kolkata</td>\n",
       "      <td>32.0</td>\n",
       "      <td>42.0</td>\n",
       "      <td>29.0</td>\n",
       "    </tr>\n",
       "    <tr>\n",
       "      <th>147</th>\n",
       "      <td>West_Bengal</td>\n",
       "      <td>Siliguri</td>\n",
       "      <td>44.0</td>\n",
       "      <td>70.0</td>\n",
       "      <td>18.0</td>\n",
       "    </tr>\n",
       "  </tbody>\n",
       "</table>\n",
       "<p>148 rows × 5 columns</p>\n",
       "</div>"
      ],
      "text/plain": [
       "              State               City  Avg(ppb)  Max(ppb)  Min(ppb)\n",
       "0    Andhra_Pradesh          Amaravati      28.0      30.0      13.0\n",
       "1    Andhra_Pradesh  Rajamahendravaram      23.0      46.0       2.0\n",
       "2    Andhra_Pradesh           Tirupati      41.0      54.0      38.0\n",
       "3    Andhra_Pradesh      Visakhapatnam      20.0      92.0       4.0\n",
       "4             Assam           Guwahati      42.0      86.0      10.0\n",
       "..              ...                ...       ...       ...       ...\n",
       "143     West_Bengal            Asansol      43.0      50.0       8.0\n",
       "144     West_Bengal             Haldia      40.0      40.0      32.0\n",
       "145     West_Bengal             Howrah      29.0      72.0      16.0\n",
       "146     West_Bengal            Kolkata      32.0      42.0      29.0\n",
       "147     West_Bengal           Siliguri      44.0      70.0      18.0\n",
       "\n",
       "[148 rows x 5 columns]"
      ]
     },
     "execution_count": 20,
     "metadata": {},
     "output_type": "execute_result"
    }
   ],
   "source": [
    "ds1"
   ]
  },
  {
   "attachments": {},
   "cell_type": "markdown",
   "metadata": {},
   "source": [
    "## 1.2-EDAL/PDSL"
   ]
  },
  {
   "cell_type": "code",
   "execution_count": 21,
   "metadata": {},
   "outputs": [],
   "source": [
    "import matplotlib.pyplot as plt\n",
    "import plotly.express as px\n",
    "import seaborn as sns"
   ]
  },
  {
   "cell_type": "code",
   "execution_count": 22,
   "metadata": {},
   "outputs": [
    {
     "data": {
      "application/vnd.plotly.v1+json": {
       "config": {
        "plotlyServerURL": "https://plot.ly"
       },
       "data": [
        {
         "alignmentgroup": "True",
         "hovertemplate": "City=%{x}<br>Avg(ppb)=%{y}<extra></extra>",
         "legendgroup": "",
         "marker": {
          "color": "#636efa",
          "pattern": {
           "shape": ""
          }
         },
         "name": "",
         "offsetgroup": "",
         "orientation": "v",
         "showlegend": false,
         "textposition": "auto",
         "type": "bar",
         "x": [
          "Amaravati",
          "Rajamahendravaram",
          "Tirupati",
          "Visakhapatnam",
          "Guwahati",
          "Aurangabad",
          "Begusarai",
          "Bettiah",
          "Bihar Sharif",
          "Buxar",
          "Darbhanga",
          "Gaya",
          "Hajipur",
          "Manguraha",
          "Motihari",
          "Muzaffarpur",
          "Patna",
          "Purnia",
          "Rajgir",
          "Chandigarh",
          "Bilaspur",
          "Delhi",
          "Ahmedabad",
          "Ankleshwar",
          "Gandhinagar",
          "Vapi",
          "Vatva",
          "Ambala",
          "Bahadurgarh",
          "Ballabgarh",
          "Charkhi Dadri",
          "Dharuhera",
          "Faridabad",
          "Fatehabad",
          "Gurugram",
          "Hisar",
          "Jind",
          "Kaithal",
          "Karnal",
          "Kurukshetra",
          "Mandikhera",
          "Narnaul",
          "Palwal",
          "Panchkula",
          "Panipat",
          "Rohtak",
          "Sirsa",
          "Yamunanagar",
          "Baddi",
          "Bagalkot",
          "Bengaluru",
          "Bidar",
          "Chamarajanagar",
          "Chikkaballapur",
          "Chikkamagaluru",
          "Davanagere",
          "Gadag",
          "Hassan",
          "Haveri",
          "Hubballi",
          "Kalaburgi",
          "Madikeri",
          "Manglore",
          "Mysuru",
          "Raichur",
          "Ramanagara",
          "Vijayapura",
          "Eloor",
          "Ernakulam",
          "Kannur",
          "Kochi",
          "Kollam",
          "Kozhikode",
          "Thiruvananthapuram",
          "Thrissur",
          "Bhopal",
          "Damoh",
          "Dewas",
          "Gwalior",
          "Indore",
          "Jabalpur",
          "Katni",
          "Mandideep",
          "Pithampur",
          "Sagar",
          "Satna",
          "Singrauli",
          "Ujjain",
          "Aurangabad",
          "Chandrapur",
          "Kalyan",
          "Mumbai",
          "Nagpur",
          "Nashik",
          "Navi Mumbai",
          "Pune",
          "Solapur",
          "Imphal",
          "Shillong",
          "Aizawl",
          "Kohima",
          "Brajrajnagar",
          "Talcher",
          "Puducherry",
          "Amritsar",
          "Bathinda",
          "Jalandhar",
          "Khanna",
          "Ludhiana",
          "Mandi Gobindgarh",
          "Patiala",
          "Rupnagar",
          "Ajmer",
          "Alwar",
          "Bhiwadi",
          "Jaipur",
          "Jodhpur",
          "Kota",
          "Pali",
          "Udaipur",
          "Chennai",
          "Coimbatore",
          "Thoothukudi",
          "Hyderabad",
          "Agartala",
          "Agra",
          "Bulandshahr",
          "Firozabad",
          "Ghaziabad",
          "Gorakhpur",
          "Greater Noida",
          "Hapur",
          "Jhansi",
          "Kanpur",
          "Lucknow",
          "Meerut",
          "Moradabad",
          "Muzaffarnagar",
          "Noida",
          "Prayagraj",
          "Varanasi",
          "Vrindavan",
          "Dehradun",
          "Asansol",
          "Haldia",
          "Howrah",
          "Kolkata",
          "Siliguri"
         ],
         "xaxis": "x",
         "y": [
          28,
          23,
          41,
          20,
          42,
          56.5,
          54,
          42,
          31,
          76,
          61,
          47,
          33,
          56.5,
          64,
          94,
          74,
          34,
          68,
          67,
          50,
          152,
          43,
          82,
          49,
          52,
          34,
          97,
          74,
          76,
          38,
          60,
          53,
          63,
          54,
          102,
          56,
          59,
          69,
          68,
          14,
          29,
          112,
          34,
          49,
          11,
          52,
          45,
          37,
          29.142857142857142,
          44,
          29.142857142857142,
          14,
          30,
          28,
          24,
          18,
          17,
          29.142857142857142,
          58,
          29.142857142857142,
          17,
          60,
          3,
          44,
          16,
          35,
          62,
          38,
          47,
          95,
          62,
          18,
          39,
          50,
          46.54545454545455,
          10,
          40,
          61,
          34,
          58,
          83,
          39,
          57,
          46.54545454545455,
          11,
          87,
          32,
          42,
          63,
          48,
          101,
          40,
          70.25,
          72,
          112,
          84,
          6,
          59,
          23,
          19,
          59,
          66,
          18,
          71,
          82,
          66,
          33,
          51,
          30,
          79,
          28,
          12,
          43.57142857142857,
          45,
          102,
          23,
          54,
          42,
          27,
          60,
          18,
          13,
          61,
          32,
          79,
          92,
          82,
          136,
          23,
          108,
          129,
          94,
          107,
          75,
          77,
          113,
          76,
          150,
          109,
          69,
          44,
          42,
          43,
          40,
          29,
          32,
          44
         ],
         "yaxis": "y"
        }
       ],
       "layout": {
        "barmode": "relative",
        "legend": {
         "tracegroupgap": 0
        },
        "template": {
         "data": {
          "bar": [
           {
            "error_x": {
             "color": "#2a3f5f"
            },
            "error_y": {
             "color": "#2a3f5f"
            },
            "marker": {
             "line": {
              "color": "#E5ECF6",
              "width": 0.5
             },
             "pattern": {
              "fillmode": "overlay",
              "size": 10,
              "solidity": 0.2
             }
            },
            "type": "bar"
           }
          ],
          "barpolar": [
           {
            "marker": {
             "line": {
              "color": "#E5ECF6",
              "width": 0.5
             },
             "pattern": {
              "fillmode": "overlay",
              "size": 10,
              "solidity": 0.2
             }
            },
            "type": "barpolar"
           }
          ],
          "carpet": [
           {
            "aaxis": {
             "endlinecolor": "#2a3f5f",
             "gridcolor": "white",
             "linecolor": "white",
             "minorgridcolor": "white",
             "startlinecolor": "#2a3f5f"
            },
            "baxis": {
             "endlinecolor": "#2a3f5f",
             "gridcolor": "white",
             "linecolor": "white",
             "minorgridcolor": "white",
             "startlinecolor": "#2a3f5f"
            },
            "type": "carpet"
           }
          ],
          "choropleth": [
           {
            "colorbar": {
             "outlinewidth": 0,
             "ticks": ""
            },
            "type": "choropleth"
           }
          ],
          "contour": [
           {
            "colorbar": {
             "outlinewidth": 0,
             "ticks": ""
            },
            "colorscale": [
             [
              0,
              "#0d0887"
             ],
             [
              0.1111111111111111,
              "#46039f"
             ],
             [
              0.2222222222222222,
              "#7201a8"
             ],
             [
              0.3333333333333333,
              "#9c179e"
             ],
             [
              0.4444444444444444,
              "#bd3786"
             ],
             [
              0.5555555555555556,
              "#d8576b"
             ],
             [
              0.6666666666666666,
              "#ed7953"
             ],
             [
              0.7777777777777778,
              "#fb9f3a"
             ],
             [
              0.8888888888888888,
              "#fdca26"
             ],
             [
              1,
              "#f0f921"
             ]
            ],
            "type": "contour"
           }
          ],
          "contourcarpet": [
           {
            "colorbar": {
             "outlinewidth": 0,
             "ticks": ""
            },
            "type": "contourcarpet"
           }
          ],
          "heatmap": [
           {
            "colorbar": {
             "outlinewidth": 0,
             "ticks": ""
            },
            "colorscale": [
             [
              0,
              "#0d0887"
             ],
             [
              0.1111111111111111,
              "#46039f"
             ],
             [
              0.2222222222222222,
              "#7201a8"
             ],
             [
              0.3333333333333333,
              "#9c179e"
             ],
             [
              0.4444444444444444,
              "#bd3786"
             ],
             [
              0.5555555555555556,
              "#d8576b"
             ],
             [
              0.6666666666666666,
              "#ed7953"
             ],
             [
              0.7777777777777778,
              "#fb9f3a"
             ],
             [
              0.8888888888888888,
              "#fdca26"
             ],
             [
              1,
              "#f0f921"
             ]
            ],
            "type": "heatmap"
           }
          ],
          "heatmapgl": [
           {
            "colorbar": {
             "outlinewidth": 0,
             "ticks": ""
            },
            "colorscale": [
             [
              0,
              "#0d0887"
             ],
             [
              0.1111111111111111,
              "#46039f"
             ],
             [
              0.2222222222222222,
              "#7201a8"
             ],
             [
              0.3333333333333333,
              "#9c179e"
             ],
             [
              0.4444444444444444,
              "#bd3786"
             ],
             [
              0.5555555555555556,
              "#d8576b"
             ],
             [
              0.6666666666666666,
              "#ed7953"
             ],
             [
              0.7777777777777778,
              "#fb9f3a"
             ],
             [
              0.8888888888888888,
              "#fdca26"
             ],
             [
              1,
              "#f0f921"
             ]
            ],
            "type": "heatmapgl"
           }
          ],
          "histogram": [
           {
            "marker": {
             "pattern": {
              "fillmode": "overlay",
              "size": 10,
              "solidity": 0.2
             }
            },
            "type": "histogram"
           }
          ],
          "histogram2d": [
           {
            "colorbar": {
             "outlinewidth": 0,
             "ticks": ""
            },
            "colorscale": [
             [
              0,
              "#0d0887"
             ],
             [
              0.1111111111111111,
              "#46039f"
             ],
             [
              0.2222222222222222,
              "#7201a8"
             ],
             [
              0.3333333333333333,
              "#9c179e"
             ],
             [
              0.4444444444444444,
              "#bd3786"
             ],
             [
              0.5555555555555556,
              "#d8576b"
             ],
             [
              0.6666666666666666,
              "#ed7953"
             ],
             [
              0.7777777777777778,
              "#fb9f3a"
             ],
             [
              0.8888888888888888,
              "#fdca26"
             ],
             [
              1,
              "#f0f921"
             ]
            ],
            "type": "histogram2d"
           }
          ],
          "histogram2dcontour": [
           {
            "colorbar": {
             "outlinewidth": 0,
             "ticks": ""
            },
            "colorscale": [
             [
              0,
              "#0d0887"
             ],
             [
              0.1111111111111111,
              "#46039f"
             ],
             [
              0.2222222222222222,
              "#7201a8"
             ],
             [
              0.3333333333333333,
              "#9c179e"
             ],
             [
              0.4444444444444444,
              "#bd3786"
             ],
             [
              0.5555555555555556,
              "#d8576b"
             ],
             [
              0.6666666666666666,
              "#ed7953"
             ],
             [
              0.7777777777777778,
              "#fb9f3a"
             ],
             [
              0.8888888888888888,
              "#fdca26"
             ],
             [
              1,
              "#f0f921"
             ]
            ],
            "type": "histogram2dcontour"
           }
          ],
          "mesh3d": [
           {
            "colorbar": {
             "outlinewidth": 0,
             "ticks": ""
            },
            "type": "mesh3d"
           }
          ],
          "parcoords": [
           {
            "line": {
             "colorbar": {
              "outlinewidth": 0,
              "ticks": ""
             }
            },
            "type": "parcoords"
           }
          ],
          "pie": [
           {
            "automargin": true,
            "type": "pie"
           }
          ],
          "scatter": [
           {
            "fillpattern": {
             "fillmode": "overlay",
             "size": 10,
             "solidity": 0.2
            },
            "type": "scatter"
           }
          ],
          "scatter3d": [
           {
            "line": {
             "colorbar": {
              "outlinewidth": 0,
              "ticks": ""
             }
            },
            "marker": {
             "colorbar": {
              "outlinewidth": 0,
              "ticks": ""
             }
            },
            "type": "scatter3d"
           }
          ],
          "scattercarpet": [
           {
            "marker": {
             "colorbar": {
              "outlinewidth": 0,
              "ticks": ""
             }
            },
            "type": "scattercarpet"
           }
          ],
          "scattergeo": [
           {
            "marker": {
             "colorbar": {
              "outlinewidth": 0,
              "ticks": ""
             }
            },
            "type": "scattergeo"
           }
          ],
          "scattergl": [
           {
            "marker": {
             "colorbar": {
              "outlinewidth": 0,
              "ticks": ""
             }
            },
            "type": "scattergl"
           }
          ],
          "scattermapbox": [
           {
            "marker": {
             "colorbar": {
              "outlinewidth": 0,
              "ticks": ""
             }
            },
            "type": "scattermapbox"
           }
          ],
          "scatterpolar": [
           {
            "marker": {
             "colorbar": {
              "outlinewidth": 0,
              "ticks": ""
             }
            },
            "type": "scatterpolar"
           }
          ],
          "scatterpolargl": [
           {
            "marker": {
             "colorbar": {
              "outlinewidth": 0,
              "ticks": ""
             }
            },
            "type": "scatterpolargl"
           }
          ],
          "scatterternary": [
           {
            "marker": {
             "colorbar": {
              "outlinewidth": 0,
              "ticks": ""
             }
            },
            "type": "scatterternary"
           }
          ],
          "surface": [
           {
            "colorbar": {
             "outlinewidth": 0,
             "ticks": ""
            },
            "colorscale": [
             [
              0,
              "#0d0887"
             ],
             [
              0.1111111111111111,
              "#46039f"
             ],
             [
              0.2222222222222222,
              "#7201a8"
             ],
             [
              0.3333333333333333,
              "#9c179e"
             ],
             [
              0.4444444444444444,
              "#bd3786"
             ],
             [
              0.5555555555555556,
              "#d8576b"
             ],
             [
              0.6666666666666666,
              "#ed7953"
             ],
             [
              0.7777777777777778,
              "#fb9f3a"
             ],
             [
              0.8888888888888888,
              "#fdca26"
             ],
             [
              1,
              "#f0f921"
             ]
            ],
            "type": "surface"
           }
          ],
          "table": [
           {
            "cells": {
             "fill": {
              "color": "#EBF0F8"
             },
             "line": {
              "color": "white"
             }
            },
            "header": {
             "fill": {
              "color": "#C8D4E3"
             },
             "line": {
              "color": "white"
             }
            },
            "type": "table"
           }
          ]
         },
         "layout": {
          "annotationdefaults": {
           "arrowcolor": "#2a3f5f",
           "arrowhead": 0,
           "arrowwidth": 1
          },
          "autotypenumbers": "strict",
          "coloraxis": {
           "colorbar": {
            "outlinewidth": 0,
            "ticks": ""
           }
          },
          "colorscale": {
           "diverging": [
            [
             0,
             "#8e0152"
            ],
            [
             0.1,
             "#c51b7d"
            ],
            [
             0.2,
             "#de77ae"
            ],
            [
             0.3,
             "#f1b6da"
            ],
            [
             0.4,
             "#fde0ef"
            ],
            [
             0.5,
             "#f7f7f7"
            ],
            [
             0.6,
             "#e6f5d0"
            ],
            [
             0.7,
             "#b8e186"
            ],
            [
             0.8,
             "#7fbc41"
            ],
            [
             0.9,
             "#4d9221"
            ],
            [
             1,
             "#276419"
            ]
           ],
           "sequential": [
            [
             0,
             "#0d0887"
            ],
            [
             0.1111111111111111,
             "#46039f"
            ],
            [
             0.2222222222222222,
             "#7201a8"
            ],
            [
             0.3333333333333333,
             "#9c179e"
            ],
            [
             0.4444444444444444,
             "#bd3786"
            ],
            [
             0.5555555555555556,
             "#d8576b"
            ],
            [
             0.6666666666666666,
             "#ed7953"
            ],
            [
             0.7777777777777778,
             "#fb9f3a"
            ],
            [
             0.8888888888888888,
             "#fdca26"
            ],
            [
             1,
             "#f0f921"
            ]
           ],
           "sequentialminus": [
            [
             0,
             "#0d0887"
            ],
            [
             0.1111111111111111,
             "#46039f"
            ],
            [
             0.2222222222222222,
             "#7201a8"
            ],
            [
             0.3333333333333333,
             "#9c179e"
            ],
            [
             0.4444444444444444,
             "#bd3786"
            ],
            [
             0.5555555555555556,
             "#d8576b"
            ],
            [
             0.6666666666666666,
             "#ed7953"
            ],
            [
             0.7777777777777778,
             "#fb9f3a"
            ],
            [
             0.8888888888888888,
             "#fdca26"
            ],
            [
             1,
             "#f0f921"
            ]
           ]
          },
          "colorway": [
           "#636efa",
           "#EF553B",
           "#00cc96",
           "#ab63fa",
           "#FFA15A",
           "#19d3f3",
           "#FF6692",
           "#B6E880",
           "#FF97FF",
           "#FECB52"
          ],
          "font": {
           "color": "#2a3f5f"
          },
          "geo": {
           "bgcolor": "white",
           "lakecolor": "white",
           "landcolor": "#E5ECF6",
           "showlakes": true,
           "showland": true,
           "subunitcolor": "white"
          },
          "hoverlabel": {
           "align": "left"
          },
          "hovermode": "closest",
          "mapbox": {
           "style": "light"
          },
          "paper_bgcolor": "white",
          "plot_bgcolor": "#E5ECF6",
          "polar": {
           "angularaxis": {
            "gridcolor": "white",
            "linecolor": "white",
            "ticks": ""
           },
           "bgcolor": "#E5ECF6",
           "radialaxis": {
            "gridcolor": "white",
            "linecolor": "white",
            "ticks": ""
           }
          },
          "scene": {
           "xaxis": {
            "backgroundcolor": "#E5ECF6",
            "gridcolor": "white",
            "gridwidth": 2,
            "linecolor": "white",
            "showbackground": true,
            "ticks": "",
            "zerolinecolor": "white"
           },
           "yaxis": {
            "backgroundcolor": "#E5ECF6",
            "gridcolor": "white",
            "gridwidth": 2,
            "linecolor": "white",
            "showbackground": true,
            "ticks": "",
            "zerolinecolor": "white"
           },
           "zaxis": {
            "backgroundcolor": "#E5ECF6",
            "gridcolor": "white",
            "gridwidth": 2,
            "linecolor": "white",
            "showbackground": true,
            "ticks": "",
            "zerolinecolor": "white"
           }
          },
          "shapedefaults": {
           "line": {
            "color": "#2a3f5f"
           }
          },
          "ternary": {
           "aaxis": {
            "gridcolor": "white",
            "linecolor": "white",
            "ticks": ""
           },
           "baxis": {
            "gridcolor": "white",
            "linecolor": "white",
            "ticks": ""
           },
           "bgcolor": "#E5ECF6",
           "caxis": {
            "gridcolor": "white",
            "linecolor": "white",
            "ticks": ""
           }
          },
          "title": {
           "x": 0.05
          },
          "xaxis": {
           "automargin": true,
           "gridcolor": "white",
           "linecolor": "white",
           "ticks": "",
           "title": {
            "standoff": 15
           },
           "zerolinecolor": "white",
           "zerolinewidth": 2
          },
          "yaxis": {
           "automargin": true,
           "gridcolor": "white",
           "linecolor": "white",
           "ticks": "",
           "title": {
            "standoff": 15
           },
           "zerolinecolor": "white",
           "zerolinewidth": 2
          }
         }
        },
        "title": {
         "text": "Avg(ppb) of Carbon emmision produced in each City"
        },
        "xaxis": {
         "anchor": "y",
         "domain": [
          0,
          1
         ],
         "title": {
          "text": "City"
         }
        },
        "yaxis": {
         "anchor": "x",
         "domain": [
          0,
          1
         ],
         "title": {
          "text": "Avg(ppb)"
         }
        }
       }
      }
     },
     "metadata": {},
     "output_type": "display_data"
    }
   ],
   "source": [
    "#Visualizing the Avg(ppb) of Carbon emmision produced in each City\n",
    "\n",
    "fig = px.bar(ds1, x='City', y='Avg(ppb)',title=\"Avg(ppb) of Carbon emmision produced in each City\")\n",
    "fig.show()"
   ]
  },
  {
   "cell_type": "code",
   "execution_count": 23,
   "metadata": {},
   "outputs": [
    {
     "data": {
      "image/png": "[encoded data removed]",
      "text/plain": [
       "<Figure size 2500x1000 with 1 Axes>"
      ]
     },
     "metadata": {},
     "output_type": "display_data"
    }
   ],
   "source": [
    "#Visualizing the Max(ppb) of Carbon emmision produced in each City\n",
    "\n",
    "fig = plt.figure(figsize = (25, 10))\n",
    " \n",
    "\n",
    "plt.bar(ds1['City'], ds1['Max(ppb)'],width = 0.5, color='violet')\n",
    " \n",
    "plt.xlabel(\"City\")\n",
    "plt.ylabel(\"Max(ppb)\")\n",
    "\n",
    "plt.title('Max(ppb) of Carbon emmision produced in each City')\n",
    "\n",
    "plt.show()"
   ]
  },
  {
   "cell_type": "code",
   "execution_count": 24,
   "metadata": {},
   "outputs": [
    {
     "data": {
      "application/vnd.plotly.v1+json": {
       "config": {
        "plotlyServerURL": "https://plot.ly"
       },
       "data": [
        {
         "alignmentgroup": "True",
         "hovertemplate": "City=%{x}<br>Min(ppb)=%{marker.color}<extra></extra>",
         "legendgroup": "",
         "marker": {
          "color": [
           13,
           2,
           38,
           4,
           10,
           38.25,
           51,
           30,
           22,
           35,
           55,
           24,
           14,
           38.25,
           52,
           44,
           63,
           21,
           48,
           12,
           20,
           45,
           32,
           60,
           34,
           36.5,
           20,
           4,
           2,
           22,
           13,
           9,
           10,
           12,
           1,
           14,
           13.75,
           7,
           23,
           2,
           6,
           1,
           97,
           1,
           20,
           8,
           14,
           9,
           14,
           22.857142857142858,
           10,
           22.857142857142858,
           14,
           27,
           26,
           23,
           17,
           12,
           22.857142857142858,
           48,
           22.857142857142858,
           16,
           58,
           1,
           39,
           3,
           26,
           59,
           26,
           36,
           81,
           59,
           12,
           5,
           47,
           19,
           10,
           20,
           11,
           14,
           4,
           23,
           9,
           39,
           15.916666666666666,
           11,
           16,
           15,
           9,
           38,
           1,
           99,
           33,
           51.625,
           66,
           110,
           57,
           6,
           18,
           16,
           15,
           46,
           46,
           9,
           5,
           21,
           26,
           17,
           11,
           6,
           30,
           16.571428571428573,
           5,
           6,
           9,
           102,
           6,
           13,
           24,
           19,
           36,
           1,
           1,
           1,
           21,
           11,
           22,
           17,
           22,
           16,
           31,
           48,
           25,
           62,
           8,
           20,
           60,
           31.8125,
           108,
           23,
           26,
           10,
           33,
           8,
           32,
           16,
           29,
           18
          ],
          "coloraxis": "coloraxis",
          "pattern": {
           "shape": ""
          }
         },
         "name": "",
         "offsetgroup": "",
         "orientation": "v",
         "showlegend": false,
         "textposition": "auto",
         "type": "bar",
         "x": [
          "Amaravati",
          "Rajamahendravaram",
          "Tirupati",
          "Visakhapatnam",
          "Guwahati",
          "Aurangabad",
          "Begusarai",
          "Bettiah",
          "Bihar Sharif",
          "Buxar",
          "Darbhanga",
          "Gaya",
          "Hajipur",
          "Manguraha",
          "Motihari",
          "Muzaffarpur",
          "Patna",
          "Purnia",
          "Rajgir",
          "Chandigarh",
          "Bilaspur",
          "Delhi",
          "Ahmedabad",
          "Ankleshwar",
          "Gandhinagar",
          "Vapi",
          "Vatva",
          "Ambala",
          "Bahadurgarh",
          "Ballabgarh",
          "Charkhi Dadri",
          "Dharuhera",
          "Faridabad",
          "Fatehabad",
          "Gurugram",
          "Hisar",
          "Jind",
          "Kaithal",
          "Karnal",
          "Kurukshetra",
          "Mandikhera",
          "Narnaul",
          "Palwal",
          "Panchkula",
          "Panipat",
          "Rohtak",
          "Sirsa",
          "Yamunanagar",
          "Baddi",
          "Bagalkot",
          "Bengaluru",
          "Bidar",
          "Chamarajanagar",
          "Chikkaballapur",
          "Chikkamagaluru",
          "Davanagere",
          "Gadag",
          "Hassan",
          "Haveri",
          "Hubballi",
          "Kalaburgi",
          "Madikeri",
          "Manglore",
          "Mysuru",
          "Raichur",
          "Ramanagara",
          "Vijayapura",
          "Eloor",
          "Ernakulam",
          "Kannur",
          "Kochi",
          "Kollam",
          "Kozhikode",
          "Thiruvananthapuram",
          "Thrissur",
          "Bhopal",
          "Damoh",
          "Dewas",
          "Gwalior",
          "Indore",
          "Jabalpur",
          "Katni",
          "Mandideep",
          "Pithampur",
          "Sagar",
          "Satna",
          "Singrauli",
          "Ujjain",
          "Aurangabad",
          "Chandrapur",
          "Kalyan",
          "Mumbai",
          "Nagpur",
          "Nashik",
          "Navi Mumbai",
          "Pune",
          "Solapur",
          "Imphal",
          "Shillong",
          "Aizawl",
          "Kohima",
          "Brajrajnagar",
          "Talcher",
          "Puducherry",
          "Amritsar",
          "Bathinda",
          "Jalandhar",
          "Khanna",
          "Ludhiana",
          "Mandi Gobindgarh",
          "Patiala",
          "Rupnagar",
          "Ajmer",
          "Alwar",
          "Bhiwadi",
          "Jaipur",
          "Jodhpur",
          "Kota",
          "Pali",
          "Udaipur",
          "Chennai",
          "Coimbatore",
          "Thoothukudi",
          "Hyderabad",
          "Agartala",
          "Agra",
          "Bulandshahr",
          "Firozabad",
          "Ghaziabad",
          "Gorakhpur",
          "Greater Noida",
          "Hapur",
          "Jhansi",
          "Kanpur",
          "Lucknow",
          "Meerut",
          "Moradabad",
          "Muzaffarnagar",
          "Noida",
          "Prayagraj",
          "Varanasi",
          "Vrindavan",
          "Dehradun",
          "Asansol",
          "Haldia",
          "Howrah",
          "Kolkata",
          "Siliguri"
         ],
         "xaxis": "x",
         "y": [
          13,
          2,
          38,
          4,
          10,
          38.25,
          51,
          30,
          22,
          35,
          55,
          24,
          14,
          38.25,
          52,
          44,
          63,
          21,
          48,
          12,
          20,
          45,
          32,
          60,
          34,
          36.5,
          20,
          4,
          2,
          22,
          13,
          9,
          10,
          12,
          1,
          14,
          13.75,
          7,
          23,
          2,
          6,
          1,
          97,
          1,
          20,
          8,
          14,
          9,
          14,
          22.857142857142858,
          10,
          22.857142857142858,
          14,
          27,
          26,
          23,
          17,
          12,
          22.857142857142858,
          48,
          22.857142857142858,
          16,
          58,
          1,
          39,
          3,
          26,
          59,
          26,
          36,
          81,
          59,
          12,
          5,
          47,
          19,
          10,
          20,
          11,
          14,
          4,
          23,
          9,
          39,
          15.916666666666666,
          11,
          16,
          15,
          9,
          38,
          1,
          99,
          33,
          51.625,
          66,
          110,
          57,
          6,
          18,
          16,
          15,
          46,
          46,
          9,
          5,
          21,
          26,
          17,
          11,
          6,
          30,
          16.571428571428573,
          5,
          6,
          9,
          102,
          6,
          13,
          24,
          19,
          36,
          1,
          1,
          1,
          21,
          11,
          22,
          17,
          22,
          16,
          31,
          48,
          25,
          62,
          8,
          20,
          60,
          31.8125,
          108,
          23,
          26,
          10,
          33,
          8,
          32,
          16,
          29,
          18
         ],
         "yaxis": "y"
        }
       ],
       "layout": {
        "barmode": "relative",
        "coloraxis": {
         "colorbar": {
          "title": {
           "text": "Min(ppb)"
          }
         },
         "colorscale": [
          [
           0,
           "#0d0887"
          ],
          [
           0.1111111111111111,
           "#46039f"
          ],
          [
           0.2222222222222222,
           "#7201a8"
          ],
          [
           0.3333333333333333,
           "#9c179e"
          ],
          [
           0.4444444444444444,
           "#bd3786"
          ],
          [
           0.5555555555555556,
           "#d8576b"
          ],
          [
           0.6666666666666666,
           "#ed7953"
          ],
          [
           0.7777777777777778,
           "#fb9f3a"
          ],
          [
           0.8888888888888888,
           "#fdca26"
          ],
          [
           1,
           "#f0f921"
          ]
         ]
        },
        "legend": {
         "tracegroupgap": 0
        },
        "template": {
         "data": {
          "bar": [
           {
            "error_x": {
             "color": "#2a3f5f"
            },
            "error_y": {
             "color": "#2a3f5f"
            },
            "marker": {
             "line": {
              "color": "#E5ECF6",
              "width": 0.5
             },
             "pattern": {
              "fillmode": "overlay",
              "size": 10,
              "solidity": 0.2
             }
            },
            "type": "bar"
           }
          ],
          "barpolar": [
           {
            "marker": {
             "line": {
              "color": "#E5ECF6",
              "width": 0.5
             },
             "pattern": {
              "fillmode": "overlay",
              "size": 10,
              "solidity": 0.2
             }
            },
            "type": "barpolar"
           }
          ],
          "carpet": [
           {
            "aaxis": {
             "endlinecolor": "#2a3f5f",
             "gridcolor": "white",
             "linecolor": "white",
             "minorgridcolor": "white",
             "startlinecolor": "#2a3f5f"
            },
            "baxis": {
             "endlinecolor": "#2a3f5f",
             "gridcolor": "white",
             "linecolor": "white",
             "minorgridcolor": "white",
             "startlinecolor": "#2a3f5f"
            },
            "type": "carpet"
           }
          ],
          "choropleth": [
           {
            "colorbar": {
             "outlinewidth": 0,
             "ticks": ""
            },
            "type": "choropleth"
           }
          ],
          "contour": [
           {
            "colorbar": {
             "outlinewidth": 0,
             "ticks": ""
            },
            "colorscale": [
             [
              0,
              "#0d0887"
             ],
             [
              0.1111111111111111,
              "#46039f"
             ],
             [
              0.2222222222222222,
              "#7201a8"
             ],
             [
              0.3333333333333333,
              "#9c179e"
             ],
             [
              0.4444444444444444,
              "#bd3786"
             ],
             [
              0.5555555555555556,
              "#d8576b"
             ],
             [
              0.6666666666666666,
              "#ed7953"
             ],
             [
              0.7777777777777778,
              "#fb9f3a"
             ],
             [
              0.8888888888888888,
              "#fdca26"
             ],
             [
              1,
              "#f0f921"
             ]
            ],
            "type": "contour"
           }
          ],
          "contourcarpet": [
           {
            "colorbar": {
             "outlinewidth": 0,
             "ticks": ""
            },
            "type": "contourcarpet"
           }
          ],
          "heatmap": [
           {
            "colorbar": {
             "outlinewidth": 0,
             "ticks": ""
            },
            "colorscale": [
             [
              0,
              "#0d0887"
             ],
             [
              0.1111111111111111,
              "#46039f"
             ],
             [
              0.2222222222222222,
              "#7201a8"
             ],
             [
              0.3333333333333333,
              "#9c179e"
             ],
             [
              0.4444444444444444,
              "#bd3786"
             ],
             [
              0.5555555555555556,
              "#d8576b"
             ],
             [
              0.6666666666666666,
              "#ed7953"
             ],
             [
              0.7777777777777778,
              "#fb9f3a"
             ],
             [
              0.8888888888888888,
              "#fdca26"
             ],
             [
              1,
              "#f0f921"
             ]
            ],
            "type": "heatmap"
           }
          ],
          "heatmapgl": [
           {
            "colorbar": {
             "outlinewidth": 0,
             "ticks": ""
            },
            "colorscale": [
             [
              0,
              "#0d0887"
             ],
             [
              0.1111111111111111,
              "#46039f"
             ],
             [
              0.2222222222222222,
              "#7201a8"
             ],
             [
              0.3333333333333333,
              "#9c179e"
             ],
             [
              0.4444444444444444,
              "#bd3786"
             ],
             [
              0.5555555555555556,
              "#d8576b"
             ],
             [
              0.6666666666666666,
              "#ed7953"
             ],
             [
              0.7777777777777778,
              "#fb9f3a"
             ],
             [
              0.8888888888888888,
              "#fdca26"
             ],
             [
              1,
              "#f0f921"
             ]
            ],
            "type": "heatmapgl"
           }
          ],
          "histogram": [
           {
            "marker": {
             "pattern": {
              "fillmode": "overlay",
              "size": 10,
              "solidity": 0.2
             }
            },
            "type": "histogram"
           }
          ],
          "histogram2d": [
           {
            "colorbar": {
             "outlinewidth": 0,
             "ticks": ""
            },
            "colorscale": [
             [
              0,
              "#0d0887"
             ],
             [
              0.1111111111111111,
              "#46039f"
             ],
             [
              0.2222222222222222,
              "#7201a8"
             ],
             [
              0.3333333333333333,
              "#9c179e"
             ],
             [
              0.4444444444444444,
              "#bd3786"
             ],
             [
              0.5555555555555556,
              "#d8576b"
             ],
             [
              0.6666666666666666,
              "#ed7953"
             ],
             [
              0.7777777777777778,
              "#fb9f3a"
             ],
             [
              0.8888888888888888,
              "#fdca26"
             ],
             [
              1,
              "#f0f921"
             ]
            ],
            "type": "histogram2d"
           }
          ],
          "histogram2dcontour": [
           {
            "colorbar": {
             "outlinewidth": 0,
             "ticks": ""
            },
            "colorscale": [
             [
              0,
              "#0d0887"
             ],
             [
              0.1111111111111111,
              "#46039f"
             ],
             [
              0.2222222222222222,
              "#7201a8"
             ],
             [
              0.3333333333333333,
              "#9c179e"
             ],
             [
              0.4444444444444444,
              "#bd3786"
             ],
             [
              0.5555555555555556,
              "#d8576b"
             ],
             [
              0.6666666666666666,
              "#ed7953"
             ],
             [
              0.7777777777777778,
              "#fb9f3a"
             ],
             [
              0.8888888888888888,
              "#fdca26"
             ],
             [
              1,
              "#f0f921"
             ]
            ],
            "type": "histogram2dcontour"
           }
          ],
          "mesh3d": [
           {
            "colorbar": {
             "outlinewidth": 0,
             "ticks": ""
            },
            "type": "mesh3d"
           }
          ],
          "parcoords": [
           {
            "line": {
             "colorbar": {
              "outlinewidth": 0,
              "ticks": ""
             }
            },
            "type": "parcoords"
           }
          ],
          "pie": [
           {
            "automargin": true,
            "type": "pie"
           }
          ],
          "scatter": [
           {
            "fillpattern": {
             "fillmode": "overlay",
             "size": 10,
             "solidity": 0.2
            },
            "type": "scatter"
           }
          ],
          "scatter3d": [
           {
            "line": {
             "colorbar": {
              "outlinewidth": 0,
              "ticks": ""
             }
            },
            "marker": {
             "colorbar": {
              "outlinewidth": 0,
              "ticks": ""
             }
            },
            "type": "scatter3d"
           }
          ],
          "scattercarpet": [
           {
            "marker": {
             "colorbar": {
              "outlinewidth": 0,
              "ticks": ""
             }
            },
            "type": "scattercarpet"
           }
          ],
          "scattergeo": [
           {
            "marker": {
             "colorbar": {
              "outlinewidth": 0,
              "ticks": ""
             }
            },
            "type": "scattergeo"
           }
          ],
          "scattergl": [
           {
            "marker": {
             "colorbar": {
              "outlinewidth": 0,
              "ticks": ""
             }
            },
            "type": "scattergl"
           }
          ],
          "scattermapbox": [
           {
            "marker": {
             "colorbar": {
              "outlinewidth": 0,
              "ticks": ""
             }
            },
            "type": "scattermapbox"
           }
          ],
          "scatterpolar": [
           {
            "marker": {
             "colorbar": {
              "outlinewidth": 0,
              "ticks": ""
             }
            },
            "type": "scatterpolar"
           }
          ],
          "scatterpolargl": [
           {
            "marker": {
             "colorbar": {
              "outlinewidth": 0,
              "ticks": ""
             }
            },
            "type": "scatterpolargl"
           }
          ],
          "scatterternary": [
           {
            "marker": {
             "colorbar": {
              "outlinewidth": 0,
              "ticks": ""
             }
            },
            "type": "scatterternary"
           }
          ],
          "surface": [
           {
            "colorbar": {
             "outlinewidth": 0,
             "ticks": ""
            },
            "colorscale": [
             [
              0,
              "#0d0887"
             ],
             [
              0.1111111111111111,
              "#46039f"
             ],
             [
              0.2222222222222222,
              "#7201a8"
             ],
             [
              0.3333333333333333,
              "#9c179e"
             ],
             [
              0.4444444444444444,
              "#bd3786"
             ],
             [
              0.5555555555555556,
              "#d8576b"
             ],
             [
              0.6666666666666666,
              "#ed7953"
             ],
             [
              0.7777777777777778,
              "#fb9f3a"
             ],
             [
              0.8888888888888888,
              "#fdca26"
             ],
             [
              1,
              "#f0f921"
             ]
            ],
            "type": "surface"
           }
          ],
          "table": [
           {
            "cells": {
             "fill": {
              "color": "#EBF0F8"
             },
             "line": {
              "color": "white"
             }
            },
            "header": {
             "fill": {
              "color": "#C8D4E3"
             },
             "line": {
              "color": "white"
             }
            },
            "type": "table"
           }
          ]
         },
         "layout": {
          "annotationdefaults": {
           "arrowcolor": "#2a3f5f",
           "arrowhead": 0,
           "arrowwidth": 1
          },
          "autotypenumbers": "strict",
          "coloraxis": {
           "colorbar": {
            "outlinewidth": 0,
            "ticks": ""
           }
          },
          "colorscale": {
           "diverging": [
            [
             0,
             "#8e0152"
            ],
            [
             0.1,
             "#c51b7d"
            ],
            [
             0.2,
             "#de77ae"
            ],
            [
             0.3,
             "#f1b6da"
            ],
            [
             0.4,
             "#fde0ef"
            ],
            [
             0.5,
             "#f7f7f7"
            ],
            [
             0.6,
             "#e6f5d0"
            ],
            [
             0.7,
             "#b8e186"
            ],
            [
             0.8,
             "#7fbc41"
            ],
            [
             0.9,
             "#4d9221"
            ],
            [
             1,
             "#276419"
            ]
           ],
           "sequential": [
            [
             0,
             "#0d0887"
            ],
            [
             0.1111111111111111,
             "#46039f"
            ],
            [
             0.2222222222222222,
             "#7201a8"
            ],
            [
             0.3333333333333333,
             "#9c179e"
            ],
            [
             0.4444444444444444,
             "#bd3786"
            ],
            [
             0.5555555555555556,
             "#d8576b"
            ],
            [
             0.6666666666666666,
             "#ed7953"
            ],
            [
             0.7777777777777778,
             "#fb9f3a"
            ],
            [
             0.8888888888888888,
             "#fdca26"
            ],
            [
             1,
             "#f0f921"
            ]
           ],
           "sequentialminus": [
            [
             0,
             "#0d0887"
            ],
            [
             0.1111111111111111,
             "#46039f"
            ],
            [
             0.2222222222222222,
             "#7201a8"
            ],
            [
             0.3333333333333333,
             "#9c179e"
            ],
            [
             0.4444444444444444,
             "#bd3786"
            ],
            [
             0.5555555555555556,
             "#d8576b"
            ],
            [
             0.6666666666666666,
             "#ed7953"
            ],
            [
             0.7777777777777778,
             "#fb9f3a"
            ],
            [
             0.8888888888888888,
             "#fdca26"
            ],
            [
             1,
             "#f0f921"
            ]
           ]
          },
          "colorway": [
           "#636efa",
           "#EF553B",
           "#00cc96",
           "#ab63fa",
           "#FFA15A",
           "#19d3f3",
           "#FF6692",
           "#B6E880",
           "#FF97FF",
           "#FECB52"
          ],
          "font": {
           "color": "#2a3f5f"
          },
          "geo": {
           "bgcolor": "white",
           "lakecolor": "white",
           "landcolor": "#E5ECF6",
           "showlakes": true,
           "showland": true,
           "subunitcolor": "white"
          },
          "hoverlabel": {
           "align": "left"
          },
          "hovermode": "closest",
          "mapbox": {
           "style": "light"
          },
          "paper_bgcolor": "white",
          "plot_bgcolor": "#E5ECF6",
          "polar": {
           "angularaxis": {
            "gridcolor": "white",
            "linecolor": "white",
            "ticks": ""
           },
           "bgcolor": "#E5ECF6",
           "radialaxis": {
            "gridcolor": "white",
            "linecolor": "white",
            "ticks": ""
           }
          },
          "scene": {
           "xaxis": {
            "backgroundcolor": "#E5ECF6",
            "gridcolor": "white",
            "gridwidth": 2,
            "linecolor": "white",
            "showbackground": true,
            "ticks": "",
            "zerolinecolor": "white"
           },
           "yaxis": {
            "backgroundcolor": "#E5ECF6",
            "gridcolor": "white",
            "gridwidth": 2,
            "linecolor": "white",
            "showbackground": true,
            "ticks": "",
            "zerolinecolor": "white"
           },
           "zaxis": {
            "backgroundcolor": "#E5ECF6",
            "gridcolor": "white",
            "gridwidth": 2,
            "linecolor": "white",
            "showbackground": true,
            "ticks": "",
            "zerolinecolor": "white"
           }
          },
          "shapedefaults": {
           "line": {
            "color": "#2a3f5f"
           }
          },
          "ternary": {
           "aaxis": {
            "gridcolor": "white",
            "linecolor": "white",
            "ticks": ""
           },
           "baxis": {
            "gridcolor": "white",
            "linecolor": "white",
            "ticks": ""
           },
           "bgcolor": "#E5ECF6",
           "caxis": {
            "gridcolor": "white",
            "linecolor": "white",
            "ticks": ""
           }
          },
          "title": {
           "x": 0.05
          },
          "xaxis": {
           "automargin": true,
           "gridcolor": "white",
           "linecolor": "white",
           "ticks": "",
           "title": {
            "standoff": 15
           },
           "zerolinecolor": "white",
           "zerolinewidth": 2
          },
          "yaxis": {
           "automargin": true,
           "gridcolor": "white",
           "linecolor": "white",
           "ticks": "",
           "title": {
            "standoff": 15
           },
           "zerolinecolor": "white",
           "zerolinewidth": 2
          }
         }
        },
        "title": {
         "text": "Min(ppb) of Carbon emmision produced in each City"
        },
        "xaxis": {
         "anchor": "y",
         "domain": [
          0,
          1
         ],
         "title": {
          "text": "City"
         }
        },
        "yaxis": {
         "anchor": "x",
         "domain": [
          0,
          1
         ],
         "title": {
          "text": "Min(ppb)"
         }
        }
       }
      }
     },
     "metadata": {},
     "output_type": "display_data"
    }
   ],
   "source": [
    "#Visualizing the Min(ppb) of Carbon emmision produced in each City\n",
    "\n",
    "fig = px.bar(ds1, x='City', y='Min(ppb)',title=\"Min(ppb) of Carbon emmision produced in each City\", color=\"Min(ppb)\")\n",
    "fig.show()"
   ]
  },
  {
   "attachments": {},
   "cell_type": "markdown",
   "metadata": {},
   "source": [
    "##### Visualizing_cities_having_the_highest_Average_Carbon_Emissions_throughout"
   ]
  },
  {
   "cell_type": "code",
   "execution_count": 25,
   "metadata": {},
   "outputs": [
    {
     "data": {
      "text/html": [
       "<div>\n",
       "<style scoped>\n",
       "    .dataframe tbody tr th:only-of-type {\n",
       "        vertical-align: middle;\n",
       "    }\n",
       "\n",
       "    .dataframe tbody tr th {\n",
       "        vertical-align: top;\n",
       "    }\n",
       "\n",
       "    .dataframe thead th {\n",
       "        text-align: right;\n",
       "    }\n",
       "</style>\n",
       "<table border=\"1\" class=\"dataframe\">\n",
       "  <thead>\n",
       "    <tr style=\"text-align: right;\">\n",
       "      <th></th>\n",
       "      <th>State</th>\n",
       "      <th>City</th>\n",
       "      <th>Avg(ppb)</th>\n",
       "      <th>Max(ppb)</th>\n",
       "      <th>Min(ppb)</th>\n",
       "    </tr>\n",
       "  </thead>\n",
       "  <tbody>\n",
       "    <tr>\n",
       "      <th>21</th>\n",
       "      <td>Delhi</td>\n",
       "      <td>Delhi</td>\n",
       "      <td>152.0</td>\n",
       "      <td>192.0</td>\n",
       "      <td>45.0</td>\n",
       "    </tr>\n",
       "    <tr>\n",
       "      <th>35</th>\n",
       "      <td>Haryana</td>\n",
       "      <td>Hisar</td>\n",
       "      <td>102.0</td>\n",
       "      <td>115.0</td>\n",
       "      <td>14.0</td>\n",
       "    </tr>\n",
       "    <tr>\n",
       "      <th>42</th>\n",
       "      <td>Haryana</td>\n",
       "      <td>Palwal</td>\n",
       "      <td>112.0</td>\n",
       "      <td>115.0</td>\n",
       "      <td>97.0</td>\n",
       "    </tr>\n",
       "    <tr>\n",
       "      <th>91</th>\n",
       "      <td>Maharashtra</td>\n",
       "      <td>Mumbai</td>\n",
       "      <td>101.0</td>\n",
       "      <td>108.0</td>\n",
       "      <td>99.0</td>\n",
       "    </tr>\n",
       "    <tr>\n",
       "      <th>95</th>\n",
       "      <td>Maharashtra</td>\n",
       "      <td>Pune</td>\n",
       "      <td>112.0</td>\n",
       "      <td>119.0</td>\n",
       "      <td>110.0</td>\n",
       "    </tr>\n",
       "    <tr>\n",
       "      <th>115</th>\n",
       "      <td>Rajasthan</td>\n",
       "      <td>Jaipur</td>\n",
       "      <td>102.0</td>\n",
       "      <td>194.0</td>\n",
       "      <td>102.0</td>\n",
       "    </tr>\n",
       "    <tr>\n",
       "      <th>128</th>\n",
       "      <td>Uttar_Pradesh</td>\n",
       "      <td>Ghaziabad</td>\n",
       "      <td>136.0</td>\n",
       "      <td>189.0</td>\n",
       "      <td>22.0</td>\n",
       "    </tr>\n",
       "    <tr>\n",
       "      <th>130</th>\n",
       "      <td>Uttar_Pradesh</td>\n",
       "      <td>Greater Noida</td>\n",
       "      <td>108.0</td>\n",
       "      <td>117.0</td>\n",
       "      <td>31.0</td>\n",
       "    </tr>\n",
       "    <tr>\n",
       "      <th>131</th>\n",
       "      <td>Uttar_Pradesh</td>\n",
       "      <td>Hapur</td>\n",
       "      <td>129.0</td>\n",
       "      <td>141.0</td>\n",
       "      <td>48.0</td>\n",
       "    </tr>\n",
       "    <tr>\n",
       "      <th>133</th>\n",
       "      <td>Uttar_Pradesh</td>\n",
       "      <td>Kanpur</td>\n",
       "      <td>107.0</td>\n",
       "      <td>136.0</td>\n",
       "      <td>62.0</td>\n",
       "    </tr>\n",
       "    <tr>\n",
       "      <th>136</th>\n",
       "      <td>Uttar_Pradesh</td>\n",
       "      <td>Moradabad</td>\n",
       "      <td>113.0</td>\n",
       "      <td>153.0</td>\n",
       "      <td>60.0</td>\n",
       "    </tr>\n",
       "    <tr>\n",
       "      <th>138</th>\n",
       "      <td>Uttar_Pradesh</td>\n",
       "      <td>Noida</td>\n",
       "      <td>150.0</td>\n",
       "      <td>180.0</td>\n",
       "      <td>108.0</td>\n",
       "    </tr>\n",
       "    <tr>\n",
       "      <th>139</th>\n",
       "      <td>Uttar_Pradesh</td>\n",
       "      <td>Prayagraj</td>\n",
       "      <td>109.0</td>\n",
       "      <td>146.0</td>\n",
       "      <td>23.0</td>\n",
       "    </tr>\n",
       "  </tbody>\n",
       "</table>\n",
       "</div>"
      ],
      "text/plain": [
       "             State           City  Avg(ppb)  Max(ppb)  Min(ppb)\n",
       "21           Delhi          Delhi     152.0     192.0      45.0\n",
       "35         Haryana          Hisar     102.0     115.0      14.0\n",
       "42         Haryana         Palwal     112.0     115.0      97.0\n",
       "91     Maharashtra         Mumbai     101.0     108.0      99.0\n",
       "95     Maharashtra           Pune     112.0     119.0     110.0\n",
       "115      Rajasthan         Jaipur     102.0     194.0     102.0\n",
       "128  Uttar_Pradesh      Ghaziabad     136.0     189.0      22.0\n",
       "130  Uttar_Pradesh  Greater Noida     108.0     117.0      31.0\n",
       "131  Uttar_Pradesh          Hapur     129.0     141.0      48.0\n",
       "133  Uttar_Pradesh         Kanpur     107.0     136.0      62.0\n",
       "136  Uttar_Pradesh      Moradabad     113.0     153.0      60.0\n",
       "138  Uttar_Pradesh          Noida     150.0     180.0     108.0\n",
       "139  Uttar_Pradesh      Prayagraj     109.0     146.0      23.0"
      ]
     },
     "execution_count": 25,
     "metadata": {},
     "output_type": "execute_result"
    }
   ],
   "source": [
    "high_avg = (ds1.loc[(ds1['Avg(ppb)']>100)])\n",
    "high_avg"
   ]
  },
  {
   "cell_type": "code",
   "execution_count": 26,
   "metadata": {
    "scrolled": true
   },
   "outputs": [
    {
     "data": {
      "image/png": "[encoded data removed]",
      "text/plain": [
       "<Figure size 1500x500 with 1 Axes>"
      ]
     },
     "metadata": {},
     "output_type": "display_data"
    }
   ],
   "source": [
    "fig = plt.figure(figsize = (15, 5))\n",
    " \n",
    "\n",
    "plt.bar(high_avg['City'], high_avg['Avg(ppb)'],width = 0.5)\n",
    " \n",
    "plt.xlabel(\"City\")\n",
    "plt.ylabel(\"Average(ppb)\")\n",
    "plt.title(\"Cities having Avg(ppb) more than 100\")\n",
    "\n",
    "plt.show()"
   ]
  },
  {
   "attachments": {},
   "cell_type": "markdown",
   "metadata": {},
   "source": [
    "##### Visualizing_cities_having_the_lowest_Average_Carbon_Emissions_throughout"
   ]
  },
  {
   "cell_type": "code",
   "execution_count": 27,
   "metadata": {},
   "outputs": [
    {
     "data": {
      "text/html": [
       "<div>\n",
       "<style scoped>\n",
       "    .dataframe tbody tr th:only-of-type {\n",
       "        vertical-align: middle;\n",
       "    }\n",
       "\n",
       "    .dataframe tbody tr th {\n",
       "        vertical-align: top;\n",
       "    }\n",
       "\n",
       "    .dataframe thead th {\n",
       "        text-align: right;\n",
       "    }\n",
       "</style>\n",
       "<table border=\"1\" class=\"dataframe\">\n",
       "  <thead>\n",
       "    <tr style=\"text-align: right;\">\n",
       "      <th></th>\n",
       "      <th>State</th>\n",
       "      <th>City</th>\n",
       "      <th>Avg(ppb)</th>\n",
       "      <th>Max(ppb)</th>\n",
       "      <th>Min(ppb)</th>\n",
       "    </tr>\n",
       "  </thead>\n",
       "  <tbody>\n",
       "    <tr>\n",
       "      <th>1</th>\n",
       "      <td>Andhra_Pradesh</td>\n",
       "      <td>Rajamahendravaram</td>\n",
       "      <td>23.0</td>\n",
       "      <td>46.0</td>\n",
       "      <td>2.0</td>\n",
       "    </tr>\n",
       "    <tr>\n",
       "      <th>3</th>\n",
       "      <td>Andhra_Pradesh</td>\n",
       "      <td>Visakhapatnam</td>\n",
       "      <td>20.0</td>\n",
       "      <td>92.0</td>\n",
       "      <td>4.0</td>\n",
       "    </tr>\n",
       "    <tr>\n",
       "      <th>40</th>\n",
       "      <td>Haryana</td>\n",
       "      <td>Mandikhera</td>\n",
       "      <td>14.0</td>\n",
       "      <td>95.0</td>\n",
       "      <td>6.0</td>\n",
       "    </tr>\n",
       "    <tr>\n",
       "      <th>45</th>\n",
       "      <td>Haryana</td>\n",
       "      <td>Rohtak</td>\n",
       "      <td>11.0</td>\n",
       "      <td>13.0</td>\n",
       "      <td>8.0</td>\n",
       "    </tr>\n",
       "    <tr>\n",
       "      <th>52</th>\n",
       "      <td>Karnataka</td>\n",
       "      <td>Chamarajanagar</td>\n",
       "      <td>14.0</td>\n",
       "      <td>31.0</td>\n",
       "      <td>14.0</td>\n",
       "    </tr>\n",
       "    <tr>\n",
       "      <th>55</th>\n",
       "      <td>Karnataka</td>\n",
       "      <td>Davanagere</td>\n",
       "      <td>24.0</td>\n",
       "      <td>32.0</td>\n",
       "      <td>23.0</td>\n",
       "    </tr>\n",
       "    <tr>\n",
       "      <th>56</th>\n",
       "      <td>Karnataka</td>\n",
       "      <td>Gadag</td>\n",
       "      <td>18.0</td>\n",
       "      <td>24.0</td>\n",
       "      <td>17.0</td>\n",
       "    </tr>\n",
       "    <tr>\n",
       "      <th>57</th>\n",
       "      <td>Karnataka</td>\n",
       "      <td>Hassan</td>\n",
       "      <td>17.0</td>\n",
       "      <td>36.0</td>\n",
       "      <td>12.0</td>\n",
       "    </tr>\n",
       "    <tr>\n",
       "      <th>61</th>\n",
       "      <td>Karnataka</td>\n",
       "      <td>Madikeri</td>\n",
       "      <td>17.0</td>\n",
       "      <td>19.0</td>\n",
       "      <td>16.0</td>\n",
       "    </tr>\n",
       "    <tr>\n",
       "      <th>63</th>\n",
       "      <td>Karnataka</td>\n",
       "      <td>Mysuru</td>\n",
       "      <td>3.0</td>\n",
       "      <td>45.0</td>\n",
       "      <td>1.0</td>\n",
       "    </tr>\n",
       "    <tr>\n",
       "      <th>65</th>\n",
       "      <td>Karnataka</td>\n",
       "      <td>Ramanagara</td>\n",
       "      <td>16.0</td>\n",
       "      <td>24.0</td>\n",
       "      <td>3.0</td>\n",
       "    </tr>\n",
       "    <tr>\n",
       "      <th>72</th>\n",
       "      <td>Kerala</td>\n",
       "      <td>Kozhikode</td>\n",
       "      <td>18.0</td>\n",
       "      <td>46.0</td>\n",
       "      <td>12.0</td>\n",
       "    </tr>\n",
       "    <tr>\n",
       "      <th>76</th>\n",
       "      <td>Madhya Pradesh</td>\n",
       "      <td>Damoh</td>\n",
       "      <td>10.0</td>\n",
       "      <td>12.0</td>\n",
       "      <td>10.0</td>\n",
       "    </tr>\n",
       "    <tr>\n",
       "      <th>85</th>\n",
       "      <td>Madhya Pradesh</td>\n",
       "      <td>Satna</td>\n",
       "      <td>11.0</td>\n",
       "      <td>11.0</td>\n",
       "      <td>11.0</td>\n",
       "    </tr>\n",
       "    <tr>\n",
       "      <th>97</th>\n",
       "      <td>Manipur</td>\n",
       "      <td>Imphal</td>\n",
       "      <td>6.0</td>\n",
       "      <td>6.0</td>\n",
       "      <td>6.0</td>\n",
       "    </tr>\n",
       "    <tr>\n",
       "      <th>99</th>\n",
       "      <td>Mizoram</td>\n",
       "      <td>Aizawl</td>\n",
       "      <td>23.0</td>\n",
       "      <td>30.0</td>\n",
       "      <td>16.0</td>\n",
       "    </tr>\n",
       "    <tr>\n",
       "      <th>100</th>\n",
       "      <td>Nagaland</td>\n",
       "      <td>Kohima</td>\n",
       "      <td>19.0</td>\n",
       "      <td>30.0</td>\n",
       "      <td>15.0</td>\n",
       "    </tr>\n",
       "    <tr>\n",
       "      <th>103</th>\n",
       "      <td>Puducherry</td>\n",
       "      <td>Puducherry</td>\n",
       "      <td>18.0</td>\n",
       "      <td>31.0</td>\n",
       "      <td>9.0</td>\n",
       "    </tr>\n",
       "    <tr>\n",
       "      <th>112</th>\n",
       "      <td>Rajasthan</td>\n",
       "      <td>Ajmer</td>\n",
       "      <td>12.0</td>\n",
       "      <td>58.0</td>\n",
       "      <td>5.0</td>\n",
       "    </tr>\n",
       "    <tr>\n",
       "      <th>116</th>\n",
       "      <td>Rajasthan</td>\n",
       "      <td>Jodhpur</td>\n",
       "      <td>23.0</td>\n",
       "      <td>61.0</td>\n",
       "      <td>6.0</td>\n",
       "    </tr>\n",
       "    <tr>\n",
       "      <th>121</th>\n",
       "      <td>TamilNadu</td>\n",
       "      <td>Coimbatore</td>\n",
       "      <td>18.0</td>\n",
       "      <td>19.0</td>\n",
       "      <td>1.0</td>\n",
       "    </tr>\n",
       "    <tr>\n",
       "      <th>122</th>\n",
       "      <td>TamilNadu</td>\n",
       "      <td>Thoothukudi</td>\n",
       "      <td>13.0</td>\n",
       "      <td>14.0</td>\n",
       "      <td>1.0</td>\n",
       "    </tr>\n",
       "    <tr>\n",
       "      <th>129</th>\n",
       "      <td>Uttar_Pradesh</td>\n",
       "      <td>Gorakhpur</td>\n",
       "      <td>23.0</td>\n",
       "      <td>26.0</td>\n",
       "      <td>16.0</td>\n",
       "    </tr>\n",
       "  </tbody>\n",
       "</table>\n",
       "</div>"
      ],
      "text/plain": [
       "              State               City  Avg(ppb)  Max(ppb)  Min(ppb)\n",
       "1    Andhra_Pradesh  Rajamahendravaram      23.0      46.0       2.0\n",
       "3    Andhra_Pradesh      Visakhapatnam      20.0      92.0       4.0\n",
       "40          Haryana         Mandikhera      14.0      95.0       6.0\n",
       "45          Haryana             Rohtak      11.0      13.0       8.0\n",
       "52        Karnataka     Chamarajanagar      14.0      31.0      14.0\n",
       "55        Karnataka         Davanagere      24.0      32.0      23.0\n",
       "56        Karnataka              Gadag      18.0      24.0      17.0\n",
       "57        Karnataka             Hassan      17.0      36.0      12.0\n",
       "61        Karnataka           Madikeri      17.0      19.0      16.0\n",
       "63        Karnataka             Mysuru       3.0      45.0       1.0\n",
       "65        Karnataka         Ramanagara      16.0      24.0       3.0\n",
       "72           Kerala          Kozhikode      18.0      46.0      12.0\n",
       "76   Madhya Pradesh              Damoh      10.0      12.0      10.0\n",
       "85   Madhya Pradesh              Satna      11.0      11.0      11.0\n",
       "97          Manipur             Imphal       6.0       6.0       6.0\n",
       "99          Mizoram             Aizawl      23.0      30.0      16.0\n",
       "100        Nagaland             Kohima      19.0      30.0      15.0\n",
       "103      Puducherry         Puducherry      18.0      31.0       9.0\n",
       "112       Rajasthan              Ajmer      12.0      58.0       5.0\n",
       "116       Rajasthan            Jodhpur      23.0      61.0       6.0\n",
       "121       TamilNadu         Coimbatore      18.0      19.0       1.0\n",
       "122       TamilNadu        Thoothukudi      13.0      14.0       1.0\n",
       "129   Uttar_Pradesh          Gorakhpur      23.0      26.0      16.0"
      ]
     },
     "execution_count": 27,
     "metadata": {},
     "output_type": "execute_result"
    }
   ],
   "source": [
    "least_avg = (ds1.loc[(ds1['Avg(ppb)']<25)])\n",
    "least_avg"
   ]
  },
  {
   "cell_type": "code",
   "execution_count": 28,
   "metadata": {},
   "outputs": [
    {
     "data": {
      "image/png": "[encoded data removed]",
      "text/plain": [
       "<Figure size 3000x1500 with 1 Axes>"
      ]
     },
     "metadata": {},
     "output_type": "display_data"
    }
   ],
   "source": [
    "fig = plt.figure(figsize = (30, 15))\n",
    " \n",
    "\n",
    "plt.bar(least_avg['City'], least_avg['Avg(ppb)'],width = 0.5)\n",
    " \n",
    "plt.xlabel(\"City\")\n",
    "plt.ylabel(\"Average(ppb)\")\n",
    "plt.title(\"Cities having Avg(ppb) less than 25\")\n",
    "\n",
    "plt.show()"
   ]
  },
  {
   "attachments": {},
   "cell_type": "markdown",
   "metadata": {},
   "source": [
    "##### Visualizing_cities_having_Maximum_Carbon_Emissions"
   ]
  },
  {
   "cell_type": "code",
   "execution_count": 29,
   "metadata": {},
   "outputs": [
    {
     "data": {
      "text/html": [
       "<div>\n",
       "<style scoped>\n",
       "    .dataframe tbody tr th:only-of-type {\n",
       "        vertical-align: middle;\n",
       "    }\n",
       "\n",
       "    .dataframe tbody tr th {\n",
       "        vertical-align: top;\n",
       "    }\n",
       "\n",
       "    .dataframe thead th {\n",
       "        text-align: right;\n",
       "    }\n",
       "</style>\n",
       "<table border=\"1\" class=\"dataframe\">\n",
       "  <thead>\n",
       "    <tr style=\"text-align: right;\">\n",
       "      <th></th>\n",
       "      <th>State</th>\n",
       "      <th>City</th>\n",
       "      <th>Avg(ppb)</th>\n",
       "      <th>Max(ppb)</th>\n",
       "      <th>Min(ppb)</th>\n",
       "    </tr>\n",
       "  </thead>\n",
       "  <tbody>\n",
       "    <tr>\n",
       "      <th>21</th>\n",
       "      <td>Delhi</td>\n",
       "      <td>Delhi</td>\n",
       "      <td>152.0</td>\n",
       "      <td>192.0</td>\n",
       "      <td>45.0</td>\n",
       "    </tr>\n",
       "    <tr>\n",
       "      <th>29</th>\n",
       "      <td>Haryana</td>\n",
       "      <td>Ballabgarh</td>\n",
       "      <td>76.0</td>\n",
       "      <td>171.0</td>\n",
       "      <td>22.0</td>\n",
       "    </tr>\n",
       "    <tr>\n",
       "      <th>80</th>\n",
       "      <td>Madhya Pradesh</td>\n",
       "      <td>Jabalpur</td>\n",
       "      <td>58.0</td>\n",
       "      <td>161.0</td>\n",
       "      <td>4.0</td>\n",
       "    </tr>\n",
       "    <tr>\n",
       "      <th>115</th>\n",
       "      <td>Rajasthan</td>\n",
       "      <td>Jaipur</td>\n",
       "      <td>102.0</td>\n",
       "      <td>194.0</td>\n",
       "      <td>102.0</td>\n",
       "    </tr>\n",
       "    <tr>\n",
       "      <th>120</th>\n",
       "      <td>TamilNadu</td>\n",
       "      <td>Chennai</td>\n",
       "      <td>60.0</td>\n",
       "      <td>152.0</td>\n",
       "      <td>36.0</td>\n",
       "    </tr>\n",
       "    <tr>\n",
       "      <th>128</th>\n",
       "      <td>Uttar_Pradesh</td>\n",
       "      <td>Ghaziabad</td>\n",
       "      <td>136.0</td>\n",
       "      <td>189.0</td>\n",
       "      <td>22.0</td>\n",
       "    </tr>\n",
       "    <tr>\n",
       "      <th>136</th>\n",
       "      <td>Uttar_Pradesh</td>\n",
       "      <td>Moradabad</td>\n",
       "      <td>113.0</td>\n",
       "      <td>153.0</td>\n",
       "      <td>60.0</td>\n",
       "    </tr>\n",
       "    <tr>\n",
       "      <th>138</th>\n",
       "      <td>Uttar_Pradesh</td>\n",
       "      <td>Noida</td>\n",
       "      <td>150.0</td>\n",
       "      <td>180.0</td>\n",
       "      <td>108.0</td>\n",
       "    </tr>\n",
       "  </tbody>\n",
       "</table>\n",
       "</div>"
      ],
      "text/plain": [
       "              State        City  Avg(ppb)  Max(ppb)  Min(ppb)\n",
       "21            Delhi       Delhi     152.0     192.0      45.0\n",
       "29          Haryana  Ballabgarh      76.0     171.0      22.0\n",
       "80   Madhya Pradesh    Jabalpur      58.0     161.0       4.0\n",
       "115       Rajasthan      Jaipur     102.0     194.0     102.0\n",
       "120       TamilNadu     Chennai      60.0     152.0      36.0\n",
       "128   Uttar_Pradesh   Ghaziabad     136.0     189.0      22.0\n",
       "136   Uttar_Pradesh   Moradabad     113.0     153.0      60.0\n",
       "138   Uttar_Pradesh       Noida     150.0     180.0     108.0"
      ]
     },
     "execution_count": 29,
     "metadata": {},
     "output_type": "execute_result"
    }
   ],
   "source": [
    "high_max = (ds1.loc[(ds1['Max(ppb)']>150)])\n",
    "high_max"
   ]
  },
  {
   "cell_type": "code",
   "execution_count": 30,
   "metadata": {},
   "outputs": [
    {
     "data": {
      "image/png": "[encoded data removed]",
      "text/plain": [
       "<Figure size 1500x500 with 1 Axes>"
      ]
     },
     "metadata": {},
     "output_type": "display_data"
    }
   ],
   "source": [
    "fig = plt.figure(figsize = (15, 5))\n",
    " \n",
    "\n",
    "plt.bar(high_max['City'], high_max['Max(ppb)'],width = 0.5)\n",
    " \n",
    "plt.xlabel(\"City\")\n",
    "plt.ylabel(\"Max(ppb)\")\n",
    "plt.title(\"Cities having Max(ppb) more than 150\")\n",
    "\n",
    "plt.show()"
   ]
  },
  {
   "attachments": {},
   "cell_type": "markdown",
   "metadata": {},
   "source": [
    "##### Visualizing_cities_having_Minimum_Carbon_Emissions"
   ]
  },
  {
   "cell_type": "code",
   "execution_count": 31,
   "metadata": {},
   "outputs": [
    {
     "data": {
      "text/html": [
       "<div>\n",
       "<style scoped>\n",
       "    .dataframe tbody tr th:only-of-type {\n",
       "        vertical-align: middle;\n",
       "    }\n",
       "\n",
       "    .dataframe tbody tr th {\n",
       "        vertical-align: top;\n",
       "    }\n",
       "\n",
       "    .dataframe thead th {\n",
       "        text-align: right;\n",
       "    }\n",
       "</style>\n",
       "<table border=\"1\" class=\"dataframe\">\n",
       "  <thead>\n",
       "    <tr style=\"text-align: right;\">\n",
       "      <th></th>\n",
       "      <th>State</th>\n",
       "      <th>City</th>\n",
       "      <th>Avg(ppb)</th>\n",
       "      <th>Max(ppb)</th>\n",
       "      <th>Min(ppb)</th>\n",
       "    </tr>\n",
       "  </thead>\n",
       "  <tbody>\n",
       "    <tr>\n",
       "      <th>1</th>\n",
       "      <td>Andhra_Pradesh</td>\n",
       "      <td>Rajamahendravaram</td>\n",
       "      <td>23.0</td>\n",
       "      <td>46.0</td>\n",
       "      <td>2.0</td>\n",
       "    </tr>\n",
       "    <tr>\n",
       "      <th>3</th>\n",
       "      <td>Andhra_Pradesh</td>\n",
       "      <td>Visakhapatnam</td>\n",
       "      <td>20.0</td>\n",
       "      <td>92.0</td>\n",
       "      <td>4.0</td>\n",
       "    </tr>\n",
       "    <tr>\n",
       "      <th>27</th>\n",
       "      <td>Haryana</td>\n",
       "      <td>Ambala</td>\n",
       "      <td>97.0</td>\n",
       "      <td>112.0</td>\n",
       "      <td>4.0</td>\n",
       "    </tr>\n",
       "    <tr>\n",
       "      <th>28</th>\n",
       "      <td>Haryana</td>\n",
       "      <td>Bahadurgarh</td>\n",
       "      <td>74.0</td>\n",
       "      <td>100.0</td>\n",
       "      <td>2.0</td>\n",
       "    </tr>\n",
       "    <tr>\n",
       "      <th>34</th>\n",
       "      <td>Haryana</td>\n",
       "      <td>Gurugram</td>\n",
       "      <td>54.0</td>\n",
       "      <td>147.0</td>\n",
       "      <td>1.0</td>\n",
       "    </tr>\n",
       "    <tr>\n",
       "      <th>39</th>\n",
       "      <td>Haryana</td>\n",
       "      <td>Kurukshetra</td>\n",
       "      <td>68.0</td>\n",
       "      <td>101.0</td>\n",
       "      <td>2.0</td>\n",
       "    </tr>\n",
       "    <tr>\n",
       "      <th>41</th>\n",
       "      <td>Haryana</td>\n",
       "      <td>Narnaul</td>\n",
       "      <td>29.0</td>\n",
       "      <td>48.0</td>\n",
       "      <td>1.0</td>\n",
       "    </tr>\n",
       "    <tr>\n",
       "      <th>43</th>\n",
       "      <td>Haryana</td>\n",
       "      <td>Panchkula</td>\n",
       "      <td>34.0</td>\n",
       "      <td>38.0</td>\n",
       "      <td>1.0</td>\n",
       "    </tr>\n",
       "    <tr>\n",
       "      <th>63</th>\n",
       "      <td>Karnataka</td>\n",
       "      <td>Mysuru</td>\n",
       "      <td>3.0</td>\n",
       "      <td>45.0</td>\n",
       "      <td>1.0</td>\n",
       "    </tr>\n",
       "    <tr>\n",
       "      <th>65</th>\n",
       "      <td>Karnataka</td>\n",
       "      <td>Ramanagara</td>\n",
       "      <td>16.0</td>\n",
       "      <td>24.0</td>\n",
       "      <td>3.0</td>\n",
       "    </tr>\n",
       "    <tr>\n",
       "      <th>80</th>\n",
       "      <td>Madhya Pradesh</td>\n",
       "      <td>Jabalpur</td>\n",
       "      <td>58.0</td>\n",
       "      <td>161.0</td>\n",
       "      <td>4.0</td>\n",
       "    </tr>\n",
       "    <tr>\n",
       "      <th>90</th>\n",
       "      <td>Maharashtra</td>\n",
       "      <td>Kalyan</td>\n",
       "      <td>48.0</td>\n",
       "      <td>116.0</td>\n",
       "      <td>1.0</td>\n",
       "    </tr>\n",
       "    <tr>\n",
       "      <th>121</th>\n",
       "      <td>TamilNadu</td>\n",
       "      <td>Coimbatore</td>\n",
       "      <td>18.0</td>\n",
       "      <td>19.0</td>\n",
       "      <td>1.0</td>\n",
       "    </tr>\n",
       "    <tr>\n",
       "      <th>122</th>\n",
       "      <td>TamilNadu</td>\n",
       "      <td>Thoothukudi</td>\n",
       "      <td>13.0</td>\n",
       "      <td>14.0</td>\n",
       "      <td>1.0</td>\n",
       "    </tr>\n",
       "    <tr>\n",
       "      <th>123</th>\n",
       "      <td>Telangana</td>\n",
       "      <td>Hyderabad</td>\n",
       "      <td>61.0</td>\n",
       "      <td>113.0</td>\n",
       "      <td>1.0</td>\n",
       "    </tr>\n",
       "  </tbody>\n",
       "</table>\n",
       "</div>"
      ],
      "text/plain": [
       "              State               City  Avg(ppb)  Max(ppb)  Min(ppb)\n",
       "1    Andhra_Pradesh  Rajamahendravaram      23.0      46.0       2.0\n",
       "3    Andhra_Pradesh      Visakhapatnam      20.0      92.0       4.0\n",
       "27          Haryana             Ambala      97.0     112.0       4.0\n",
       "28          Haryana        Bahadurgarh      74.0     100.0       2.0\n",
       "34          Haryana           Gurugram      54.0     147.0       1.0\n",
       "39          Haryana        Kurukshetra      68.0     101.0       2.0\n",
       "41          Haryana            Narnaul      29.0      48.0       1.0\n",
       "43          Haryana          Panchkula      34.0      38.0       1.0\n",
       "63        Karnataka             Mysuru       3.0      45.0       1.0\n",
       "65        Karnataka         Ramanagara      16.0      24.0       3.0\n",
       "80   Madhya Pradesh           Jabalpur      58.0     161.0       4.0\n",
       "90      Maharashtra             Kalyan      48.0     116.0       1.0\n",
       "121       TamilNadu         Coimbatore      18.0      19.0       1.0\n",
       "122       TamilNadu        Thoothukudi      13.0      14.0       1.0\n",
       "123       Telangana          Hyderabad      61.0     113.0       1.0"
      ]
     },
     "execution_count": 31,
     "metadata": {},
     "output_type": "execute_result"
    }
   ],
   "source": [
    "low_min = (ds1.loc[(ds1['Min(ppb)']<5)])\n",
    "low_min"
   ]
  },
  {
   "cell_type": "code",
   "execution_count": 32,
   "metadata": {},
   "outputs": [
    {
     "data": {
      "image/png": "[encoded data removed]",
      "text/plain": [
       "<Figure size 2500x500 with 1 Axes>"
      ]
     },
     "metadata": {},
     "output_type": "display_data"
    }
   ],
   "source": [
    "fig = plt.figure(figsize = (25, 5))\n",
    " \n",
    "\n",
    "plt.bar(low_min['City'], low_min['Min(ppb)'],width = 0.5)\n",
    " \n",
    "plt.xlabel(\"City\")\n",
    "plt.ylabel(\"Min(ppb)\")\n",
    "plt.title(\"Cities having Min(ppb) less than 5\")\n",
    "\n",
    "plt.show()"
   ]
  },
  {
   "attachments": {},
   "cell_type": "markdown",
   "metadata": {},
   "source": [
    "### State_wise_Visualization"
   ]
  },
  {
   "cell_type": "code",
   "execution_count": 33,
   "metadata": {},
   "outputs": [],
   "source": [
    "st=[]\n",
    "for i in ds1['State']:\n",
    "    if i not in st:\n",
    "        st.append(i)\n",
    "        \n",
    "state_wise_df = pd.DataFrame(st)\n",
    "\n",
    "state_wise_df.rename(columns={0:'State'}, inplace=True)"
   ]
  },
  {
   "cell_type": "code",
   "execution_count": 34,
   "metadata": {},
   "outputs": [],
   "source": [
    "a=[]\n",
    "for i in st:\n",
    "    a.append(state.get_group(i)['Avg(ppb)'].mean())\n",
    "\n",
    "state_wise_df.insert(1,'Mean of Avg(ppb)', a)"
   ]
  },
  {
   "cell_type": "code",
   "execution_count": 35,
   "metadata": {},
   "outputs": [],
   "source": [
    "b=[]\n",
    "for i in st:\n",
    "    b.append(state.get_group(i)['Max(ppb)'].mean())\n",
    "\n",
    "state_wise_df.insert(2,'Mean of Max(ppb)', b)"
   ]
  },
  {
   "cell_type": "code",
   "execution_count": 36,
   "metadata": {},
   "outputs": [],
   "source": [
    "c=[]\n",
    "for i in st:\n",
    "    c.append(state.get_group(i)['Min(ppb)'].mean())\n",
    "\n",
    "state_wise_df.insert(3,'Mean of Min(ppb)', c)"
   ]
  },
  {
   "cell_type": "code",
   "execution_count": 37,
   "metadata": {},
   "outputs": [
    {
     "data": {
      "text/html": [
       "<div>\n",
       "<style scoped>\n",
       "    .dataframe tbody tr th:only-of-type {\n",
       "        vertical-align: middle;\n",
       "    }\n",
       "\n",
       "    .dataframe tbody tr th {\n",
       "        vertical-align: top;\n",
       "    }\n",
       "\n",
       "    .dataframe thead th {\n",
       "        text-align: right;\n",
       "    }\n",
       "</style>\n",
       "<table border=\"1\" class=\"dataframe\">\n",
       "  <thead>\n",
       "    <tr style=\"text-align: right;\">\n",
       "      <th></th>\n",
       "      <th>State</th>\n",
       "      <th>Mean of Avg(ppb)</th>\n",
       "      <th>Mean of Max(ppb)</th>\n",
       "      <th>Mean of Min(ppb)</th>\n",
       "    </tr>\n",
       "  </thead>\n",
       "  <tbody>\n",
       "    <tr>\n",
       "      <th>0</th>\n",
       "      <td>Andhra_Pradesh</td>\n",
       "      <td>28.000000</td>\n",
       "      <td>55.500000</td>\n",
       "      <td>14.250000</td>\n",
       "    </tr>\n",
       "    <tr>\n",
       "      <th>1</th>\n",
       "      <td>Assam</td>\n",
       "      <td>42.000000</td>\n",
       "      <td>86.000000</td>\n",
       "      <td>10.000000</td>\n",
       "    </tr>\n",
       "    <tr>\n",
       "      <th>2</th>\n",
       "      <td>Bihar</td>\n",
       "      <td>56.500000</td>\n",
       "      <td>74.583333</td>\n",
       "      <td>38.250000</td>\n",
       "    </tr>\n",
       "    <tr>\n",
       "      <th>3</th>\n",
       "      <td>Chandigarh</td>\n",
       "      <td>67.000000</td>\n",
       "      <td>107.000000</td>\n",
       "      <td>12.000000</td>\n",
       "    </tr>\n",
       "    <tr>\n",
       "      <th>4</th>\n",
       "      <td>Chhattisgarh</td>\n",
       "      <td>50.000000</td>\n",
       "      <td>124.000000</td>\n",
       "      <td>20.000000</td>\n",
       "    </tr>\n",
       "    <tr>\n",
       "      <th>5</th>\n",
       "      <td>Delhi</td>\n",
       "      <td>152.000000</td>\n",
       "      <td>192.000000</td>\n",
       "      <td>45.000000</td>\n",
       "    </tr>\n",
       "    <tr>\n",
       "      <th>6</th>\n",
       "      <td>Gujarat</td>\n",
       "      <td>52.000000</td>\n",
       "      <td>90.750000</td>\n",
       "      <td>36.500000</td>\n",
       "    </tr>\n",
       "    <tr>\n",
       "      <th>7</th>\n",
       "      <td>Haryana</td>\n",
       "      <td>57.857143</td>\n",
       "      <td>87.666667</td>\n",
       "      <td>13.750000</td>\n",
       "    </tr>\n",
       "    <tr>\n",
       "      <th>8</th>\n",
       "      <td>Himachal Pradesh</td>\n",
       "      <td>37.000000</td>\n",
       "      <td>59.000000</td>\n",
       "      <td>14.000000</td>\n",
       "    </tr>\n",
       "    <tr>\n",
       "      <th>9</th>\n",
       "      <td>Karnataka</td>\n",
       "      <td>29.142857</td>\n",
       "      <td>51.285714</td>\n",
       "      <td>22.857143</td>\n",
       "    </tr>\n",
       "    <tr>\n",
       "      <th>10</th>\n",
       "      <td>Kerala</td>\n",
       "      <td>51.375000</td>\n",
       "      <td>73.500000</td>\n",
       "      <td>40.625000</td>\n",
       "    </tr>\n",
       "    <tr>\n",
       "      <th>11</th>\n",
       "      <td>Madhya Pradesh</td>\n",
       "      <td>46.545455</td>\n",
       "      <td>76.500000</td>\n",
       "      <td>15.916667</td>\n",
       "    </tr>\n",
       "    <tr>\n",
       "      <th>12</th>\n",
       "      <td>Maharashtra</td>\n",
       "      <td>70.250000</td>\n",
       "      <td>99.625000</td>\n",
       "      <td>51.625000</td>\n",
       "    </tr>\n",
       "    <tr>\n",
       "      <th>13</th>\n",
       "      <td>Manipur</td>\n",
       "      <td>6.000000</td>\n",
       "      <td>6.000000</td>\n",
       "      <td>6.000000</td>\n",
       "    </tr>\n",
       "    <tr>\n",
       "      <th>14</th>\n",
       "      <td>Meghalaya</td>\n",
       "      <td>59.000000</td>\n",
       "      <td>88.000000</td>\n",
       "      <td>18.000000</td>\n",
       "    </tr>\n",
       "    <tr>\n",
       "      <th>15</th>\n",
       "      <td>Mizoram</td>\n",
       "      <td>23.000000</td>\n",
       "      <td>30.000000</td>\n",
       "      <td>16.000000</td>\n",
       "    </tr>\n",
       "    <tr>\n",
       "      <th>16</th>\n",
       "      <td>Nagaland</td>\n",
       "      <td>19.000000</td>\n",
       "      <td>30.000000</td>\n",
       "      <td>15.000000</td>\n",
       "    </tr>\n",
       "    <tr>\n",
       "      <th>17</th>\n",
       "      <td>Odisha</td>\n",
       "      <td>62.500000</td>\n",
       "      <td>111.000000</td>\n",
       "      <td>46.000000</td>\n",
       "    </tr>\n",
       "    <tr>\n",
       "      <th>18</th>\n",
       "      <td>Puducherry</td>\n",
       "      <td>18.000000</td>\n",
       "      <td>31.000000</td>\n",
       "      <td>9.000000</td>\n",
       "    </tr>\n",
       "    <tr>\n",
       "      <th>19</th>\n",
       "      <td>Punjab</td>\n",
       "      <td>55.000000</td>\n",
       "      <td>90.750000</td>\n",
       "      <td>16.571429</td>\n",
       "    </tr>\n",
       "    <tr>\n",
       "      <th>20</th>\n",
       "      <td>Rajasthan</td>\n",
       "      <td>43.571429</td>\n",
       "      <td>96.750000</td>\n",
       "      <td>23.000000</td>\n",
       "    </tr>\n",
       "    <tr>\n",
       "      <th>21</th>\n",
       "      <td>TamilNadu</td>\n",
       "      <td>30.333333</td>\n",
       "      <td>61.666667</td>\n",
       "      <td>12.666667</td>\n",
       "    </tr>\n",
       "    <tr>\n",
       "      <th>22</th>\n",
       "      <td>Telangana</td>\n",
       "      <td>61.000000</td>\n",
       "      <td>113.000000</td>\n",
       "      <td>1.000000</td>\n",
       "    </tr>\n",
       "    <tr>\n",
       "      <th>23</th>\n",
       "      <td>Tripura</td>\n",
       "      <td>32.000000</td>\n",
       "      <td>76.000000</td>\n",
       "      <td>21.000000</td>\n",
       "    </tr>\n",
       "    <tr>\n",
       "      <th>24</th>\n",
       "      <td>Uttar_Pradesh</td>\n",
       "      <td>91.941176</td>\n",
       "      <td>124.882353</td>\n",
       "      <td>31.812500</td>\n",
       "    </tr>\n",
       "    <tr>\n",
       "      <th>25</th>\n",
       "      <td>Uttarakhand</td>\n",
       "      <td>42.000000</td>\n",
       "      <td>46.000000</td>\n",
       "      <td>33.000000</td>\n",
       "    </tr>\n",
       "    <tr>\n",
       "      <th>26</th>\n",
       "      <td>West_Bengal</td>\n",
       "      <td>37.600000</td>\n",
       "      <td>54.800000</td>\n",
       "      <td>20.600000</td>\n",
       "    </tr>\n",
       "  </tbody>\n",
       "</table>\n",
       "</div>"
      ],
      "text/plain": [
       "               State  Mean of Avg(ppb)  Mean of Max(ppb)  Mean of Min(ppb)\n",
       "0     Andhra_Pradesh         28.000000         55.500000         14.250000\n",
       "1              Assam         42.000000         86.000000         10.000000\n",
       "2              Bihar         56.500000         74.583333         38.250000\n",
       "3         Chandigarh         67.000000        107.000000         12.000000\n",
       "4       Chhattisgarh         50.000000        124.000000         20.000000\n",
       "5              Delhi        152.000000        192.000000         45.000000\n",
       "6            Gujarat         52.000000         90.750000         36.500000\n",
       "7            Haryana         57.857143         87.666667         13.750000\n",
       "8   Himachal Pradesh         37.000000         59.000000         14.000000\n",
       "9          Karnataka         29.142857         51.285714         22.857143\n",
       "10            Kerala         51.375000         73.500000         40.625000\n",
       "11    Madhya Pradesh         46.545455         76.500000         15.916667\n",
       "12       Maharashtra         70.250000         99.625000         51.625000\n",
       "13           Manipur          6.000000          6.000000          6.000000\n",
       "14         Meghalaya         59.000000         88.000000         18.000000\n",
       "15           Mizoram         23.000000         30.000000         16.000000\n",
       "16          Nagaland         19.000000         30.000000         15.000000\n",
       "17            Odisha         62.500000        111.000000         46.000000\n",
       "18        Puducherry         18.000000         31.000000          9.000000\n",
       "19            Punjab         55.000000         90.750000         16.571429\n",
       "20         Rajasthan         43.571429         96.750000         23.000000\n",
       "21         TamilNadu         30.333333         61.666667         12.666667\n",
       "22         Telangana         61.000000        113.000000          1.000000\n",
       "23           Tripura         32.000000         76.000000         21.000000\n",
       "24     Uttar_Pradesh         91.941176        124.882353         31.812500\n",
       "25       Uttarakhand         42.000000         46.000000         33.000000\n",
       "26       West_Bengal         37.600000         54.800000         20.600000"
      ]
     },
     "execution_count": 37,
     "metadata": {},
     "output_type": "execute_result"
    }
   ],
   "source": [
    "state_wise_df"
   ]
  },
  {
   "cell_type": "code",
   "execution_count": 38,
   "metadata": {},
   "outputs": [],
   "source": [
    "#add scatter plot satte wise using plotly"
   ]
  },
  {
   "attachments": {},
   "cell_type": "markdown",
   "metadata": {},
   "source": [
    "##### Mean Carbon Emission produced in each State"
   ]
  },
  {
   "cell_type": "code",
   "execution_count": 39,
   "metadata": {
    "scrolled": false
   },
   "outputs": [
    {
     "data": {
      "image/png": "[encoded data removed]",
      "text/plain": [
       "<Figure size 2800x1500 with 1 Axes>"
      ]
     },
     "metadata": {},
     "output_type": "display_data"
    }
   ],
   "source": [
    "fig = plt.figure(figsize = (28, 15))\n",
    " \n",
    "\n",
    "plt.bar(state_wise_df['State'], state_wise_df['Mean of Avg(ppb)'],width = 0.5, color='Brown')\n",
    " \n",
    "plt.xlabel(\"States\")\n",
    "plt.ylabel(\"Avg(ppb)\")\n",
    "plt.title(\"Avg(ppb) of different states\")\n",
    "\n",
    "plt.show()"
   ]
  },
  {
   "attachments": {},
   "cell_type": "markdown",
   "metadata": {},
   "source": [
    "##### States having the highest Carbon emmission (mean)"
   ]
  },
  {
   "cell_type": "code",
   "execution_count": 40,
   "metadata": {},
   "outputs": [
    {
     "data": {
      "image/png": "[encoded data removed]",
      "text/plain": [
       "<Figure size 2000x500 with 1 Axes>"
      ]
     },
     "metadata": {},
     "output_type": "display_data"
    }
   ],
   "source": [
    "st_high = (state_wise_df.loc[(state_wise_df['Mean of Max(ppb)']>100)])\n",
    "\n",
    "fig = plt.figure(figsize = (20, 5))\n",
    " \n",
    "\n",
    "a=plt.bar(st_high['State'], st_high['Mean of Max(ppb)'],width = 0.5)\n",
    " \n",
    "\n",
    "plt.rc('font', size=20)\n",
    "\n",
    "plt.xlabel(\"States\", fontsize=20)\n",
    "plt.ylabel(\"Max(ppb)\", fontsize=20)\n",
    "plt.title(\"States with the highest Carbon Emissions\",fontsize=20)\n",
    "\n",
    "plt.bar_label(a, label_type='center')\n",
    "plt.show()"
   ]
  },
  {
   "attachments": {},
   "cell_type": "markdown",
   "metadata": {},
   "source": [
    "# DATASET_2\n",
    ">This Data Shows Month wise Carbon Dioxide Production from the years 1958-2016"
   ]
  },
  {
   "cell_type": "code",
   "execution_count": 41,
   "metadata": {},
   "outputs": [],
   "source": [
    "ds2 = pd.read_csv(\"data2.csv\")"
   ]
  },
  {
   "cell_type": "code",
   "execution_count": 42,
   "metadata": {},
   "outputs": [
    {
     "data": {
      "text/html": [
       "<div>\n",
       "<style scoped>\n",
       "    .dataframe tbody tr th:only-of-type {\n",
       "        vertical-align: middle;\n",
       "    }\n",
       "\n",
       "    .dataframe tbody tr th {\n",
       "        vertical-align: top;\n",
       "    }\n",
       "\n",
       "    .dataframe thead th {\n",
       "        text-align: right;\n",
       "    }\n",
       "</style>\n",
       "<table border=\"1\" class=\"dataframe\">\n",
       "  <thead>\n",
       "    <tr style=\"text-align: right;\">\n",
       "      <th></th>\n",
       "      <th>Year</th>\n",
       "      <th>Month</th>\n",
       "      <th>Decimal Date</th>\n",
       "      <th>Carbon Dioxide (ppm)</th>\n",
       "      <th>Seasonally Adjusted CO2 (ppm)</th>\n",
       "    </tr>\n",
       "  </thead>\n",
       "  <tbody>\n",
       "    <tr>\n",
       "      <th>0</th>\n",
       "      <td>1958</td>\n",
       "      <td>1</td>\n",
       "      <td>1958.0411</td>\n",
       "      <td>NaN</td>\n",
       "      <td>NaN</td>\n",
       "    </tr>\n",
       "    <tr>\n",
       "      <th>1</th>\n",
       "      <td>1958</td>\n",
       "      <td>2</td>\n",
       "      <td>1958.1260</td>\n",
       "      <td>NaN</td>\n",
       "      <td>NaN</td>\n",
       "    </tr>\n",
       "    <tr>\n",
       "      <th>2</th>\n",
       "      <td>1958</td>\n",
       "      <td>3</td>\n",
       "      <td>1958.2027</td>\n",
       "      <td>315.69</td>\n",
       "      <td>314.42</td>\n",
       "    </tr>\n",
       "    <tr>\n",
       "      <th>3</th>\n",
       "      <td>1958</td>\n",
       "      <td>4</td>\n",
       "      <td>1958.2877</td>\n",
       "      <td>317.45</td>\n",
       "      <td>315.15</td>\n",
       "    </tr>\n",
       "    <tr>\n",
       "      <th>4</th>\n",
       "      <td>1958</td>\n",
       "      <td>5</td>\n",
       "      <td>1958.3699</td>\n",
       "      <td>317.50</td>\n",
       "      <td>314.73</td>\n",
       "    </tr>\n",
       "  </tbody>\n",
       "</table>\n",
       "</div>"
      ],
      "text/plain": [
       "   Year  Month  Decimal Date  Carbon Dioxide (ppm)  \\\n",
       "0  1958      1     1958.0411                   NaN   \n",
       "1  1958      2     1958.1260                   NaN   \n",
       "2  1958      3     1958.2027                315.69   \n",
       "3  1958      4     1958.2877                317.45   \n",
       "4  1958      5     1958.3699                317.50   \n",
       "\n",
       "   Seasonally Adjusted CO2 (ppm)  \n",
       "0                            NaN  \n",
       "1                            NaN  \n",
       "2                         314.42  \n",
       "3                         315.15  \n",
       "4                         314.73  "
      ]
     },
     "execution_count": 42,
     "metadata": {},
     "output_type": "execute_result"
    }
   ],
   "source": [
    "ds2.head()"
   ]
  },
  {
   "cell_type": "code",
   "execution_count": 43,
   "metadata": {},
   "outputs": [
    {
     "name": "stdout",
     "output_type": "stream",
     "text": [
      "<class 'pandas.core.frame.DataFrame'>\n",
      "RangeIndex: 708 entries, 0 to 707\n",
      "Data columns (total 5 columns):\n",
      " #   Column                         Non-Null Count  Dtype  \n",
      "---  ------                         --------------  -----  \n",
      " 0   Year                           708 non-null    int64  \n",
      " 1   Month                          708 non-null    int64  \n",
      " 2   Decimal Date                   708 non-null    float64\n",
      " 3   Carbon Dioxide (ppm)           693 non-null    float64\n",
      " 4   Seasonally Adjusted CO2 (ppm)  698 non-null    float64\n",
      "dtypes: float64(3), int64(2)\n",
      "memory usage: 27.8 KB\n"
     ]
    }
   ],
   "source": [
    "ds2.info()"
   ]
  },
  {
   "cell_type": "code",
   "execution_count": 44,
   "metadata": {},
   "outputs": [
    {
     "data": {
      "text/html": [
       "<div>\n",
       "<style scoped>\n",
       "    .dataframe tbody tr th:only-of-type {\n",
       "        vertical-align: middle;\n",
       "    }\n",
       "\n",
       "    .dataframe tbody tr th {\n",
       "        vertical-align: top;\n",
       "    }\n",
       "\n",
       "    .dataframe thead th {\n",
       "        text-align: right;\n",
       "    }\n",
       "</style>\n",
       "<table border=\"1\" class=\"dataframe\">\n",
       "  <thead>\n",
       "    <tr style=\"text-align: right;\">\n",
       "      <th></th>\n",
       "      <th>Year</th>\n",
       "      <th>Month</th>\n",
       "      <th>Decimal Date</th>\n",
       "      <th>Carbon Dioxide (ppm)</th>\n",
       "      <th>Seasonally Adjusted CO2 (ppm)</th>\n",
       "    </tr>\n",
       "  </thead>\n",
       "  <tbody>\n",
       "    <tr>\n",
       "      <th>count</th>\n",
       "      <td>708.000000</td>\n",
       "      <td>708.000000</td>\n",
       "      <td>708.000000</td>\n",
       "      <td>693.000000</td>\n",
       "      <td>698.000000</td>\n",
       "    </tr>\n",
       "    <tr>\n",
       "      <th>mean</th>\n",
       "      <td>1987.000000</td>\n",
       "      <td>6.500000</td>\n",
       "      <td>1987.497496</td>\n",
       "      <td>352.221241</td>\n",
       "      <td>352.141791</td>\n",
       "    </tr>\n",
       "    <tr>\n",
       "      <th>std</th>\n",
       "      <td>17.041426</td>\n",
       "      <td>3.454493</td>\n",
       "      <td>17.043871</td>\n",
       "      <td>26.096701</td>\n",
       "      <td>26.007730</td>\n",
       "    </tr>\n",
       "    <tr>\n",
       "      <th>min</th>\n",
       "      <td>1958.000000</td>\n",
       "      <td>1.000000</td>\n",
       "      <td>1958.041100</td>\n",
       "      <td>313.210000</td>\n",
       "      <td>314.420000</td>\n",
       "    </tr>\n",
       "    <tr>\n",
       "      <th>25%</th>\n",
       "      <td>1972.000000</td>\n",
       "      <td>3.750000</td>\n",
       "      <td>1972.769125</td>\n",
       "      <td>328.560000</td>\n",
       "      <td>328.927500</td>\n",
       "    </tr>\n",
       "    <tr>\n",
       "      <th>50%</th>\n",
       "      <td>1987.000000</td>\n",
       "      <td>6.500000</td>\n",
       "      <td>1987.495900</td>\n",
       "      <td>349.550000</td>\n",
       "      <td>349.640000</td>\n",
       "    </tr>\n",
       "    <tr>\n",
       "      <th>75%</th>\n",
       "      <td>2002.000000</td>\n",
       "      <td>9.250000</td>\n",
       "      <td>2002.223950</td>\n",
       "      <td>373.000000</td>\n",
       "      <td>372.362500</td>\n",
       "    </tr>\n",
       "    <tr>\n",
       "      <th>max</th>\n",
       "      <td>2016.000000</td>\n",
       "      <td>12.000000</td>\n",
       "      <td>2016.956300</td>\n",
       "      <td>407.650000</td>\n",
       "      <td>405.920000</td>\n",
       "    </tr>\n",
       "  </tbody>\n",
       "</table>\n",
       "</div>"
      ],
      "text/plain": [
       "              Year       Month  Decimal Date  Carbon Dioxide (ppm)  \\\n",
       "count   708.000000  708.000000    708.000000            693.000000   \n",
       "mean   1987.000000    6.500000   1987.497496            352.221241   \n",
       "std      17.041426    3.454493     17.043871             26.096701   \n",
       "min    1958.000000    1.000000   1958.041100            313.210000   \n",
       "25%    1972.000000    3.750000   1972.769125            328.560000   \n",
       "50%    1987.000000    6.500000   1987.495900            349.550000   \n",
       "75%    2002.000000    9.250000   2002.223950            373.000000   \n",
       "max    2016.000000   12.000000   2016.956300            407.650000   \n",
       "\n",
       "       Seasonally Adjusted CO2 (ppm)  \n",
       "count                     698.000000  \n",
       "mean                      352.141791  \n",
       "std                        26.007730  \n",
       "min                       314.420000  \n",
       "25%                       328.927500  \n",
       "50%                       349.640000  \n",
       "75%                       372.362500  \n",
       "max                       405.920000  "
      ]
     },
     "execution_count": 44,
     "metadata": {},
     "output_type": "execute_result"
    }
   ],
   "source": [
    "ds2.describe()"
   ]
  },
  {
   "attachments": {},
   "cell_type": "markdown",
   "metadata": {},
   "source": [
    "## 2.1-DPL"
   ]
  },
  {
   "cell_type": "code",
   "execution_count": 45,
   "metadata": {},
   "outputs": [],
   "source": [
    "import numpy as np"
   ]
  },
  {
   "attachments": {},
   "cell_type": "markdown",
   "metadata": {},
   "source": [
    "##### 2.1.1-Dropping_columns"
   ]
  },
  {
   "cell_type": "code",
   "execution_count": 46,
   "metadata": {},
   "outputs": [],
   "source": [
    "ds2.drop('Decimal Date', axis=1, inplace=True)"
   ]
  },
  {
   "cell_type": "code",
   "execution_count": 47,
   "metadata": {},
   "outputs": [
    {
     "data": {
      "text/html": [
       "<div>\n",
       "<style scoped>\n",
       "    .dataframe tbody tr th:only-of-type {\n",
       "        vertical-align: middle;\n",
       "    }\n",
       "\n",
       "    .dataframe tbody tr th {\n",
       "        vertical-align: top;\n",
       "    }\n",
       "\n",
       "    .dataframe thead th {\n",
       "        text-align: right;\n",
       "    }\n",
       "</style>\n",
       "<table border=\"1\" class=\"dataframe\">\n",
       "  <thead>\n",
       "    <tr style=\"text-align: right;\">\n",
       "      <th></th>\n",
       "      <th>Year</th>\n",
       "      <th>Month</th>\n",
       "      <th>Carbon Dioxide (ppm)</th>\n",
       "      <th>Seasonally Adjusted CO2 (ppm)</th>\n",
       "    </tr>\n",
       "  </thead>\n",
       "  <tbody>\n",
       "    <tr>\n",
       "      <th>504</th>\n",
       "      <td>2000</td>\n",
       "      <td>1</td>\n",
       "      <td>369.14</td>\n",
       "      <td>369.12</td>\n",
       "    </tr>\n",
       "    <tr>\n",
       "      <th>505</th>\n",
       "      <td>2000</td>\n",
       "      <td>2</td>\n",
       "      <td>369.46</td>\n",
       "      <td>368.76</td>\n",
       "    </tr>\n",
       "    <tr>\n",
       "      <th>506</th>\n",
       "      <td>2000</td>\n",
       "      <td>3</td>\n",
       "      <td>370.51</td>\n",
       "      <td>369.00</td>\n",
       "    </tr>\n",
       "    <tr>\n",
       "      <th>507</th>\n",
       "      <td>2000</td>\n",
       "      <td>4</td>\n",
       "      <td>371.66</td>\n",
       "      <td>368.96</td>\n",
       "    </tr>\n",
       "    <tr>\n",
       "      <th>508</th>\n",
       "      <td>2000</td>\n",
       "      <td>5</td>\n",
       "      <td>371.83</td>\n",
       "      <td>368.61</td>\n",
       "    </tr>\n",
       "    <tr>\n",
       "      <th>...</th>\n",
       "      <td>...</td>\n",
       "      <td>...</td>\n",
       "      <td>...</td>\n",
       "      <td>...</td>\n",
       "    </tr>\n",
       "    <tr>\n",
       "      <th>703</th>\n",
       "      <td>2016</td>\n",
       "      <td>8</td>\n",
       "      <td>402.24</td>\n",
       "      <td>403.78</td>\n",
       "    </tr>\n",
       "    <tr>\n",
       "      <th>704</th>\n",
       "      <td>2016</td>\n",
       "      <td>9</td>\n",
       "      <td>401.01</td>\n",
       "      <td>404.52</td>\n",
       "    </tr>\n",
       "    <tr>\n",
       "      <th>705</th>\n",
       "      <td>2016</td>\n",
       "      <td>10</td>\n",
       "      <td>401.50</td>\n",
       "      <td>405.12</td>\n",
       "    </tr>\n",
       "    <tr>\n",
       "      <th>706</th>\n",
       "      <td>2016</td>\n",
       "      <td>11</td>\n",
       "      <td>403.64</td>\n",
       "      <td>405.92</td>\n",
       "    </tr>\n",
       "    <tr>\n",
       "      <th>707</th>\n",
       "      <td>2016</td>\n",
       "      <td>12</td>\n",
       "      <td>404.55</td>\n",
       "      <td>405.49</td>\n",
       "    </tr>\n",
       "  </tbody>\n",
       "</table>\n",
       "<p>204 rows × 4 columns</p>\n",
       "</div>"
      ],
      "text/plain": [
       "     Year  Month  Carbon Dioxide (ppm)  Seasonally Adjusted CO2 (ppm)\n",
       "504  2000      1                369.14                         369.12\n",
       "505  2000      2                369.46                         368.76\n",
       "506  2000      3                370.51                         369.00\n",
       "507  2000      4                371.66                         368.96\n",
       "508  2000      5                371.83                         368.61\n",
       "..    ...    ...                   ...                            ...\n",
       "703  2016      8                402.24                         403.78\n",
       "704  2016      9                401.01                         404.52\n",
       "705  2016     10                401.50                         405.12\n",
       "706  2016     11                403.64                         405.92\n",
       "707  2016     12                404.55                         405.49\n",
       "\n",
       "[204 rows x 4 columns]"
      ]
     },
     "execution_count": 47,
     "metadata": {},
     "output_type": "execute_result"
    }
   ],
   "source": [
    "#To get a more accurate prediction we are dropping the data for the years below 2000 since before that the carbon footprint is quite less.\n",
    "\n",
    "count = 0\n",
    "for i in ds2['Year']:\n",
    "    if i<2000:\n",
    "        count=count+1\n",
    "ds2.drop(ds2.index[0:count], inplace=True)\n",
    "\n",
    "ds2"
   ]
  },
  {
   "cell_type": "code",
   "execution_count": 48,
   "metadata": {},
   "outputs": [
    {
     "data": {
      "text/plain": [
       "Year                             0\n",
       "Month                            0\n",
       "Carbon Dioxide (ppm)             3\n",
       "Seasonally Adjusted CO2 (ppm)    2\n",
       "dtype: int64"
      ]
     },
     "execution_count": 48,
     "metadata": {},
     "output_type": "execute_result"
    }
   ],
   "source": [
    "#Checking Null vallues in each column\n",
    "\n",
    "ds2.isna().sum()"
   ]
  },
  {
   "attachments": {},
   "cell_type": "markdown",
   "metadata": {},
   "source": [
    "##### 2.1.2-Working_with_Null_Values"
   ]
  },
  {
   "cell_type": "code",
   "execution_count": 49,
   "metadata": {},
   "outputs": [],
   "source": [
    "#Grouping the Years column to extract rowas of Particular rows\n",
    "\n",
    "years = ds2.groupby(ds2.Year)"
   ]
  },
  {
   "cell_type": "code",
   "execution_count": 50,
   "metadata": {},
   "outputs": [
    {
     "name": "stderr",
     "output_type": "stream",
     "text": [
      "C:\\Users\\tanus\\AppData\\Local\\Temp\\ipykernel_17528\\1126452139.py:6: SettingWithCopyWarning:\n",
      "\n",
      "\n",
      "A value is trying to be set on a copy of a slice from a DataFrame\n",
      "\n",
      "See the caveats in the documentation: https://pandas.pydata.org/pandas-docs/stable/user_guide/indexing.html#returning-a-view-versus-a-copy\n",
      "\n"
     ]
    },
    {
     "data": {
      "text/html": [
       "<div>\n",
       "<style scoped>\n",
       "    .dataframe tbody tr th:only-of-type {\n",
       "        vertical-align: middle;\n",
       "    }\n",
       "\n",
       "    .dataframe tbody tr th {\n",
       "        vertical-align: top;\n",
       "    }\n",
       "\n",
       "    .dataframe thead th {\n",
       "        text-align: right;\n",
       "    }\n",
       "</style>\n",
       "<table border=\"1\" class=\"dataframe\">\n",
       "  <thead>\n",
       "    <tr style=\"text-align: right;\">\n",
       "      <th></th>\n",
       "      <th>Year</th>\n",
       "      <th>Month</th>\n",
       "      <th>Carbon Dioxide (ppm)</th>\n",
       "    </tr>\n",
       "  </thead>\n",
       "  <tbody>\n",
       "    <tr>\n",
       "      <th>519</th>\n",
       "      <td>2001</td>\n",
       "      <td>4</td>\n",
       "      <td>null</td>\n",
       "    </tr>\n",
       "    <tr>\n",
       "      <th>545</th>\n",
       "      <td>2003</td>\n",
       "      <td>6</td>\n",
       "      <td>null</td>\n",
       "    </tr>\n",
       "    <tr>\n",
       "      <th>695</th>\n",
       "      <td>2015</td>\n",
       "      <td>12</td>\n",
       "      <td>null</td>\n",
       "    </tr>\n",
       "  </tbody>\n",
       "</table>\n",
       "</div>"
      ],
      "text/plain": [
       "     Year  Month Carbon Dioxide (ppm)\n",
       "519  2001      4                 null\n",
       "545  2003      6                 null\n",
       "695  2015     12                 null"
      ]
     },
     "execution_count": 50,
     "metadata": {},
     "output_type": "execute_result"
    }
   ],
   "source": [
    "#Locating Null Values in Carbon Dioxide (ppm) column\n",
    "\n",
    "ds2.replace(np.nan, 'null', inplace=True)\n",
    "\n",
    "data1 = ds2.loc[ds2[\"Carbon Dioxide (ppm)\"]=='null']\n",
    "data1.drop(\"Seasonally Adjusted CO2 (ppm)\", axis=1, inplace=True)\n",
    "\n",
    "ds2.replace('null',np.nan, inplace=True)\n",
    "\n",
    "data1"
   ]
  },
  {
   "cell_type": "code",
   "execution_count": 51,
   "metadata": {},
   "outputs": [
    {
     "name": "stdout",
     "output_type": "stream",
     "text": [
      "     Year  Month  Carbon Dioxide (ppm)  Seasonally Adjusted CO2 (ppm)\n",
      "516  2001      1                370.28                         370.26\n",
      "517  2001      2                371.50                         370.79\n",
      "518  2001      3                372.12                         370.63\n",
      "519  2001      4                   NaN                         370.18\n",
      "520  2001      5                374.02                         370.79\n",
      "521  2001      6                373.31                         370.86\n",
      "522  2001      7                371.62                         370.81\n",
      "523  2001      8                369.55                         371.00\n",
      "524  2001      9                367.96                         371.29\n",
      "525  2001     10                368.10                         371.55\n",
      "526  2001     11                369.68                         371.86\n",
      "527  2001     12                371.24                         372.14\n",
      "     Year  Month  Carbon Dioxide (ppm)  Seasonally Adjusted CO2 (ppm)\n",
      "540  2003      1                374.68                         374.66\n",
      "541  2003      2                375.62                         374.92\n",
      "542  2003      3                376.11                         374.61\n",
      "543  2003      4                377.65                         374.95\n",
      "544  2003      5                378.35                         375.10\n",
      "545  2003      6                   NaN                         375.66\n",
      "546  2003      7                376.61                         375.80\n",
      "547  2003      8                374.48                         375.94\n",
      "548  2003      9                372.98                         376.33\n",
      "549  2003     10                373.00                         376.48\n",
      "550  2003     11                374.34                         376.54\n",
      "551  2003     12                375.69                         376.60\n",
      "     Year  Month  Carbon Dioxide (ppm)  Seasonally Adjusted CO2 (ppm)\n",
      "684  2015      1                399.85                         399.83\n",
      "685  2015      2                400.31                         399.57\n",
      "686  2015      3                401.51                         399.96\n",
      "687  2015      4                403.45                         400.64\n",
      "688  2015      5                404.11                         400.73\n",
      "689  2015      6                402.88                         400.31\n",
      "690  2015      7                401.60                         400.76\n",
      "691  2015      8                399.00                         400.51\n",
      "692  2015      9                397.50                         400.98\n",
      "693  2015     10                398.28                         401.90\n",
      "694  2015     11                400.24                         402.52\n",
      "695  2015     12                   NaN                         402.83\n"
     ]
    }
   ],
   "source": [
    "a = years.get_group(2001)\n",
    "b = years.get_group(2003)\n",
    "c = years.get_group(2015)\n",
    "\n",
    "print(f\"{a}\\n{b}\\n{c}\")"
   ]
  },
  {
   "cell_type": "code",
   "execution_count": 52,
   "metadata": {},
   "outputs": [],
   "source": [
    "ds2['Carbon Dioxide (ppm)'].loc[516:527].fillna(value=a[\"Carbon Dioxide (ppm)\"].mean(), inplace=True)\n",
    "\n",
    "ds2['Carbon Dioxide (ppm)'].loc[540:551].fillna(value=b[\"Carbon Dioxide (ppm)\"].mean(), inplace=True)\n",
    "\n",
    "ds2['Carbon Dioxide (ppm)'].loc[684:695].fillna(value=c[\"Carbon Dioxide (ppm)\"].mean(), inplace=True)"
   ]
  },
  {
   "cell_type": "code",
   "execution_count": 53,
   "metadata": {},
   "outputs": [
    {
     "name": "stdout",
     "output_type": "stream",
     "text": [
      "Year                             2\n",
      "Month                            2\n",
      "Seasonally Adjusted CO2 (ppm)    2\n",
      "dtype: int64\n"
     ]
    },
    {
     "name": "stderr",
     "output_type": "stream",
     "text": [
      "C:\\Users\\tanus\\AppData\\Local\\Temp\\ipykernel_17528\\2597387928.py:7: SettingWithCopyWarning:\n",
      "\n",
      "\n",
      "A value is trying to be set on a copy of a slice from a DataFrame\n",
      "\n",
      "See the caveats in the documentation: https://pandas.pydata.org/pandas-docs/stable/user_guide/indexing.html#returning-a-view-versus-a-copy\n",
      "\n"
     ]
    },
    {
     "data": {
      "text/html": [
       "<div>\n",
       "<style scoped>\n",
       "    .dataframe tbody tr th:only-of-type {\n",
       "        vertical-align: middle;\n",
       "    }\n",
       "\n",
       "    .dataframe tbody tr th {\n",
       "        vertical-align: top;\n",
       "    }\n",
       "\n",
       "    .dataframe thead th {\n",
       "        text-align: right;\n",
       "    }\n",
       "</style>\n",
       "<table border=\"1\" class=\"dataframe\">\n",
       "  <thead>\n",
       "    <tr style=\"text-align: right;\">\n",
       "      <th></th>\n",
       "      <th>Year</th>\n",
       "      <th>Month</th>\n",
       "      <th>Seasonally Adjusted CO2 (ppm)</th>\n",
       "    </tr>\n",
       "  </thead>\n",
       "  <tbody>\n",
       "    <tr>\n",
       "      <th>596</th>\n",
       "      <td>2007</td>\n",
       "      <td>9</td>\n",
       "      <td>null</td>\n",
       "    </tr>\n",
       "    <tr>\n",
       "      <th>678</th>\n",
       "      <td>2014</td>\n",
       "      <td>7</td>\n",
       "      <td>null</td>\n",
       "    </tr>\n",
       "  </tbody>\n",
       "</table>\n",
       "</div>"
      ],
      "text/plain": [
       "     Year  Month Seasonally Adjusted CO2 (ppm)\n",
       "596  2007      9                          null\n",
       "678  2014      7                          null"
      ]
     },
     "execution_count": 53,
     "metadata": {},
     "output_type": "execute_result"
    }
   ],
   "source": [
    "#Locating Null Values in Seasonally Adjusted CO2 (ppm) column\n",
    "\n",
    "ds2.replace(np.nan, 'null', inplace=True)\n",
    "\n",
    "\n",
    "data2 = ds2.loc[ds2[\"Seasonally Adjusted CO2 (ppm)\"]=='null']\n",
    "data2.drop(\"Carbon Dioxide (ppm)\", axis=1, inplace=True)\n",
    "\n",
    "ds2.replace('null',np.nan, inplace=True)\n",
    "\n",
    "print(data2.count())\n",
    "data2"
   ]
  },
  {
   "cell_type": "code",
   "execution_count": 54,
   "metadata": {},
   "outputs": [
    {
     "name": "stdout",
     "output_type": "stream",
     "text": [
      "     Year  Month  Carbon Dioxide (ppm)  Seasonally Adjusted CO2 (ppm)\n",
      "588  2007      1                382.58                         382.56\n",
      "589  2007      2                383.71                         383.00\n",
      "590  2007      3                384.34                         382.82\n",
      "591  2007      4                386.23                         383.49\n",
      "592  2007      5                386.41                         383.12\n",
      "593  2007      6                385.87                         383.37\n",
      "594  2007      7                384.45                         383.63\n",
      "595  2007      8                381.84                         383.32\n",
      "596  2007      9                380.86                            NaN\n",
      "597  2007     10                380.86                         384.38\n",
      "598  2007     11                382.35                         384.58\n",
      "599  2007     12                383.61                         384.53\n",
      "     Year  Month  Carbon Dioxide (ppm)  Seasonally Adjusted CO2 (ppm)\n",
      "672  2014      1                397.93                         397.90\n",
      "673  2014      2                398.10                         397.37\n",
      "674  2014      3                399.47                         397.92\n",
      "675  2014      4                401.33                         398.53\n",
      "676  2014      5                401.88                         398.51\n",
      "677  2014      6                401.31                         398.75\n",
      "678  2014      7                399.07                            NaN\n",
      "679  2014      8                397.21                         398.72\n",
      "680  2014      9                395.40                         398.87\n",
      "681  2014     10                395.65                         399.25\n",
      "682  2014     11                397.22                         399.50\n",
      "683  2014     12                398.79                         399.73\n"
     ]
    }
   ],
   "source": [
    "a = years.get_group(2007)\n",
    "b = years.get_group(2014)\n",
    "\n",
    "print(f\"{a}\\n{b}\")"
   ]
  },
  {
   "cell_type": "code",
   "execution_count": 55,
   "metadata": {},
   "outputs": [],
   "source": [
    "#Filling Null Values for the Year 2007\n",
    "ds2['Seasonally Adjusted CO2 (ppm)'].loc[588:599].fillna(value=a[\"Seasonally Adjusted CO2 (ppm)\"].mean(), inplace=True)\n",
    "\n",
    "#Filling Null Values for the Year 2014\n",
    "ds2['Seasonally Adjusted CO2 (ppm)'].loc[672:683].fillna(value=b[\"Seasonally Adjusted CO2 (ppm)\"].mean(), inplace=True)"
   ]
  },
  {
   "cell_type": "code",
   "execution_count": 56,
   "metadata": {},
   "outputs": [
    {
     "data": {
      "text/plain": [
       "Year                             0\n",
       "Month                            0\n",
       "Carbon Dioxide (ppm)             0\n",
       "Seasonally Adjusted CO2 (ppm)    0\n",
       "dtype: int64"
      ]
     },
     "execution_count": 56,
     "metadata": {},
     "output_type": "execute_result"
    }
   ],
   "source": [
    "#Checking to see if there are any remainig Null Values\n",
    "\n",
    "ds2.isna().sum()"
   ]
  },
  {
   "cell_type": "code",
   "execution_count": 57,
   "metadata": {
    "scrolled": true
   },
   "outputs": [
    {
     "data": {
      "text/html": [
       "<div>\n",
       "<style scoped>\n",
       "    .dataframe tbody tr th:only-of-type {\n",
       "        vertical-align: middle;\n",
       "    }\n",
       "\n",
       "    .dataframe tbody tr th {\n",
       "        vertical-align: top;\n",
       "    }\n",
       "\n",
       "    .dataframe thead th {\n",
       "        text-align: right;\n",
       "    }\n",
       "</style>\n",
       "<table border=\"1\" class=\"dataframe\">\n",
       "  <thead>\n",
       "    <tr style=\"text-align: right;\">\n",
       "      <th></th>\n",
       "      <th>Year</th>\n",
       "      <th>Month</th>\n",
       "      <th>Carbon Dioxide (ppm)</th>\n",
       "      <th>Seasonally Adjusted CO2 (ppm)</th>\n",
       "    </tr>\n",
       "  </thead>\n",
       "  <tbody>\n",
       "    <tr>\n",
       "      <th>504</th>\n",
       "      <td>2000</td>\n",
       "      <td>1</td>\n",
       "      <td>369.14</td>\n",
       "      <td>369.12</td>\n",
       "    </tr>\n",
       "    <tr>\n",
       "      <th>505</th>\n",
       "      <td>2000</td>\n",
       "      <td>2</td>\n",
       "      <td>369.46</td>\n",
       "      <td>368.76</td>\n",
       "    </tr>\n",
       "    <tr>\n",
       "      <th>506</th>\n",
       "      <td>2000</td>\n",
       "      <td>3</td>\n",
       "      <td>370.51</td>\n",
       "      <td>369.00</td>\n",
       "    </tr>\n",
       "    <tr>\n",
       "      <th>507</th>\n",
       "      <td>2000</td>\n",
       "      <td>4</td>\n",
       "      <td>371.66</td>\n",
       "      <td>368.96</td>\n",
       "    </tr>\n",
       "    <tr>\n",
       "      <th>508</th>\n",
       "      <td>2000</td>\n",
       "      <td>5</td>\n",
       "      <td>371.83</td>\n",
       "      <td>368.61</td>\n",
       "    </tr>\n",
       "    <tr>\n",
       "      <th>...</th>\n",
       "      <td>...</td>\n",
       "      <td>...</td>\n",
       "      <td>...</td>\n",
       "      <td>...</td>\n",
       "    </tr>\n",
       "    <tr>\n",
       "      <th>703</th>\n",
       "      <td>2016</td>\n",
       "      <td>8</td>\n",
       "      <td>402.24</td>\n",
       "      <td>403.78</td>\n",
       "    </tr>\n",
       "    <tr>\n",
       "      <th>704</th>\n",
       "      <td>2016</td>\n",
       "      <td>9</td>\n",
       "      <td>401.01</td>\n",
       "      <td>404.52</td>\n",
       "    </tr>\n",
       "    <tr>\n",
       "      <th>705</th>\n",
       "      <td>2016</td>\n",
       "      <td>10</td>\n",
       "      <td>401.50</td>\n",
       "      <td>405.12</td>\n",
       "    </tr>\n",
       "    <tr>\n",
       "      <th>706</th>\n",
       "      <td>2016</td>\n",
       "      <td>11</td>\n",
       "      <td>403.64</td>\n",
       "      <td>405.92</td>\n",
       "    </tr>\n",
       "    <tr>\n",
       "      <th>707</th>\n",
       "      <td>2016</td>\n",
       "      <td>12</td>\n",
       "      <td>404.55</td>\n",
       "      <td>405.49</td>\n",
       "    </tr>\n",
       "  </tbody>\n",
       "</table>\n",
       "<p>204 rows × 4 columns</p>\n",
       "</div>"
      ],
      "text/plain": [
       "     Year  Month  Carbon Dioxide (ppm)  Seasonally Adjusted CO2 (ppm)\n",
       "504  2000      1                369.14                         369.12\n",
       "505  2000      2                369.46                         368.76\n",
       "506  2000      3                370.51                         369.00\n",
       "507  2000      4                371.66                         368.96\n",
       "508  2000      5                371.83                         368.61\n",
       "..    ...    ...                   ...                            ...\n",
       "703  2016      8                402.24                         403.78\n",
       "704  2016      9                401.01                         404.52\n",
       "705  2016     10                401.50                         405.12\n",
       "706  2016     11                403.64                         405.92\n",
       "707  2016     12                404.55                         405.49\n",
       "\n",
       "[204 rows x 4 columns]"
      ]
     },
     "execution_count": 57,
     "metadata": {},
     "output_type": "execute_result"
    }
   ],
   "source": [
    "ds2"
   ]
  },
  {
   "attachments": {},
   "cell_type": "markdown",
   "metadata": {},
   "source": [
    "## 2.2-EDAL/PDSL"
   ]
  },
  {
   "cell_type": "code",
   "execution_count": 58,
   "metadata": {},
   "outputs": [],
   "source": [
    "import plotly.express as px\n",
    "import seaborn as sns\n",
    "import plotly.graph_objs as go"
   ]
  },
  {
   "cell_type": "code",
   "execution_count": 59,
   "metadata": {},
   "outputs": [],
   "source": [
    "yr=[]\n",
    "for i in ds2['Year']:\n",
    "    if i not in yr:\n",
    "        yr.append(i)\n",
    "        \n",
    "year_wise_df = pd.DataFrame(yr)\n",
    "\n",
    "year_wise_df.rename(columns={0:'Year'}, inplace=True)"
   ]
  },
  {
   "cell_type": "code",
   "execution_count": 60,
   "metadata": {},
   "outputs": [],
   "source": [
    "a=[]\n",
    "for j in yr:\n",
    "    a.append(round(years.get_group(j)['Carbon Dioxide (ppm)'].mean(),2))\n",
    "\n",
    "year_wise_df.insert(1,'Mean of Carbon Dioxide (ppm)', a)"
   ]
  },
  {
   "cell_type": "code",
   "execution_count": 61,
   "metadata": {},
   "outputs": [],
   "source": [
    "b=[]\n",
    "for j in yr:\n",
    "    b.append(round(years.get_group(j)['Seasonally Adjusted CO2 (ppm)'].mean(),2))\n",
    "\n",
    "year_wise_df.insert(2,'Mean of Seasonally Adjusted CO2 (ppm)', b)"
   ]
  },
  {
   "cell_type": "code",
   "execution_count": 62,
   "metadata": {
    "scrolled": false
   },
   "outputs": [
    {
     "data": {
      "text/html": [
       "<div>\n",
       "<style scoped>\n",
       "    .dataframe tbody tr th:only-of-type {\n",
       "        vertical-align: middle;\n",
       "    }\n",
       "\n",
       "    .dataframe tbody tr th {\n",
       "        vertical-align: top;\n",
       "    }\n",
       "\n",
       "    .dataframe thead th {\n",
       "        text-align: right;\n",
       "    }\n",
       "</style>\n",
       "<table border=\"1\" class=\"dataframe\">\n",
       "  <thead>\n",
       "    <tr style=\"text-align: right;\">\n",
       "      <th></th>\n",
       "      <th>Year</th>\n",
       "      <th>Mean of Carbon Dioxide (ppm)</th>\n",
       "      <th>Mean of Seasonally Adjusted CO2 (ppm)</th>\n",
       "    </tr>\n",
       "  </thead>\n",
       "  <tbody>\n",
       "    <tr>\n",
       "      <th>0</th>\n",
       "      <td>2000</td>\n",
       "      <td>369.47</td>\n",
       "      <td>369.47</td>\n",
       "    </tr>\n",
       "    <tr>\n",
       "      <th>1</th>\n",
       "      <td>2001</td>\n",
       "      <td>370.85</td>\n",
       "      <td>371.01</td>\n",
       "    </tr>\n",
       "    <tr>\n",
       "      <th>2</th>\n",
       "      <td>2002</td>\n",
       "      <td>373.10</td>\n",
       "      <td>373.09</td>\n",
       "    </tr>\n",
       "    <tr>\n",
       "      <th>3</th>\n",
       "      <td>2003</td>\n",
       "      <td>375.41</td>\n",
       "      <td>375.63</td>\n",
       "    </tr>\n",
       "    <tr>\n",
       "      <th>4</th>\n",
       "      <td>2004</td>\n",
       "      <td>377.36</td>\n",
       "      <td>377.36</td>\n",
       "    </tr>\n",
       "    <tr>\n",
       "      <th>5</th>\n",
       "      <td>2005</td>\n",
       "      <td>379.61</td>\n",
       "      <td>379.60</td>\n",
       "    </tr>\n",
       "    <tr>\n",
       "      <th>6</th>\n",
       "      <td>2006</td>\n",
       "      <td>381.81</td>\n",
       "      <td>381.80</td>\n",
       "    </tr>\n",
       "    <tr>\n",
       "      <th>7</th>\n",
       "      <td>2007</td>\n",
       "      <td>383.59</td>\n",
       "      <td>383.53</td>\n",
       "    </tr>\n",
       "    <tr>\n",
       "      <th>8</th>\n",
       "      <td>2008</td>\n",
       "      <td>385.45</td>\n",
       "      <td>385.45</td>\n",
       "    </tr>\n",
       "    <tr>\n",
       "      <th>9</th>\n",
       "      <td>2009</td>\n",
       "      <td>387.36</td>\n",
       "      <td>387.35</td>\n",
       "    </tr>\n",
       "    <tr>\n",
       "      <th>10</th>\n",
       "      <td>2010</td>\n",
       "      <td>389.90</td>\n",
       "      <td>389.89</td>\n",
       "    </tr>\n",
       "    <tr>\n",
       "      <th>11</th>\n",
       "      <td>2011</td>\n",
       "      <td>391.65</td>\n",
       "      <td>391.64</td>\n",
       "    </tr>\n",
       "    <tr>\n",
       "      <th>12</th>\n",
       "      <td>2012</td>\n",
       "      <td>393.87</td>\n",
       "      <td>393.87</td>\n",
       "    </tr>\n",
       "    <tr>\n",
       "      <th>13</th>\n",
       "      <td>2013</td>\n",
       "      <td>396.57</td>\n",
       "      <td>396.56</td>\n",
       "    </tr>\n",
       "    <tr>\n",
       "      <th>14</th>\n",
       "      <td>2014</td>\n",
       "      <td>398.61</td>\n",
       "      <td>398.64</td>\n",
       "    </tr>\n",
       "    <tr>\n",
       "      <th>15</th>\n",
       "      <td>2015</td>\n",
       "      <td>400.79</td>\n",
       "      <td>400.88</td>\n",
       "    </tr>\n",
       "    <tr>\n",
       "      <th>16</th>\n",
       "      <td>2016</td>\n",
       "      <td>404.28</td>\n",
       "      <td>404.27</td>\n",
       "    </tr>\n",
       "  </tbody>\n",
       "</table>\n",
       "</div>"
      ],
      "text/plain": [
       "    Year  Mean of Carbon Dioxide (ppm)  Mean of Seasonally Adjusted CO2 (ppm)\n",
       "0   2000                        369.47                                 369.47\n",
       "1   2001                        370.85                                 371.01\n",
       "2   2002                        373.10                                 373.09\n",
       "3   2003                        375.41                                 375.63\n",
       "4   2004                        377.36                                 377.36\n",
       "5   2005                        379.61                                 379.60\n",
       "6   2006                        381.81                                 381.80\n",
       "7   2007                        383.59                                 383.53\n",
       "8   2008                        385.45                                 385.45\n",
       "9   2009                        387.36                                 387.35\n",
       "10  2010                        389.90                                 389.89\n",
       "11  2011                        391.65                                 391.64\n",
       "12  2012                        393.87                                 393.87\n",
       "13  2013                        396.57                                 396.56\n",
       "14  2014                        398.61                                 398.64\n",
       "15  2015                        400.79                                 400.88\n",
       "16  2016                        404.28                                 404.27"
      ]
     },
     "execution_count": 62,
     "metadata": {},
     "output_type": "execute_result"
    }
   ],
   "source": [
    "year_wise_df"
   ]
  },
  {
   "cell_type": "code",
   "execution_count": 63,
   "metadata": {},
   "outputs": [
    {
     "data": {
      "application/vnd.plotly.v1+json": {
       "config": {
        "plotlyServerURL": "https://plot.ly"
       },
       "data": [
        {
         "branchvalues": "total",
         "customdata": [
          [
           369.47
          ],
          [
           370.84999999999997
          ],
          [
           373.1
          ],
          [
           375.41
          ],
          [
           377.36
          ],
          [
           379.61
          ],
          [
           381.81
          ],
          [
           383.59
          ],
          [
           385.45
          ],
          [
           387.36
          ],
          [
           389.9
          ],
          [
           391.65
          ],
          [
           393.87
          ],
          [
           396.56999999999994
          ],
          [
           398.61
          ],
          [
           400.79
          ],
          [
           404.28
          ],
          [
           369.47
          ],
          [
           370.84999999999997
          ],
          [
           373.1
          ],
          [
           375.41
          ],
          [
           377.36
          ],
          [
           379.61
          ],
          [
           381.81
          ],
          [
           383.59
          ],
          [
           385.45
          ],
          [
           387.36
          ],
          [
           389.9
          ],
          [
           391.65
          ],
          [
           393.87
          ],
          [
           396.56999999999994
          ],
          [
           398.61
          ],
          [
           400.79
          ],
          [
           404.28
          ]
         ],
         "domain": {
          "x": [
           0,
           1
          ],
          "y": [
           0,
           1
          ]
         },
         "hovertemplate": "labels=%{label}<br>Mean of Carbon Dioxide (ppm)_sum=%{value}<br>parent=%{parent}<br>id=%{id}<br>Mean of Carbon Dioxide (ppm)=%{color}<extra></extra>",
         "ids": [
          "369.47/2000",
          "370.85/2001",
          "373.1/2002",
          "375.41/2003",
          "377.36/2004",
          "379.61/2005",
          "381.81/2006",
          "383.59/2007",
          "385.45/2008",
          "387.36/2009",
          "389.9/2010",
          "391.65/2011",
          "393.87/2012",
          "396.57/2013",
          "398.61/2014",
          "400.79/2015",
          "404.28/2016",
          "369.47",
          "370.85",
          "373.1",
          "375.41",
          "377.36",
          "379.61",
          "381.81",
          "383.59",
          "385.45",
          "387.36",
          "389.9",
          "391.65",
          "393.87",
          "396.57",
          "398.61",
          "400.79",
          "404.28"
         ],
         "labels": [
          "2000",
          "2001",
          "2002",
          "2003",
          "2004",
          "2005",
          "2006",
          "2007",
          "2008",
          "2009",
          "2010",
          "2011",
          "2012",
          "2013",
          "2014",
          "2015",
          "2016",
          "369.47",
          "370.85",
          "373.1",
          "375.41",
          "377.36",
          "379.61",
          "381.81",
          "383.59",
          "385.45",
          "387.36",
          "389.9",
          "391.65",
          "393.87",
          "396.57",
          "398.61",
          "400.79",
          "404.28"
         ],
         "marker": {
          "coloraxis": "coloraxis",
          "colors": [
           369.47,
           370.84999999999997,
           373.1,
           375.41,
           377.36,
           379.61,
           381.81,
           383.59,
           385.45,
           387.36,
           389.9,
           391.65,
           393.87,
           396.56999999999994,
           398.61,
           400.79,
           404.28,
           369.47,
           370.84999999999997,
           373.1,
           375.41,
           377.36,
           379.61,
           381.81,
           383.59,
           385.45,
           387.36,
           389.9,
           391.65,
           393.87,
           396.56999999999994,
           398.61,
           400.79,
           404.28
          ]
         },
         "name": "",
         "parents": [
          "369.47",
          "370.85",
          "373.1",
          "375.41",
          "377.36",
          "379.61",
          "381.81",
          "383.59",
          "385.45",
          "387.36",
          "389.9",
          "391.65",
          "393.87",
          "396.57",
          "398.61",
          "400.79",
          "404.28",
          "",
          "",
          "",
          "",
          "",
          "",
          "",
          "",
          "",
          "",
          "",
          "",
          "",
          "",
          "",
          "",
          ""
         ],
         "type": "sunburst",
         "values": [
          369.47,
          370.85,
          373.1,
          375.41,
          377.36,
          379.61,
          381.81,
          383.59,
          385.45,
          387.36,
          389.9,
          391.65,
          393.87,
          396.57,
          398.61,
          400.79,
          404.28,
          369.47,
          370.85,
          373.1,
          375.41,
          377.36,
          379.61,
          381.81,
          383.59,
          385.45,
          387.36,
          389.9,
          391.65,
          393.87,
          396.57,
          398.61,
          400.79,
          404.28
         ]
        }
       ],
       "layout": {
        "coloraxis": {
         "colorbar": {
          "title": {
           "text": "Mean of Carbon Dioxide (ppm)"
          }
         },
         "colorscale": [
          [
           0,
           "rgb(103,0,31)"
          ],
          [
           0.1,
           "rgb(178,24,43)"
          ],
          [
           0.2,
           "rgb(214,96,77)"
          ],
          [
           0.3,
           "rgb(244,165,130)"
          ],
          [
           0.4,
           "rgb(253,219,199)"
          ],
          [
           0.5,
           "rgb(247,247,247)"
          ],
          [
           0.6,
           "rgb(209,229,240)"
          ],
          [
           0.7,
           "rgb(146,197,222)"
          ],
          [
           0.8,
           "rgb(67,147,195)"
          ],
          [
           0.9,
           "rgb(33,102,172)"
          ],
          [
           1,
           "rgb(5,48,97)"
          ]
         ]
        },
        "legend": {
         "tracegroupgap": 0
        },
        "margin": {
         "t": 60
        },
        "template": {
         "data": {
          "bar": [
           {
            "error_x": {
             "color": "#2a3f5f"
            },
            "error_y": {
             "color": "#2a3f5f"
            },
            "marker": {
             "line": {
              "color": "#E5ECF6",
              "width": 0.5
             },
             "pattern": {
              "fillmode": "overlay",
              "size": 10,
              "solidity": 0.2
             }
            },
            "type": "bar"
           }
          ],
          "barpolar": [
           {
            "marker": {
             "line": {
              "color": "#E5ECF6",
              "width": 0.5
             },
             "pattern": {
              "fillmode": "overlay",
              "size": 10,
              "solidity": 0.2
             }
            },
            "type": "barpolar"
           }
          ],
          "carpet": [
           {
            "aaxis": {
             "endlinecolor": "#2a3f5f",
             "gridcolor": "white",
             "linecolor": "white",
             "minorgridcolor": "white",
             "startlinecolor": "#2a3f5f"
            },
            "baxis": {
             "endlinecolor": "#2a3f5f",
             "gridcolor": "white",
             "linecolor": "white",
             "minorgridcolor": "white",
             "startlinecolor": "#2a3f5f"
            },
            "type": "carpet"
           }
          ],
          "choropleth": [
           {
            "colorbar": {
             "outlinewidth": 0,
             "ticks": ""
            },
            "type": "choropleth"
           }
          ],
          "contour": [
           {
            "colorbar": {
             "outlinewidth": 0,
             "ticks": ""
            },
            "colorscale": [
             [
              0,
              "#0d0887"
             ],
             [
              0.1111111111111111,
              "#46039f"
             ],
             [
              0.2222222222222222,
              "#7201a8"
             ],
             [
              0.3333333333333333,
              "#9c179e"
             ],
             [
              0.4444444444444444,
              "#bd3786"
             ],
             [
              0.5555555555555556,
              "#d8576b"
             ],
             [
              0.6666666666666666,
              "#ed7953"
             ],
             [
              0.7777777777777778,
              "#fb9f3a"
             ],
             [
              0.8888888888888888,
              "#fdca26"
             ],
             [
              1,
              "#f0f921"
             ]
            ],
            "type": "contour"
           }
          ],
          "contourcarpet": [
           {
            "colorbar": {
             "outlinewidth": 0,
             "ticks": ""
            },
            "type": "contourcarpet"
           }
          ],
          "heatmap": [
           {
            "colorbar": {
             "outlinewidth": 0,
             "ticks": ""
            },
            "colorscale": [
             [
              0,
              "#0d0887"
             ],
             [
              0.1111111111111111,
              "#46039f"
             ],
             [
              0.2222222222222222,
              "#7201a8"
             ],
             [
              0.3333333333333333,
              "#9c179e"
             ],
             [
              0.4444444444444444,
              "#bd3786"
             ],
             [
              0.5555555555555556,
              "#d8576b"
             ],
             [
              0.6666666666666666,
              "#ed7953"
             ],
             [
              0.7777777777777778,
              "#fb9f3a"
             ],
             [
              0.8888888888888888,
              "#fdca26"
             ],
             [
              1,
              "#f0f921"
             ]
            ],
            "type": "heatmap"
           }
          ],
          "heatmapgl": [
           {
            "colorbar": {
             "outlinewidth": 0,
             "ticks": ""
            },
            "colorscale": [
             [
              0,
              "#0d0887"
             ],
             [
              0.1111111111111111,
              "#46039f"
             ],
             [
              0.2222222222222222,
              "#7201a8"
             ],
             [
              0.3333333333333333,
              "#9c179e"
             ],
             [
              0.4444444444444444,
              "#bd3786"
             ],
             [
              0.5555555555555556,
              "#d8576b"
             ],
             [
              0.6666666666666666,
              "#ed7953"
             ],
             [
              0.7777777777777778,
              "#fb9f3a"
             ],
             [
              0.8888888888888888,
              "#fdca26"
             ],
             [
              1,
              "#f0f921"
             ]
            ],
            "type": "heatmapgl"
           }
          ],
          "histogram": [
           {
            "marker": {
             "pattern": {
              "fillmode": "overlay",
              "size": 10,
              "solidity": 0.2
             }
            },
            "type": "histogram"
           }
          ],
          "histogram2d": [
           {
            "colorbar": {
             "outlinewidth": 0,
             "ticks": ""
            },
            "colorscale": [
             [
              0,
              "#0d0887"
             ],
             [
              0.1111111111111111,
              "#46039f"
             ],
             [
              0.2222222222222222,
              "#7201a8"
             ],
             [
              0.3333333333333333,
              "#9c179e"
             ],
             [
              0.4444444444444444,
              "#bd3786"
             ],
             [
              0.5555555555555556,
              "#d8576b"
             ],
             [
              0.6666666666666666,
              "#ed7953"
             ],
             [
              0.7777777777777778,
              "#fb9f3a"
             ],
             [
              0.8888888888888888,
              "#fdca26"
             ],
             [
              1,
              "#f0f921"
             ]
            ],
            "type": "histogram2d"
           }
          ],
          "histogram2dcontour": [
           {
            "colorbar": {
             "outlinewidth": 0,
             "ticks": ""
            },
            "colorscale": [
             [
              0,
              "#0d0887"
             ],
             [
              0.1111111111111111,
              "#46039f"
             ],
             [
              0.2222222222222222,
              "#7201a8"
             ],
             [
              0.3333333333333333,
              "#9c179e"
             ],
             [
              0.4444444444444444,
              "#bd3786"
             ],
             [
              0.5555555555555556,
              "#d8576b"
             ],
             [
              0.6666666666666666,
              "#ed7953"
             ],
             [
              0.7777777777777778,
              "#fb9f3a"
             ],
             [
              0.8888888888888888,
              "#fdca26"
             ],
             [
              1,
              "#f0f921"
             ]
            ],
            "type": "histogram2dcontour"
           }
          ],
          "mesh3d": [
           {
            "colorbar": {
             "outlinewidth": 0,
             "ticks": ""
            },
            "type": "mesh3d"
           }
          ],
          "parcoords": [
           {
            "line": {
             "colorbar": {
              "outlinewidth": 0,
              "ticks": ""
             }
            },
            "type": "parcoords"
           }
          ],
          "pie": [
           {
            "automargin": true,
            "type": "pie"
           }
          ],
          "scatter": [
           {
            "fillpattern": {
             "fillmode": "overlay",
             "size": 10,
             "solidity": 0.2
            },
            "type": "scatter"
           }
          ],
          "scatter3d": [
           {
            "line": {
             "colorbar": {
              "outlinewidth": 0,
              "ticks": ""
             }
            },
            "marker": {
             "colorbar": {
              "outlinewidth": 0,
              "ticks": ""
             }
            },
            "type": "scatter3d"
           }
          ],
          "scattercarpet": [
           {
            "marker": {
             "colorbar": {
              "outlinewidth": 0,
              "ticks": ""
             }
            },
            "type": "scattercarpet"
           }
          ],
          "scattergeo": [
           {
            "marker": {
             "colorbar": {
              "outlinewidth": 0,
              "ticks": ""
             }
            },
            "type": "scattergeo"
           }
          ],
          "scattergl": [
           {
            "marker": {
             "colorbar": {
              "outlinewidth": 0,
              "ticks": ""
             }
            },
            "type": "scattergl"
           }
          ],
          "scattermapbox": [
           {
            "marker": {
             "colorbar": {
              "outlinewidth": 0,
              "ticks": ""
             }
            },
            "type": "scattermapbox"
           }
          ],
          "scatterpolar": [
           {
            "marker": {
             "colorbar": {
              "outlinewidth": 0,
              "ticks": ""
             }
            },
            "type": "scatterpolar"
           }
          ],
          "scatterpolargl": [
           {
            "marker": {
             "colorbar": {
              "outlinewidth": 0,
              "ticks": ""
             }
            },
            "type": "scatterpolargl"
           }
          ],
          "scatterternary": [
           {
            "marker": {
             "colorbar": {
              "outlinewidth": 0,
              "ticks": ""
             }
            },
            "type": "scatterternary"
           }
          ],
          "surface": [
           {
            "colorbar": {
             "outlinewidth": 0,
             "ticks": ""
            },
            "colorscale": [
             [
              0,
              "#0d0887"
             ],
             [
              0.1111111111111111,
              "#46039f"
             ],
             [
              0.2222222222222222,
              "#7201a8"
             ],
             [
              0.3333333333333333,
              "#9c179e"
             ],
             [
              0.4444444444444444,
              "#bd3786"
             ],
             [
              0.5555555555555556,
              "#d8576b"
             ],
             [
              0.6666666666666666,
              "#ed7953"
             ],
             [
              0.7777777777777778,
              "#fb9f3a"
             ],
             [
              0.8888888888888888,
              "#fdca26"
             ],
             [
              1,
              "#f0f921"
             ]
            ],
            "type": "surface"
           }
          ],
          "table": [
           {
            "cells": {
             "fill": {
              "color": "#EBF0F8"
             },
             "line": {
              "color": "white"
             }
            },
            "header": {
             "fill": {
              "color": "#C8D4E3"
             },
             "line": {
              "color": "white"
             }
            },
            "type": "table"
           }
          ]
         },
         "layout": {
          "annotationdefaults": {
           "arrowcolor": "#2a3f5f",
           "arrowhead": 0,
           "arrowwidth": 1
          },
          "autotypenumbers": "strict",
          "coloraxis": {
           "colorbar": {
            "outlinewidth": 0,
            "ticks": ""
           }
          },
          "colorscale": {
           "diverging": [
            [
             0,
             "#8e0152"
            ],
            [
             0.1,
             "#c51b7d"
            ],
            [
             0.2,
             "#de77ae"
            ],
            [
             0.3,
             "#f1b6da"
            ],
            [
             0.4,
             "#fde0ef"
            ],
            [
             0.5,
             "#f7f7f7"
            ],
            [
             0.6,
             "#e6f5d0"
            ],
            [
             0.7,
             "#b8e186"
            ],
            [
             0.8,
             "#7fbc41"
            ],
            [
             0.9,
             "#4d9221"
            ],
            [
             1,
             "#276419"
            ]
           ],
           "sequential": [
            [
             0,
             "#0d0887"
            ],
            [
             0.1111111111111111,
             "#46039f"
            ],
            [
             0.2222222222222222,
             "#7201a8"
            ],
            [
             0.3333333333333333,
             "#9c179e"
            ],
            [
             0.4444444444444444,
             "#bd3786"
            ],
            [
             0.5555555555555556,
             "#d8576b"
            ],
            [
             0.6666666666666666,
             "#ed7953"
            ],
            [
             0.7777777777777778,
             "#fb9f3a"
            ],
            [
             0.8888888888888888,
             "#fdca26"
            ],
            [
             1,
             "#f0f921"
            ]
           ],
           "sequentialminus": [
            [
             0,
             "#0d0887"
            ],
            [
             0.1111111111111111,
             "#46039f"
            ],
            [
             0.2222222222222222,
             "#7201a8"
            ],
            [
             0.3333333333333333,
             "#9c179e"
            ],
            [
             0.4444444444444444,
             "#bd3786"
            ],
            [
             0.5555555555555556,
             "#d8576b"
            ],
            [
             0.6666666666666666,
             "#ed7953"
            ],
            [
             0.7777777777777778,
             "#fb9f3a"
            ],
            [
             0.8888888888888888,
             "#fdca26"
            ],
            [
             1,
             "#f0f921"
            ]
           ]
          },
          "colorway": [
           "#636efa",
           "#EF553B",
           "#00cc96",
           "#ab63fa",
           "#FFA15A",
           "#19d3f3",
           "#FF6692",
           "#B6E880",
           "#FF97FF",
           "#FECB52"
          ],
          "font": {
           "color": "#2a3f5f"
          },
          "geo": {
           "bgcolor": "white",
           "lakecolor": "white",
           "landcolor": "#E5ECF6",
           "showlakes": true,
           "showland": true,
           "subunitcolor": "white"
          },
          "hoverlabel": {
           "align": "left"
          },
          "hovermode": "closest",
          "mapbox": {
           "style": "light"
          },
          "paper_bgcolor": "white",
          "plot_bgcolor": "#E5ECF6",
          "polar": {
           "angularaxis": {
            "gridcolor": "white",
            "linecolor": "white",
            "ticks": ""
           },
           "bgcolor": "#E5ECF6",
           "radialaxis": {
            "gridcolor": "white",
            "linecolor": "white",
            "ticks": ""
           }
          },
          "scene": {
           "xaxis": {
            "backgroundcolor": "#E5ECF6",
            "gridcolor": "white",
            "gridwidth": 2,
            "linecolor": "white",
            "showbackground": true,
            "ticks": "",
            "zerolinecolor": "white"
           },
           "yaxis": {
            "backgroundcolor": "#E5ECF6",
            "gridcolor": "white",
            "gridwidth": 2,
            "linecolor": "white",
            "showbackground": true,
            "ticks": "",
            "zerolinecolor": "white"
           },
           "zaxis": {
            "backgroundcolor": "#E5ECF6",
            "gridcolor": "white",
            "gridwidth": 2,
            "linecolor": "white",
            "showbackground": true,
            "ticks": "",
            "zerolinecolor": "white"
           }
          },
          "shapedefaults": {
           "line": {
            "color": "#2a3f5f"
           }
          },
          "ternary": {
           "aaxis": {
            "gridcolor": "white",
            "linecolor": "white",
            "ticks": ""
           },
           "baxis": {
            "gridcolor": "white",
            "linecolor": "white",
            "ticks": ""
           },
           "bgcolor": "#E5ECF6",
           "caxis": {
            "gridcolor": "white",
            "linecolor": "white",
            "ticks": ""
           }
          },
          "title": {
           "x": 0.05
          },
          "xaxis": {
           "automargin": true,
           "gridcolor": "white",
           "linecolor": "white",
           "ticks": "",
           "title": {
            "standoff": 15
           },
           "zerolinecolor": "white",
           "zerolinewidth": 2
          },
          "yaxis": {
           "automargin": true,
           "gridcolor": "white",
           "linecolor": "white",
           "ticks": "",
           "title": {
            "standoff": 15
           },
           "zerolinecolor": "white",
           "zerolinewidth": 2
          }
         }
        }
       }
      }
     },
     "metadata": {},
     "output_type": "display_data"
    }
   ],
   "source": [
    "#Visulaization of Year wise CO2 emitted\n",
    "\n",
    "fig =px.sunburst(\n",
    "    year_wise_df,\n",
    "    path=['Mean of Carbon Dioxide (ppm)','Year'],\n",
    "    values='Mean of Carbon Dioxide (ppm)',\n",
    "    color='Mean of Carbon Dioxide (ppm)',\n",
    "    color_continuous_scale='RdBu',)\n",
    "fig.show()\n"
   ]
  },
  {
   "cell_type": "code",
   "execution_count": 64,
   "metadata": {},
   "outputs": [
    {
     "data": {
      "application/vnd.plotly.v1+json": {
       "config": {
        "plotlyServerURL": "https://plot.ly"
       },
       "data": [
        {
         "branchvalues": "total",
         "customdata": [
          [
           369.47
          ],
          [
           371.01
          ],
          [
           373.09
          ],
          [
           375.63
          ],
          [
           377.36
          ],
          [
           379.59999999999997
          ],
          [
           381.80000000000007
          ],
          [
           383.5299999999999
          ],
          [
           385.45
          ],
          [
           387.35
          ],
          [
           389.88999999999993
          ],
          [
           391.64
          ],
          [
           393.87
          ],
          [
           396.56
          ],
          [
           398.64
          ],
          [
           400.88
          ],
          [
           404.2699999999999
          ],
          [
           369.47
          ],
          [
           371.01
          ],
          [
           373.09
          ],
          [
           375.63
          ],
          [
           377.36
          ],
          [
           379.59999999999997
          ],
          [
           381.80000000000007
          ],
          [
           383.5299999999999
          ],
          [
           385.45
          ],
          [
           387.35
          ],
          [
           389.88999999999993
          ],
          [
           391.64
          ],
          [
           393.87
          ],
          [
           396.56
          ],
          [
           398.64
          ],
          [
           400.88
          ],
          [
           404.2699999999999
          ]
         ],
         "domain": {
          "x": [
           0,
           1
          ],
          "y": [
           0,
           1
          ]
         },
         "hovertemplate": "labels=%{label}<br>Mean of Seasonally Adjusted CO2 (ppm)_sum=%{value}<br>parent=%{parent}<br>id=%{id}<br>Mean of Seasonally Adjusted CO2 (ppm)=%{color}<extra></extra>",
         "ids": [
          "369.47/2000",
          "371.01/2001",
          "373.09/2002",
          "375.63/2003",
          "377.36/2004",
          "379.6/2005",
          "381.8/2006",
          "383.53/2007",
          "385.45/2008",
          "387.35/2009",
          "389.89/2010",
          "391.64/2011",
          "393.87/2012",
          "396.56/2013",
          "398.64/2014",
          "400.88/2015",
          "404.27/2016",
          "369.47",
          "371.01",
          "373.09",
          "375.63",
          "377.36",
          "379.6",
          "381.8",
          "383.53",
          "385.45",
          "387.35",
          "389.89",
          "391.64",
          "393.87",
          "396.56",
          "398.64",
          "400.88",
          "404.27"
         ],
         "labels": [
          "2000",
          "2001",
          "2002",
          "2003",
          "2004",
          "2005",
          "2006",
          "2007",
          "2008",
          "2009",
          "2010",
          "2011",
          "2012",
          "2013",
          "2014",
          "2015",
          "2016",
          "369.47",
          "371.01",
          "373.09",
          "375.63",
          "377.36",
          "379.6",
          "381.8",
          "383.53",
          "385.45",
          "387.35",
          "389.89",
          "391.64",
          "393.87",
          "396.56",
          "398.64",
          "400.88",
          "404.27"
         ],
         "marker": {
          "coloraxis": "coloraxis",
          "colors": [
           369.47,
           371.01,
           373.09,
           375.63,
           377.36,
           379.59999999999997,
           381.80000000000007,
           383.5299999999999,
           385.45,
           387.35,
           389.88999999999993,
           391.64,
           393.87,
           396.56,
           398.64,
           400.88,
           404.2699999999999,
           369.47,
           371.01,
           373.09,
           375.63,
           377.36,
           379.59999999999997,
           381.80000000000007,
           383.5299999999999,
           385.45,
           387.35,
           389.88999999999993,
           391.64,
           393.87,
           396.56,
           398.64,
           400.88,
           404.2699999999999
          ]
         },
         "name": "",
         "parents": [
          "369.47",
          "371.01",
          "373.09",
          "375.63",
          "377.36",
          "379.6",
          "381.8",
          "383.53",
          "385.45",
          "387.35",
          "389.89",
          "391.64",
          "393.87",
          "396.56",
          "398.64",
          "400.88",
          "404.27",
          "",
          "",
          "",
          "",
          "",
          "",
          "",
          "",
          "",
          "",
          "",
          "",
          "",
          "",
          "",
          "",
          ""
         ],
         "type": "sunburst",
         "values": [
          369.47,
          371.01,
          373.09,
          375.63,
          377.36,
          379.6,
          381.8,
          383.53,
          385.45,
          387.35,
          389.89,
          391.64,
          393.87,
          396.56,
          398.64,
          400.88,
          404.27,
          369.47,
          371.01,
          373.09,
          375.63,
          377.36,
          379.6,
          381.8,
          383.53,
          385.45,
          387.35,
          389.89,
          391.64,
          393.87,
          396.56,
          398.64,
          400.88,
          404.27
         ]
        }
       ],
       "layout": {
        "coloraxis": {
         "colorbar": {
          "title": {
           "text": "Mean of Seasonally Adjusted CO2 (ppm)"
          }
         },
         "colorscale": [
          [
           0,
           "#0d0887"
          ],
          [
           0.1111111111111111,
           "#46039f"
          ],
          [
           0.2222222222222222,
           "#7201a8"
          ],
          [
           0.3333333333333333,
           "#9c179e"
          ],
          [
           0.4444444444444444,
           "#bd3786"
          ],
          [
           0.5555555555555556,
           "#d8576b"
          ],
          [
           0.6666666666666666,
           "#ed7953"
          ],
          [
           0.7777777777777778,
           "#fb9f3a"
          ],
          [
           0.8888888888888888,
           "#fdca26"
          ],
          [
           1,
           "#f0f921"
          ]
         ]
        },
        "legend": {
         "tracegroupgap": 0
        },
        "margin": {
         "t": 60
        },
        "template": {
         "data": {
          "bar": [
           {
            "error_x": {
             "color": "#2a3f5f"
            },
            "error_y": {
             "color": "#2a3f5f"
            },
            "marker": {
             "line": {
              "color": "#E5ECF6",
              "width": 0.5
             },
             "pattern": {
              "fillmode": "overlay",
              "size": 10,
              "solidity": 0.2
             }
            },
            "type": "bar"
           }
          ],
          "barpolar": [
           {
            "marker": {
             "line": {
              "color": "#E5ECF6",
              "width": 0.5
             },
             "pattern": {
              "fillmode": "overlay",
              "size": 10,
              "solidity": 0.2
             }
            },
            "type": "barpolar"
           }
          ],
          "carpet": [
           {
            "aaxis": {
             "endlinecolor": "#2a3f5f",
             "gridcolor": "white",
             "linecolor": "white",
             "minorgridcolor": "white",
             "startlinecolor": "#2a3f5f"
            },
            "baxis": {
             "endlinecolor": "#2a3f5f",
             "gridcolor": "white",
             "linecolor": "white",
             "minorgridcolor": "white",
             "startlinecolor": "#2a3f5f"
            },
            "type": "carpet"
           }
          ],
          "choropleth": [
           {
            "colorbar": {
             "outlinewidth": 0,
             "ticks": ""
            },
            "type": "choropleth"
           }
          ],
          "contour": [
           {
            "colorbar": {
             "outlinewidth": 0,
             "ticks": ""
            },
            "colorscale": [
             [
              0,
              "#0d0887"
             ],
             [
              0.1111111111111111,
              "#46039f"
             ],
             [
              0.2222222222222222,
              "#7201a8"
             ],
             [
              0.3333333333333333,
              "#9c179e"
             ],
             [
              0.4444444444444444,
              "#bd3786"
             ],
             [
              0.5555555555555556,
              "#d8576b"
             ],
             [
              0.6666666666666666,
              "#ed7953"
             ],
             [
              0.7777777777777778,
              "#fb9f3a"
             ],
             [
              0.8888888888888888,
              "#fdca26"
             ],
             [
              1,
              "#f0f921"
             ]
            ],
            "type": "contour"
           }
          ],
          "contourcarpet": [
           {
            "colorbar": {
             "outlinewidth": 0,
             "ticks": ""
            },
            "type": "contourcarpet"
           }
          ],
          "heatmap": [
           {
            "colorbar": {
             "outlinewidth": 0,
             "ticks": ""
            },
            "colorscale": [
             [
              0,
              "#0d0887"
             ],
             [
              0.1111111111111111,
              "#46039f"
             ],
             [
              0.2222222222222222,
              "#7201a8"
             ],
             [
              0.3333333333333333,
              "#9c179e"
             ],
             [
              0.4444444444444444,
              "#bd3786"
             ],
             [
              0.5555555555555556,
              "#d8576b"
             ],
             [
              0.6666666666666666,
              "#ed7953"
             ],
             [
              0.7777777777777778,
              "#fb9f3a"
             ],
             [
              0.8888888888888888,
              "#fdca26"
             ],
             [
              1,
              "#f0f921"
             ]
            ],
            "type": "heatmap"
           }
          ],
          "heatmapgl": [
           {
            "colorbar": {
             "outlinewidth": 0,
             "ticks": ""
            },
            "colorscale": [
             [
              0,
              "#0d0887"
             ],
             [
              0.1111111111111111,
              "#46039f"
             ],
             [
              0.2222222222222222,
              "#7201a8"
             ],
             [
              0.3333333333333333,
              "#9c179e"
             ],
             [
              0.4444444444444444,
              "#bd3786"
             ],
             [
              0.5555555555555556,
              "#d8576b"
             ],
             [
              0.6666666666666666,
              "#ed7953"
             ],
             [
              0.7777777777777778,
              "#fb9f3a"
             ],
             [
              0.8888888888888888,
              "#fdca26"
             ],
             [
              1,
              "#f0f921"
             ]
            ],
            "type": "heatmapgl"
           }
          ],
          "histogram": [
           {
            "marker": {
             "pattern": {
              "fillmode": "overlay",
              "size": 10,
              "solidity": 0.2
             }
            },
            "type": "histogram"
           }
          ],
          "histogram2d": [
           {
            "colorbar": {
             "outlinewidth": 0,
             "ticks": ""
            },
            "colorscale": [
             [
              0,
              "#0d0887"
             ],
             [
              0.1111111111111111,
              "#46039f"
             ],
             [
              0.2222222222222222,
              "#7201a8"
             ],
             [
              0.3333333333333333,
              "#9c179e"
             ],
             [
              0.4444444444444444,
              "#bd3786"
             ],
             [
              0.5555555555555556,
              "#d8576b"
             ],
             [
              0.6666666666666666,
              "#ed7953"
             ],
             [
              0.7777777777777778,
              "#fb9f3a"
             ],
             [
              0.8888888888888888,
              "#fdca26"
             ],
             [
              1,
              "#f0f921"
             ]
            ],
            "type": "histogram2d"
           }
          ],
          "histogram2dcontour": [
           {
            "colorbar": {
             "outlinewidth": 0,
             "ticks": ""
            },
            "colorscale": [
             [
              0,
              "#0d0887"
             ],
             [
              0.1111111111111111,
              "#46039f"
             ],
             [
              0.2222222222222222,
              "#7201a8"
             ],
             [
              0.3333333333333333,
              "#9c179e"
             ],
             [
              0.4444444444444444,
              "#bd3786"
             ],
             [
              0.5555555555555556,
              "#d8576b"
             ],
             [
              0.6666666666666666,
              "#ed7953"
             ],
             [
              0.7777777777777778,
              "#fb9f3a"
             ],
             [
              0.8888888888888888,
              "#fdca26"
             ],
             [
              1,
              "#f0f921"
             ]
            ],
            "type": "histogram2dcontour"
           }
          ],
          "mesh3d": [
           {
            "colorbar": {
             "outlinewidth": 0,
             "ticks": ""
            },
            "type": "mesh3d"
           }
          ],
          "parcoords": [
           {
            "line": {
             "colorbar": {
              "outlinewidth": 0,
              "ticks": ""
             }
            },
            "type": "parcoords"
           }
          ],
          "pie": [
           {
            "automargin": true,
            "type": "pie"
           }
          ],
          "scatter": [
           {
            "fillpattern": {
             "fillmode": "overlay",
             "size": 10,
             "solidity": 0.2
            },
            "type": "scatter"
           }
          ],
          "scatter3d": [
           {
            "line": {
             "colorbar": {
              "outlinewidth": 0,
              "ticks": ""
             }
            },
            "marker": {
             "colorbar": {
              "outlinewidth": 0,
              "ticks": ""
             }
            },
            "type": "scatter3d"
           }
          ],
          "scattercarpet": [
           {
            "marker": {
             "colorbar": {
              "outlinewidth": 0,
              "ticks": ""
             }
            },
            "type": "scattercarpet"
           }
          ],
          "scattergeo": [
           {
            "marker": {
             "colorbar": {
              "outlinewidth": 0,
              "ticks": ""
             }
            },
            "type": "scattergeo"
           }
          ],
          "scattergl": [
           {
            "marker": {
             "colorbar": {
              "outlinewidth": 0,
              "ticks": ""
             }
            },
            "type": "scattergl"
           }
          ],
          "scattermapbox": [
           {
            "marker": {
             "colorbar": {
              "outlinewidth": 0,
              "ticks": ""
             }
            },
            "type": "scattermapbox"
           }
          ],
          "scatterpolar": [
           {
            "marker": {
             "colorbar": {
              "outlinewidth": 0,
              "ticks": ""
             }
            },
            "type": "scatterpolar"
           }
          ],
          "scatterpolargl": [
           {
            "marker": {
             "colorbar": {
              "outlinewidth": 0,
              "ticks": ""
             }
            },
            "type": "scatterpolargl"
           }
          ],
          "scatterternary": [
           {
            "marker": {
             "colorbar": {
              "outlinewidth": 0,
              "ticks": ""
             }
            },
            "type": "scatterternary"
           }
          ],
          "surface": [
           {
            "colorbar": {
             "outlinewidth": 0,
             "ticks": ""
            },
            "colorscale": [
             [
              0,
              "#0d0887"
             ],
             [
              0.1111111111111111,
              "#46039f"
             ],
             [
              0.2222222222222222,
              "#7201a8"
             ],
             [
              0.3333333333333333,
              "#9c179e"
             ],
             [
              0.4444444444444444,
              "#bd3786"
             ],
             [
              0.5555555555555556,
              "#d8576b"
             ],
             [
              0.6666666666666666,
              "#ed7953"
             ],
             [
              0.7777777777777778,
              "#fb9f3a"
             ],
             [
              0.8888888888888888,
              "#fdca26"
             ],
             [
              1,
              "#f0f921"
             ]
            ],
            "type": "surface"
           }
          ],
          "table": [
           {
            "cells": {
             "fill": {
              "color": "#EBF0F8"
             },
             "line": {
              "color": "white"
             }
            },
            "header": {
             "fill": {
              "color": "#C8D4E3"
             },
             "line": {
              "color": "white"
             }
            },
            "type": "table"
           }
          ]
         },
         "layout": {
          "annotationdefaults": {
           "arrowcolor": "#2a3f5f",
           "arrowhead": 0,
           "arrowwidth": 1
          },
          "autotypenumbers": "strict",
          "coloraxis": {
           "colorbar": {
            "outlinewidth": 0,
            "ticks": ""
           }
          },
          "colorscale": {
           "diverging": [
            [
             0,
             "#8e0152"
            ],
            [
             0.1,
             "#c51b7d"
            ],
            [
             0.2,
             "#de77ae"
            ],
            [
             0.3,
             "#f1b6da"
            ],
            [
             0.4,
             "#fde0ef"
            ],
            [
             0.5,
             "#f7f7f7"
            ],
            [
             0.6,
             "#e6f5d0"
            ],
            [
             0.7,
             "#b8e186"
            ],
            [
             0.8,
             "#7fbc41"
            ],
            [
             0.9,
             "#4d9221"
            ],
            [
             1,
             "#276419"
            ]
           ],
           "sequential": [
            [
             0,
             "#0d0887"
            ],
            [
             0.1111111111111111,
             "#46039f"
            ],
            [
             0.2222222222222222,
             "#7201a8"
            ],
            [
             0.3333333333333333,
             "#9c179e"
            ],
            [
             0.4444444444444444,
             "#bd3786"
            ],
            [
             0.5555555555555556,
             "#d8576b"
            ],
            [
             0.6666666666666666,
             "#ed7953"
            ],
            [
             0.7777777777777778,
             "#fb9f3a"
            ],
            [
             0.8888888888888888,
             "#fdca26"
            ],
            [
             1,
             "#f0f921"
            ]
           ],
           "sequentialminus": [
            [
             0,
             "#0d0887"
            ],
            [
             0.1111111111111111,
             "#46039f"
            ],
            [
             0.2222222222222222,
             "#7201a8"
            ],
            [
             0.3333333333333333,
             "#9c179e"
            ],
            [
             0.4444444444444444,
             "#bd3786"
            ],
            [
             0.5555555555555556,
             "#d8576b"
            ],
            [
             0.6666666666666666,
             "#ed7953"
            ],
            [
             0.7777777777777778,
             "#fb9f3a"
            ],
            [
             0.8888888888888888,
             "#fdca26"
            ],
            [
             1,
             "#f0f921"
            ]
           ]
          },
          "colorway": [
           "#636efa",
           "#EF553B",
           "#00cc96",
           "#ab63fa",
           "#FFA15A",
           "#19d3f3",
           "#FF6692",
           "#B6E880",
           "#FF97FF",
           "#FECB52"
          ],
          "font": {
           "color": "#2a3f5f"
          },
          "geo": {
           "bgcolor": "white",
           "lakecolor": "white",
           "landcolor": "#E5ECF6",
           "showlakes": true,
           "showland": true,
           "subunitcolor": "white"
          },
          "hoverlabel": {
           "align": "left"
          },
          "hovermode": "closest",
          "mapbox": {
           "style": "light"
          },
          "paper_bgcolor": "white",
          "plot_bgcolor": "#E5ECF6",
          "polar": {
           "angularaxis": {
            "gridcolor": "white",
            "linecolor": "white",
            "ticks": ""
           },
           "bgcolor": "#E5ECF6",
           "radialaxis": {
            "gridcolor": "white",
            "linecolor": "white",
            "ticks": ""
           }
          },
          "scene": {
           "xaxis": {
            "backgroundcolor": "#E5ECF6",
            "gridcolor": "white",
            "gridwidth": 2,
            "linecolor": "white",
            "showbackground": true,
            "ticks": "",
            "zerolinecolor": "white"
           },
           "yaxis": {
            "backgroundcolor": "#E5ECF6",
            "gridcolor": "white",
            "gridwidth": 2,
            "linecolor": "white",
            "showbackground": true,
            "ticks": "",
            "zerolinecolor": "white"
           },
           "zaxis": {
            "backgroundcolor": "#E5ECF6",
            "gridcolor": "white",
            "gridwidth": 2,
            "linecolor": "white",
            "showbackground": true,
            "ticks": "",
            "zerolinecolor": "white"
           }
          },
          "shapedefaults": {
           "line": {
            "color": "#2a3f5f"
           }
          },
          "ternary": {
           "aaxis": {
            "gridcolor": "white",
            "linecolor": "white",
            "ticks": ""
           },
           "baxis": {
            "gridcolor": "white",
            "linecolor": "white",
            "ticks": ""
           },
           "bgcolor": "#E5ECF6",
           "caxis": {
            "gridcolor": "white",
            "linecolor": "white",
            "ticks": ""
           }
          },
          "title": {
           "x": 0.05
          },
          "xaxis": {
           "automargin": true,
           "gridcolor": "white",
           "linecolor": "white",
           "ticks": "",
           "title": {
            "standoff": 15
           },
           "zerolinecolor": "white",
           "zerolinewidth": 2
          },
          "yaxis": {
           "automargin": true,
           "gridcolor": "white",
           "linecolor": "white",
           "ticks": "",
           "title": {
            "standoff": 15
           },
           "zerolinecolor": "white",
           "zerolinewidth": 2
          }
         }
        }
       }
      }
     },
     "metadata": {},
     "output_type": "display_data"
    }
   ],
   "source": [
    "#Visulaization of Mean of Seasonally Adjusted CO2 per Year\n",
    "\n",
    "fig =px.sunburst(\n",
    "    year_wise_df,\n",
    "    path=['Mean of Seasonally Adjusted CO2 (ppm)','Year'],\n",
    "    values='Mean of Seasonally Adjusted CO2 (ppm)',\n",
    "    color='Mean of Seasonally Adjusted CO2 (ppm)')\n",
    "fig.show()"
   ]
  },
  {
   "cell_type": "code",
   "execution_count": 65,
   "metadata": {},
   "outputs": [
    {
     "data": {
      "image/png": "[encoded data removed]",
      "text/plain": [
       "<Figure size 1500x1000 with 1 Axes>"
      ]
     },
     "metadata": {},
     "output_type": "display_data"
    }
   ],
   "source": [
    "x1=year_wise_df['Year']\n",
    "y1=year_wise_df[\"Mean of Carbon Dioxide (ppm)\"]\n",
    "\n",
    "plt.figure(figsize = (15, 10))\n",
    "\n",
    "plt.plot(x1, y1, c='r',linewidth = '1.5', marker='o')\n",
    "plt.xlabel(\"Year\")\n",
    "plt.ylabel(\"Carbon Dioxide emmited (ppm)\")\n",
    "\n",
    "plt.grid()\n",
    "plt.show()"
   ]
  },
  {
   "attachments": {},
   "cell_type": "markdown",
   "metadata": {},
   "source": [
    "From the graph above we can see that crbon emissions through the years has been continously increasing and this is not a great sign for our future."
   ]
  },
  {
   "attachments": {},
   "cell_type": "markdown",
   "metadata": {},
   "source": [
    "Prediction Model"
   ]
  },
  {
   "cell_type": "code",
   "execution_count": 66,
   "metadata": {},
   "outputs": [],
   "source": [
    "#new_row = pd.Series(data={'Year':2017,'Mean of Carbon Dioxide (ppm)':np.nan,'Mean of Seasonally Adjusted CO2 (ppm)':np.nan })\n",
    "\n",
    "#year_wise_df.append(new_row, ignore_index=True)"
   ]
  },
  {
   "cell_type": "code",
   "execution_count": 67,
   "metadata": {},
   "outputs": [],
   "source": [
    "from sklearn.model_selection import train_test_split \n",
    "from sklearn.linear_model import LinearRegression"
   ]
  },
  {
   "cell_type": "code",
   "execution_count": 68,
   "metadata": {},
   "outputs": [
    {
     "data": {
      "text/plain": [
       "0.9957504399376055"
      ]
     },
     "execution_count": 68,
     "metadata": {},
     "output_type": "execute_result"
    }
   ],
   "source": [
    "X=year_wise_df['Year'].values.reshape(-1,1)\n",
    "y=year_wise_df['Mean of Carbon Dioxide (ppm)'].values.reshape(-1,1)\n",
    "\n",
    "X_train,X_test,y_train,y_test= train_test_split(X,y,test_size=0.6, random_state=0)\n",
    "\n",
    "rg= LinearRegression()\n",
    "rg.fit(X_train, y_train)\n",
    "\n",
    "y_pred=rg.predict(X_test)\n",
    "\n",
    "pred_list=[]\n",
    "\n",
    "for i in range(2000,2025):\n",
    "    pred_list.append(i)\n",
    "\n",
    "pred_list=np.array(pred_list).reshape(-1,1)\n",
    "pred=rg.predict(pred_list)\n",
    "\n",
    "from sklearn.metrics import r2_score\n",
    "\n",
    "r2_score(y_test, y_pred)"
   ]
  },
  {
   "cell_type": "code",
   "execution_count": 72,
   "metadata": {},
   "outputs": [
    {
     "data": {
      "text/plain": [
       "array([[2000],\n",
       "       [2001],\n",
       "       [2002],\n",
       "       [2003],\n",
       "       [2004],\n",
       "       [2005],\n",
       "       [2006],\n",
       "       [2007],\n",
       "       [2008],\n",
       "       [2009],\n",
       "       [2010],\n",
       "       [2011],\n",
       "       [2012],\n",
       "       [2013],\n",
       "       [2014],\n",
       "       [2015],\n",
       "       [2016]], dtype=int64)"
      ]
     },
     "execution_count": 72,
     "metadata": {},
     "output_type": "execute_result"
    }
   ],
   "source": [
    "X"
   ]
  },
  {
   "cell_type": "code",
   "execution_count": 69,
   "metadata": {},
   "outputs": [
    {
     "data": {
      "application/vnd.plotly.v1+json": {
       "config": {
        "plotlyServerURL": "https://plot.ly"
       },
       "data": [
        {
         "line": {
          "color": "red"
         },
         "mode": "lines",
         "name": "Predicted",
         "type": "scatter",
         "x": [
          2000,
          2001,
          2002,
          2003,
          2004,
          2005,
          2006,
          2007,
          2008,
          2009,
          2010,
          2011,
          2012,
          2013,
          2014,
          2015,
          2016,
          2017,
          2018,
          2019,
          2020,
          2021,
          2022,
          2023,
          2024
         ],
         "y": [
          369.2666147859918,
          371.33618677042705,
          373.4057587548632,
          375.47533073929935,
          377.5449027237346,
          379.61447470817075,
          381.684046692606,
          383.75361867704214,
          385.8231906614783,
          387.89276264591354,
          389.9623346303497,
          392.03190661478584,
          394.1014785992211,
          396.17105058365723,
          398.2406225680925,
          400.3101945525286,
          402.3797665369648,
          404.4493385214,
          406.5189105058362,
          408.5884824902714,
          410.65805447470757,
          412.7276264591437,
          414.79719844357896,
          416.8667704280151,
          418.93634241245036
         ]
        },
        {
         "line": {
          "color": "blue"
         },
         "mode": "markers",
         "name": "Actual",
         "type": "scatter",
         "x": [
          2001,
          2006,
          2008,
          2009,
          2013,
          2004,
          2002,
          2014,
          2010,
          2007,
          2016
         ],
         "y": [
          370.85,
          381.81,
          385.45,
          387.36,
          396.57,
          377.36,
          373.1,
          398.61,
          389.9,
          383.59,
          404.28
         ]
        }
       ],
       "layout": {
        "legend": {
         "x": 0,
         "y": 1
        },
        "margin": {
         "b": 50,
         "l": 0,
         "r": 0,
         "t": 50
        },
        "template": {
         "data": {
          "bar": [
           {
            "error_x": {
             "color": "#2a3f5f"
            },
            "error_y": {
             "color": "#2a3f5f"
            },
            "marker": {
             "line": {
              "color": "#E5ECF6",
              "width": 0.5
             },
             "pattern": {
              "fillmode": "overlay",
              "size": 10,
              "solidity": 0.2
             }
            },
            "type": "bar"
           }
          ],
          "barpolar": [
           {
            "marker": {
             "line": {
              "color": "#E5ECF6",
              "width": 0.5
             },
             "pattern": {
              "fillmode": "overlay",
              "size": 10,
              "solidity": 0.2
             }
            },
            "type": "barpolar"
           }
          ],
          "carpet": [
           {
            "aaxis": {
             "endlinecolor": "#2a3f5f",
             "gridcolor": "white",
             "linecolor": "white",
             "minorgridcolor": "white",
             "startlinecolor": "#2a3f5f"
            },
            "baxis": {
             "endlinecolor": "#2a3f5f",
             "gridcolor": "white",
             "linecolor": "white",
             "minorgridcolor": "white",
             "startlinecolor": "#2a3f5f"
            },
            "type": "carpet"
           }
          ],
          "choropleth": [
           {
            "colorbar": {
             "outlinewidth": 0,
             "ticks": ""
            },
            "type": "choropleth"
           }
          ],
          "contour": [
           {
            "colorbar": {
             "outlinewidth": 0,
             "ticks": ""
            },
            "colorscale": [
             [
              0,
              "#0d0887"
             ],
             [
              0.1111111111111111,
              "#46039f"
             ],
             [
              0.2222222222222222,
              "#7201a8"
             ],
             [
              0.3333333333333333,
              "#9c179e"
             ],
             [
              0.4444444444444444,
              "#bd3786"
             ],
             [
              0.5555555555555556,
              "#d8576b"
             ],
             [
              0.6666666666666666,
              "#ed7953"
             ],
             [
              0.7777777777777778,
              "#fb9f3a"
             ],
             [
              0.8888888888888888,
              "#fdca26"
             ],
             [
              1,
              "#f0f921"
             ]
            ],
            "type": "contour"
           }
          ],
          "contourcarpet": [
           {
            "colorbar": {
             "outlinewidth": 0,
             "ticks": ""
            },
            "type": "contourcarpet"
           }
          ],
          "heatmap": [
           {
            "colorbar": {
             "outlinewidth": 0,
             "ticks": ""
            },
            "colorscale": [
             [
              0,
              "#0d0887"
             ],
             [
              0.1111111111111111,
              "#46039f"
             ],
             [
              0.2222222222222222,
              "#7201a8"
             ],
             [
              0.3333333333333333,
              "#9c179e"
             ],
             [
              0.4444444444444444,
              "#bd3786"
             ],
             [
              0.5555555555555556,
              "#d8576b"
             ],
             [
              0.6666666666666666,
              "#ed7953"
             ],
             [
              0.7777777777777778,
              "#fb9f3a"
             ],
             [
              0.8888888888888888,
              "#fdca26"
             ],
             [
              1,
              "#f0f921"
             ]
            ],
            "type": "heatmap"
           }
          ],
          "heatmapgl": [
           {
            "colorbar": {
             "outlinewidth": 0,
             "ticks": ""
            },
            "colorscale": [
             [
              0,
              "#0d0887"
             ],
             [
              0.1111111111111111,
              "#46039f"
             ],
             [
              0.2222222222222222,
              "#7201a8"
             ],
             [
              0.3333333333333333,
              "#9c179e"
             ],
             [
              0.4444444444444444,
              "#bd3786"
             ],
             [
              0.5555555555555556,
              "#d8576b"
             ],
             [
              0.6666666666666666,
              "#ed7953"
             ],
             [
              0.7777777777777778,
              "#fb9f3a"
             ],
             [
              0.8888888888888888,
              "#fdca26"
             ],
             [
              1,
              "#f0f921"
             ]
            ],
            "type": "heatmapgl"
           }
          ],
          "histogram": [
           {
            "marker": {
             "pattern": {
              "fillmode": "overlay",
              "size": 10,
              "solidity": 0.2
             }
            },
            "type": "histogram"
           }
          ],
          "histogram2d": [
           {
            "colorbar": {
             "outlinewidth": 0,
             "ticks": ""
            },
            "colorscale": [
             [
              0,
              "#0d0887"
             ],
             [
              0.1111111111111111,
              "#46039f"
             ],
             [
              0.2222222222222222,
              "#7201a8"
             ],
             [
              0.3333333333333333,
              "#9c179e"
             ],
             [
              0.4444444444444444,
              "#bd3786"
             ],
             [
              0.5555555555555556,
              "#d8576b"
             ],
             [
              0.6666666666666666,
              "#ed7953"
             ],
             [
              0.7777777777777778,
              "#fb9f3a"
             ],
             [
              0.8888888888888888,
              "#fdca26"
             ],
             [
              1,
              "#f0f921"
             ]
            ],
            "type": "histogram2d"
           }
          ],
          "histogram2dcontour": [
           {
            "colorbar": {
             "outlinewidth": 0,
             "ticks": ""
            },
            "colorscale": [
             [
              0,
              "#0d0887"
             ],
             [
              0.1111111111111111,
              "#46039f"
             ],
             [
              0.2222222222222222,
              "#7201a8"
             ],
             [
              0.3333333333333333,
              "#9c179e"
             ],
             [
              0.4444444444444444,
              "#bd3786"
             ],
             [
              0.5555555555555556,
              "#d8576b"
             ],
             [
              0.6666666666666666,
              "#ed7953"
             ],
             [
              0.7777777777777778,
              "#fb9f3a"
             ],
             [
              0.8888888888888888,
              "#fdca26"
             ],
             [
              1,
              "#f0f921"
             ]
            ],
            "type": "histogram2dcontour"
           }
          ],
          "mesh3d": [
           {
            "colorbar": {
             "outlinewidth": 0,
             "ticks": ""
            },
            "type": "mesh3d"
           }
          ],
          "parcoords": [
           {
            "line": {
             "colorbar": {
              "outlinewidth": 0,
              "ticks": ""
             }
            },
            "type": "parcoords"
           }
          ],
          "pie": [
           {
            "automargin": true,
            "type": "pie"
           }
          ],
          "scatter": [
           {
            "fillpattern": {
             "fillmode": "overlay",
             "size": 10,
             "solidity": 0.2
            },
            "type": "scatter"
           }
          ],
          "scatter3d": [
           {
            "line": {
             "colorbar": {
              "outlinewidth": 0,
              "ticks": ""
             }
            },
            "marker": {
             "colorbar": {
              "outlinewidth": 0,
              "ticks": ""
             }
            },
            "type": "scatter3d"
           }
          ],
          "scattercarpet": [
           {
            "marker": {
             "colorbar": {
              "outlinewidth": 0,
              "ticks": ""
             }
            },
            "type": "scattercarpet"
           }
          ],
          "scattergeo": [
           {
            "marker": {
             "colorbar": {
              "outlinewidth": 0,
              "ticks": ""
             }
            },
            "type": "scattergeo"
           }
          ],
          "scattergl": [
           {
            "marker": {
             "colorbar": {
              "outlinewidth": 0,
              "ticks": ""
             }
            },
            "type": "scattergl"
           }
          ],
          "scattermapbox": [
           {
            "marker": {
             "colorbar": {
              "outlinewidth": 0,
              "ticks": ""
             }
            },
            "type": "scattermapbox"
           }
          ],
          "scatterpolar": [
           {
            "marker": {
             "colorbar": {
              "outlinewidth": 0,
              "ticks": ""
             }
            },
            "type": "scatterpolar"
           }
          ],
          "scatterpolargl": [
           {
            "marker": {
             "colorbar": {
              "outlinewidth": 0,
              "ticks": ""
             }
            },
            "type": "scatterpolargl"
           }
          ],
          "scatterternary": [
           {
            "marker": {
             "colorbar": {
              "outlinewidth": 0,
              "ticks": ""
             }
            },
            "type": "scatterternary"
           }
          ],
          "surface": [
           {
            "colorbar": {
             "outlinewidth": 0,
             "ticks": ""
            },
            "colorscale": [
             [
              0,
              "#0d0887"
             ],
             [
              0.1111111111111111,
              "#46039f"
             ],
             [
              0.2222222222222222,
              "#7201a8"
             ],
             [
              0.3333333333333333,
              "#9c179e"
             ],
             [
              0.4444444444444444,
              "#bd3786"
             ],
             [
              0.5555555555555556,
              "#d8576b"
             ],
             [
              0.6666666666666666,
              "#ed7953"
             ],
             [
              0.7777777777777778,
              "#fb9f3a"
             ],
             [
              0.8888888888888888,
              "#fdca26"
             ],
             [
              1,
              "#f0f921"
             ]
            ],
            "type": "surface"
           }
          ],
          "table": [
           {
            "cells": {
             "fill": {
              "color": "#EBF0F8"
             },
             "line": {
              "color": "white"
             }
            },
            "header": {
             "fill": {
              "color": "#C8D4E3"
             },
             "line": {
              "color": "white"
             }
            },
            "type": "table"
           }
          ]
         },
         "layout": {
          "annotationdefaults": {
           "arrowcolor": "#2a3f5f",
           "arrowhead": 0,
           "arrowwidth": 1
          },
          "autotypenumbers": "strict",
          "coloraxis": {
           "colorbar": {
            "outlinewidth": 0,
            "ticks": ""
           }
          },
          "colorscale": {
           "diverging": [
            [
             0,
             "#8e0152"
            ],
            [
             0.1,
             "#c51b7d"
            ],
            [
             0.2,
             "#de77ae"
            ],
            [
             0.3,
             "#f1b6da"
            ],
            [
             0.4,
             "#fde0ef"
            ],
            [
             0.5,
             "#f7f7f7"
            ],
            [
             0.6,
             "#e6f5d0"
            ],
            [
             0.7,
             "#b8e186"
            ],
            [
             0.8,
             "#7fbc41"
            ],
            [
             0.9,
             "#4d9221"
            ],
            [
             1,
             "#276419"
            ]
           ],
           "sequential": [
            [
             0,
             "#0d0887"
            ],
            [
             0.1111111111111111,
             "#46039f"
            ],
            [
             0.2222222222222222,
             "#7201a8"
            ],
            [
             0.3333333333333333,
             "#9c179e"
            ],
            [
             0.4444444444444444,
             "#bd3786"
            ],
            [
             0.5555555555555556,
             "#d8576b"
            ],
            [
             0.6666666666666666,
             "#ed7953"
            ],
            [
             0.7777777777777778,
             "#fb9f3a"
            ],
            [
             0.8888888888888888,
             "#fdca26"
            ],
            [
             1,
             "#f0f921"
            ]
           ],
           "sequentialminus": [
            [
             0,
             "#0d0887"
            ],
            [
             0.1111111111111111,
             "#46039f"
            ],
            [
             0.2222222222222222,
             "#7201a8"
            ],
            [
             0.3333333333333333,
             "#9c179e"
            ],
            [
             0.4444444444444444,
             "#bd3786"
            ],
            [
             0.5555555555555556,
             "#d8576b"
            ],
            [
             0.6666666666666666,
             "#ed7953"
            ],
            [
             0.7777777777777778,
             "#fb9f3a"
            ],
            [
             0.8888888888888888,
             "#fdca26"
            ],
            [
             1,
             "#f0f921"
            ]
           ]
          },
          "colorway": [
           "#636efa",
           "#EF553B",
           "#00cc96",
           "#ab63fa",
           "#FFA15A",
           "#19d3f3",
           "#FF6692",
           "#B6E880",
           "#FF97FF",
           "#FECB52"
          ],
          "font": {
           "color": "#2a3f5f"
          },
          "geo": {
           "bgcolor": "white",
           "lakecolor": "white",
           "landcolor": "#E5ECF6",
           "showlakes": true,
           "showland": true,
           "subunitcolor": "white"
          },
          "hoverlabel": {
           "align": "left"
          },
          "hovermode": "closest",
          "mapbox": {
           "style": "light"
          },
          "paper_bgcolor": "white",
          "plot_bgcolor": "#E5ECF6",
          "polar": {
           "angularaxis": {
            "gridcolor": "white",
            "linecolor": "white",
            "ticks": ""
           },
           "bgcolor": "#E5ECF6",
           "radialaxis": {
            "gridcolor": "white",
            "linecolor": "white",
            "ticks": ""
           }
          },
          "scene": {
           "xaxis": {
            "backgroundcolor": "#E5ECF6",
            "gridcolor": "white",
            "gridwidth": 2,
            "linecolor": "white",
            "showbackground": true,
            "ticks": "",
            "zerolinecolor": "white"
           },
           "yaxis": {
            "backgroundcolor": "#E5ECF6",
            "gridcolor": "white",
            "gridwidth": 2,
            "linecolor": "white",
            "showbackground": true,
            "ticks": "",
            "zerolinecolor": "white"
           },
           "zaxis": {
            "backgroundcolor": "#E5ECF6",
            "gridcolor": "white",
            "gridwidth": 2,
            "linecolor": "white",
            "showbackground": true,
            "ticks": "",
            "zerolinecolor": "white"
           }
          },
          "shapedefaults": {
           "line": {
            "color": "#2a3f5f"
           }
          },
          "ternary": {
           "aaxis": {
            "gridcolor": "white",
            "linecolor": "white",
            "ticks": ""
           },
           "baxis": {
            "gridcolor": "white",
            "linecolor": "white",
            "ticks": ""
           },
           "bgcolor": "#E5ECF6",
           "caxis": {
            "gridcolor": "white",
            "linecolor": "white",
            "ticks": ""
           }
          },
          "title": {
           "x": 0.05
          },
          "xaxis": {
           "automargin": true,
           "gridcolor": "white",
           "linecolor": "white",
           "ticks": "",
           "title": {
            "standoff": 15
           },
           "zerolinecolor": "white",
           "zerolinewidth": 2
          },
          "yaxis": {
           "automargin": true,
           "gridcolor": "white",
           "linecolor": "white",
           "ticks": "",
           "title": {
            "standoff": 15
           },
           "zerolinecolor": "white",
           "zerolinewidth": 2
          }
         }
        },
        "title": {
         "text": "Predicted vs Actual"
        },
        "xaxis": {
         "title": {
          "text": "Date"
         }
        },
        "yaxis": {
         "title": {
          "text": "Count"
         }
        }
       }
      }
     },
     "metadata": {},
     "output_type": "display_data"
    }
   ],
   "source": [
    "fig = go.Figure()\n",
    "fig.add_trace(go.Scatter(x=pred_list.reshape(-1), y=pred.reshape(-1), mode=\"lines\", line_color='red', name='Predicted'))\n",
    "fig.add_trace(go.Scatter(x=X_test.reshape(-1), y=y_test.reshape(-1), mode=\"markers\", line_color='blue', name='Actual'))\n",
    "fig.update_layout(title='Predicted vs Actual', legend=dict(x=0,y=1), xaxis_title='Date', yaxis_title='Count', margin=dict(l=0,r=0,t=50,b=50))"
   ]
  },
  {
   "cell_type": "code",
   "execution_count": 79,
   "metadata": {},
   "outputs": [],
   "source": [
    "import pickle \n",
    "pickle_out = open(\"carbon_model.pkl\", mode = \"wb\") \n",
    "pickle.dump(rg, pickle_out) \n",
    "pickle_out.close()"
   ]
  },
  {
   "cell_type": "code",
   "execution_count": 77,
   "metadata": {},
   "outputs": [
    {
     "ename": "ValueError",
     "evalue": "dtype='numeric' is not compatible with arrays of bytes/strings.Convert your data to numeric values explicitly instead.",
     "output_type": "error",
     "traceback": [
      "\u001b[1;31m---------------------------------------------------------------------------\u001b[0m",
      "\u001b[1;31mValueError\u001b[0m                                Traceback (most recent call last)",
      "\u001b[1;32m~\\AppData\\Local\\Temp\\ipykernel_17528\\2079415310.py\u001b[0m in \u001b[0;36m<module>\u001b[1;34m\u001b[0m\n\u001b[0;32m      1\u001b[0m \u001b[0myr\u001b[0m\u001b[1;33m=\u001b[0m \u001b[0mlist\u001b[0m\u001b[1;33m(\u001b[0m\u001b[0minput\u001b[0m\u001b[1;33m(\u001b[0m\u001b[1;34m\"Enter a year whose predicted Carbon Emission you wanat to find: \"\u001b[0m\u001b[1;33m)\u001b[0m\u001b[1;33m)\u001b[0m\u001b[1;33m\u001b[0m\u001b[1;33m\u001b[0m\u001b[0m\n\u001b[0;32m      2\u001b[0m \u001b[1;33m\u001b[0m\u001b[0m\n\u001b[1;32m----> 3\u001b[1;33m \u001b[0my_pred\u001b[0m \u001b[1;33m=\u001b[0m \u001b[0mrg\u001b[0m\u001b[1;33m.\u001b[0m\u001b[0mpredict\u001b[0m\u001b[1;33m(\u001b[0m\u001b[1;33m[\u001b[0m\u001b[0myr\u001b[0m\u001b[1;33m]\u001b[0m\u001b[1;33m)\u001b[0m\u001b[1;33m.\u001b[0m\u001b[0mreshape\u001b[0m\u001b[1;33m(\u001b[0m\u001b[1;33m-\u001b[0m\u001b[1;36m1\u001b[0m\u001b[1;33m,\u001b[0m\u001b[1;36m1\u001b[0m\u001b[1;33m)\u001b[0m\u001b[1;33m\u001b[0m\u001b[1;33m\u001b[0m\u001b[0m\n\u001b[0m\u001b[0;32m      4\u001b[0m \u001b[0my_pred\u001b[0m\u001b[1;33m\u001b[0m\u001b[1;33m\u001b[0m\u001b[0m\n",
      "\u001b[1;32mc:\\Users\\tanus\\Anaconda3\\lib\\site-packages\\sklearn\\linear_model\\_base.py\u001b[0m in \u001b[0;36mpredict\u001b[1;34m(self, X)\u001b[0m\n\u001b[0;32m    384\u001b[0m             \u001b[0mReturns\u001b[0m \u001b[0mpredicted\u001b[0m \u001b[0mvalues\u001b[0m\u001b[1;33m.\u001b[0m\u001b[1;33m\u001b[0m\u001b[1;33m\u001b[0m\u001b[0m\n\u001b[0;32m    385\u001b[0m         \"\"\"\n\u001b[1;32m--> 386\u001b[1;33m         \u001b[1;32mreturn\u001b[0m \u001b[0mself\u001b[0m\u001b[1;33m.\u001b[0m\u001b[0m_decision_function\u001b[0m\u001b[1;33m(\u001b[0m\u001b[0mX\u001b[0m\u001b[1;33m)\u001b[0m\u001b[1;33m\u001b[0m\u001b[1;33m\u001b[0m\u001b[0m\n\u001b[0m\u001b[0;32m    387\u001b[0m \u001b[1;33m\u001b[0m\u001b[0m\n\u001b[0;32m    388\u001b[0m     \u001b[1;32mdef\u001b[0m \u001b[0m_set_intercept\u001b[0m\u001b[1;33m(\u001b[0m\u001b[0mself\u001b[0m\u001b[1;33m,\u001b[0m \u001b[0mX_offset\u001b[0m\u001b[1;33m,\u001b[0m \u001b[0my_offset\u001b[0m\u001b[1;33m,\u001b[0m \u001b[0mX_scale\u001b[0m\u001b[1;33m)\u001b[0m\u001b[1;33m:\u001b[0m\u001b[1;33m\u001b[0m\u001b[1;33m\u001b[0m\u001b[0m\n",
      "\u001b[1;32mc:\\Users\\tanus\\Anaconda3\\lib\\site-packages\\sklearn\\linear_model\\_base.py\u001b[0m in \u001b[0;36m_decision_function\u001b[1;34m(self, X)\u001b[0m\n\u001b[0;32m    367\u001b[0m         \u001b[0mcheck_is_fitted\u001b[0m\u001b[1;33m(\u001b[0m\u001b[0mself\u001b[0m\u001b[1;33m)\u001b[0m\u001b[1;33m\u001b[0m\u001b[1;33m\u001b[0m\u001b[0m\n\u001b[0;32m    368\u001b[0m \u001b[1;33m\u001b[0m\u001b[0m\n\u001b[1;32m--> 369\u001b[1;33m         \u001b[0mX\u001b[0m \u001b[1;33m=\u001b[0m \u001b[0mself\u001b[0m\u001b[1;33m.\u001b[0m\u001b[0m_validate_data\u001b[0m\u001b[1;33m(\u001b[0m\u001b[0mX\u001b[0m\u001b[1;33m,\u001b[0m \u001b[0maccept_sparse\u001b[0m\u001b[1;33m=\u001b[0m\u001b[1;33m[\u001b[0m\u001b[1;34m\"csr\"\u001b[0m\u001b[1;33m,\u001b[0m \u001b[1;34m\"csc\"\u001b[0m\u001b[1;33m,\u001b[0m \u001b[1;34m\"coo\"\u001b[0m\u001b[1;33m]\u001b[0m\u001b[1;33m,\u001b[0m \u001b[0mreset\u001b[0m\u001b[1;33m=\u001b[0m\u001b[1;32mFalse\u001b[0m\u001b[1;33m)\u001b[0m\u001b[1;33m\u001b[0m\u001b[1;33m\u001b[0m\u001b[0m\n\u001b[0m\u001b[0;32m    370\u001b[0m         \u001b[1;32mreturn\u001b[0m \u001b[0msafe_sparse_dot\u001b[0m\u001b[1;33m(\u001b[0m\u001b[0mX\u001b[0m\u001b[1;33m,\u001b[0m \u001b[0mself\u001b[0m\u001b[1;33m.\u001b[0m\u001b[0mcoef_\u001b[0m\u001b[1;33m.\u001b[0m\u001b[0mT\u001b[0m\u001b[1;33m,\u001b[0m \u001b[0mdense_output\u001b[0m\u001b[1;33m=\u001b[0m\u001b[1;32mTrue\u001b[0m\u001b[1;33m)\u001b[0m \u001b[1;33m+\u001b[0m \u001b[0mself\u001b[0m\u001b[1;33m.\u001b[0m\u001b[0mintercept_\u001b[0m\u001b[1;33m\u001b[0m\u001b[1;33m\u001b[0m\u001b[0m\n\u001b[0;32m    371\u001b[0m \u001b[1;33m\u001b[0m\u001b[0m\n",
      "\u001b[1;32mc:\\Users\\tanus\\Anaconda3\\lib\\site-packages\\sklearn\\base.py\u001b[0m in \u001b[0;36m_validate_data\u001b[1;34m(self, X, y, reset, validate_separately, **check_params)\u001b[0m\n\u001b[0;32m    575\u001b[0m             \u001b[1;32mraise\u001b[0m \u001b[0mValueError\u001b[0m\u001b[1;33m(\u001b[0m\u001b[1;34m\"Validation should be done on X, y or both.\"\u001b[0m\u001b[1;33m)\u001b[0m\u001b[1;33m\u001b[0m\u001b[1;33m\u001b[0m\u001b[0m\n\u001b[0;32m    576\u001b[0m         \u001b[1;32melif\u001b[0m \u001b[1;32mnot\u001b[0m \u001b[0mno_val_X\u001b[0m \u001b[1;32mand\u001b[0m \u001b[0mno_val_y\u001b[0m\u001b[1;33m:\u001b[0m\u001b[1;33m\u001b[0m\u001b[1;33m\u001b[0m\u001b[0m\n\u001b[1;32m--> 577\u001b[1;33m             \u001b[0mX\u001b[0m \u001b[1;33m=\u001b[0m \u001b[0mcheck_array\u001b[0m\u001b[1;33m(\u001b[0m\u001b[0mX\u001b[0m\u001b[1;33m,\u001b[0m \u001b[0minput_name\u001b[0m\u001b[1;33m=\u001b[0m\u001b[1;34m\"X\"\u001b[0m\u001b[1;33m,\u001b[0m \u001b[1;33m**\u001b[0m\u001b[0mcheck_params\u001b[0m\u001b[1;33m)\u001b[0m\u001b[1;33m\u001b[0m\u001b[1;33m\u001b[0m\u001b[0m\n\u001b[0m\u001b[0;32m    578\u001b[0m             \u001b[0mout\u001b[0m \u001b[1;33m=\u001b[0m \u001b[0mX\u001b[0m\u001b[1;33m\u001b[0m\u001b[1;33m\u001b[0m\u001b[0m\n\u001b[0;32m    579\u001b[0m         \u001b[1;32melif\u001b[0m \u001b[0mno_val_X\u001b[0m \u001b[1;32mand\u001b[0m \u001b[1;32mnot\u001b[0m \u001b[0mno_val_y\u001b[0m\u001b[1;33m:\u001b[0m\u001b[1;33m\u001b[0m\u001b[1;33m\u001b[0m\u001b[0m\n",
      "\u001b[1;32mc:\\Users\\tanus\\Anaconda3\\lib\\site-packages\\sklearn\\utils\\validation.py\u001b[0m in \u001b[0;36mcheck_array\u001b[1;34m(array, accept_sparse, accept_large_sparse, dtype, order, copy, force_all_finite, ensure_2d, allow_nd, ensure_min_samples, ensure_min_features, estimator, input_name)\u001b[0m\n\u001b[0;32m    885\u001b[0m \u001b[1;33m\u001b[0m\u001b[0m\n\u001b[0;32m    886\u001b[0m         \u001b[1;32mif\u001b[0m \u001b[0mdtype_numeric\u001b[0m \u001b[1;32mand\u001b[0m \u001b[0marray\u001b[0m\u001b[1;33m.\u001b[0m\u001b[0mdtype\u001b[0m\u001b[1;33m.\u001b[0m\u001b[0mkind\u001b[0m \u001b[1;32min\u001b[0m \u001b[1;34m\"USV\"\u001b[0m\u001b[1;33m:\u001b[0m\u001b[1;33m\u001b[0m\u001b[1;33m\u001b[0m\u001b[0m\n\u001b[1;32m--> 887\u001b[1;33m             raise ValueError(\n\u001b[0m\u001b[0;32m    888\u001b[0m                 \u001b[1;34m\"dtype='numeric' is not compatible with arrays of bytes/strings.\"\u001b[0m\u001b[1;33m\u001b[0m\u001b[1;33m\u001b[0m\u001b[0m\n\u001b[0;32m    889\u001b[0m                 \u001b[1;34m\"Convert your data to numeric values explicitly instead.\"\u001b[0m\u001b[1;33m\u001b[0m\u001b[1;33m\u001b[0m\u001b[0m\n",
      "\u001b[1;31mValueError\u001b[0m: dtype='numeric' is not compatible with arrays of bytes/strings.Convert your data to numeric values explicitly instead."
     ]
    }
   ],
   "source": [
    "yr= list(input(\"Enter a year whose predicted Carbon Emission you wanat to find: \"))\n",
    "\n",
    "y_pred = rg.predict([yr]).reshape(-1,1)\n",
    "y_pred"
   ]
  },
  {
   "cell_type": "code",
   "execution_count": null,
   "metadata": {},
   "outputs": [],
   "source": []
  },
  {
   "cell_type": "code",
   "execution_count": null,
   "metadata": {},
   "outputs": [],
   "source": []
  }
 ],
 "metadata": {
  "kernelspec": {
   "display_name": "Python 3",
   "language": "python",
   "name": "python3"
  },
  "language_info": {
   "codemirror_mode": {
    "name": "ipython",
    "version": 3
   },
   "file_extension": ".py",
   "mimetype": "text/x-python",
   "name": "python",
   "nbconvert_exporter": "python",
   "pygments_lexer": "ipython3",
   "version": "3.8.15"
  },
  "vscode": {
   "interpreter": {
    "hash": "92970f67b726f11d7a4bcd6d4be45852f799f6a2706746339d81f115df8632ba"
   }
  }
 },
 "nbformat": 4,
 "nbformat_minor": 2
}
